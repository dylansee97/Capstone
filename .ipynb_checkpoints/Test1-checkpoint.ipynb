{
 "cells": [
  {
   "cell_type": "code",
   "execution_count": 1,
   "metadata": {
    "colab": {
     "base_uri": "https://localhost:8080/"
    },
    "id": "t_QhRzNVkNDH",
    "outputId": "e7314c3f-33d6-4989-ed22-a4967fc01605"
   },
   "outputs": [
    {
     "name": "stdout",
     "output_type": "stream",
     "text": [
      "Requirement already satisfied: spacy in /usr/local/lib/python3.7/dist-packages (2.2.4)\n",
      "Requirement already satisfied: blis<0.5.0,>=0.4.0 in /usr/local/lib/python3.7/dist-packages (from spacy) (0.4.1)\n",
      "Requirement already satisfied: cymem<2.1.0,>=2.0.2 in /usr/local/lib/python3.7/dist-packages (from spacy) (2.0.5)\n",
      "Requirement already satisfied: requests<3.0.0,>=2.13.0 in /usr/local/lib/python3.7/dist-packages (from spacy) (2.23.0)\n",
      "Requirement already satisfied: thinc==7.4.0 in /usr/local/lib/python3.7/dist-packages (from spacy) (7.4.0)\n",
      "Requirement already satisfied: srsly<1.1.0,>=1.0.2 in /usr/local/lib/python3.7/dist-packages (from spacy) (1.0.5)\n",
      "Requirement already satisfied: wasabi<1.1.0,>=0.4.0 in /usr/local/lib/python3.7/dist-packages (from spacy) (0.8.2)\n",
      "Requirement already satisfied: catalogue<1.1.0,>=0.0.7 in /usr/local/lib/python3.7/dist-packages (from spacy) (1.0.0)\n",
      "Requirement already satisfied: plac<1.2.0,>=0.9.6 in /usr/local/lib/python3.7/dist-packages (from spacy) (1.1.3)\n",
      "Requirement already satisfied: numpy>=1.15.0 in /usr/local/lib/python3.7/dist-packages (from spacy) (1.19.5)\n",
      "Requirement already satisfied: preshed<3.1.0,>=3.0.2 in /usr/local/lib/python3.7/dist-packages (from spacy) (3.0.5)\n",
      "Requirement already satisfied: setuptools in /usr/local/lib/python3.7/dist-packages (from spacy) (57.4.0)\n",
      "Requirement already satisfied: tqdm<5.0.0,>=4.38.0 in /usr/local/lib/python3.7/dist-packages (from spacy) (4.62.0)\n",
      "Requirement already satisfied: murmurhash<1.1.0,>=0.28.0 in /usr/local/lib/python3.7/dist-packages (from spacy) (1.0.5)\n",
      "Requirement already satisfied: importlib-metadata>=0.20 in /usr/local/lib/python3.7/dist-packages (from catalogue<1.1.0,>=0.0.7->spacy) (4.6.4)\n",
      "Requirement already satisfied: typing-extensions>=3.6.4 in /usr/local/lib/python3.7/dist-packages (from importlib-metadata>=0.20->catalogue<1.1.0,>=0.0.7->spacy) (3.7.4.3)\n",
      "Requirement already satisfied: zipp>=0.5 in /usr/local/lib/python3.7/dist-packages (from importlib-metadata>=0.20->catalogue<1.1.0,>=0.0.7->spacy) (3.5.0)\n",
      "Requirement already satisfied: certifi>=2017.4.17 in /usr/local/lib/python3.7/dist-packages (from requests<3.0.0,>=2.13.0->spacy) (2021.5.30)\n",
      "Requirement already satisfied: urllib3!=1.25.0,!=1.25.1,<1.26,>=1.21.1 in /usr/local/lib/python3.7/dist-packages (from requests<3.0.0,>=2.13.0->spacy) (1.24.3)\n",
      "Requirement already satisfied: idna<3,>=2.5 in /usr/local/lib/python3.7/dist-packages (from requests<3.0.0,>=2.13.0->spacy) (2.10)\n",
      "Requirement already satisfied: chardet<4,>=3.0.2 in /usr/local/lib/python3.7/dist-packages (from requests<3.0.0,>=2.13.0->spacy) (3.0.4)\n",
      "Collecting newspaper3k\n",
      "  Downloading newspaper3k-0.2.8-py3-none-any.whl (211 kB)\n",
      "\u001b[K     |████████████████████████████████| 211 kB 3.2 MB/s \n",
      "\u001b[?25hCollecting tinysegmenter==0.3\n",
      "  Downloading tinysegmenter-0.3.tar.gz (16 kB)\n",
      "Requirement already satisfied: requests>=2.10.0 in /usr/local/lib/python3.7/dist-packages (from newspaper3k) (2.23.0)\n",
      "Requirement already satisfied: lxml>=3.6.0 in /usr/local/lib/python3.7/dist-packages (from newspaper3k) (4.2.6)\n",
      "Requirement already satisfied: python-dateutil>=2.5.3 in /usr/local/lib/python3.7/dist-packages (from newspaper3k) (2.8.2)\n",
      "Collecting tldextract>=2.0.1\n",
      "  Downloading tldextract-3.1.2-py2.py3-none-any.whl (87 kB)\n",
      "\u001b[K     |████████████████████████████████| 87 kB 5.7 MB/s \n",
      "\u001b[?25hRequirement already satisfied: Pillow>=3.3.0 in /usr/local/lib/python3.7/dist-packages (from newspaper3k) (7.1.2)\n",
      "Requirement already satisfied: nltk>=3.2.1 in /usr/local/lib/python3.7/dist-packages (from newspaper3k) (3.2.5)\n",
      "Collecting feedparser>=5.2.1\n",
      "  Downloading feedparser-6.0.8-py3-none-any.whl (81 kB)\n",
      "\u001b[K     |████████████████████████████████| 81 kB 8.3 MB/s \n",
      "\u001b[?25hCollecting feedfinder2>=0.0.4\n",
      "  Downloading feedfinder2-0.0.4.tar.gz (3.3 kB)\n",
      "Requirement already satisfied: beautifulsoup4>=4.4.1 in /usr/local/lib/python3.7/dist-packages (from newspaper3k) (4.6.3)\n",
      "Requirement already satisfied: PyYAML>=3.11 in /usr/local/lib/python3.7/dist-packages (from newspaper3k) (3.13)\n",
      "Collecting cssselect>=0.9.2\n",
      "  Downloading cssselect-1.1.0-py2.py3-none-any.whl (16 kB)\n",
      "Collecting jieba3k>=0.35.1\n",
      "  Downloading jieba3k-0.35.1.zip (7.4 MB)\n",
      "\u001b[K     |████████████████████████████████| 7.4 MB 25.5 MB/s \n",
      "\u001b[?25hRequirement already satisfied: six in /usr/local/lib/python3.7/dist-packages (from feedfinder2>=0.0.4->newspaper3k) (1.15.0)\n",
      "Collecting sgmllib3k\n",
      "  Downloading sgmllib3k-1.0.0.tar.gz (5.8 kB)\n",
      "Requirement already satisfied: idna<3,>=2.5 in /usr/local/lib/python3.7/dist-packages (from requests>=2.10.0->newspaper3k) (2.10)\n",
      "Requirement already satisfied: chardet<4,>=3.0.2 in /usr/local/lib/python3.7/dist-packages (from requests>=2.10.0->newspaper3k) (3.0.4)\n",
      "Requirement already satisfied: certifi>=2017.4.17 in /usr/local/lib/python3.7/dist-packages (from requests>=2.10.0->newspaper3k) (2021.5.30)\n",
      "Requirement already satisfied: urllib3!=1.25.0,!=1.25.1,<1.26,>=1.21.1 in /usr/local/lib/python3.7/dist-packages (from requests>=2.10.0->newspaper3k) (1.24.3)\n",
      "Requirement already satisfied: filelock>=3.0.8 in /usr/local/lib/python3.7/dist-packages (from tldextract>=2.0.1->newspaper3k) (3.0.12)\n",
      "Collecting requests-file>=1.4\n",
      "  Downloading requests_file-1.5.1-py2.py3-none-any.whl (3.7 kB)\n",
      "Building wheels for collected packages: tinysegmenter, feedfinder2, jieba3k, sgmllib3k\n",
      "  Building wheel for tinysegmenter (setup.py) ... \u001b[?25l\u001b[?25hdone\n",
      "  Created wheel for tinysegmenter: filename=tinysegmenter-0.3-py3-none-any.whl size=13552 sha256=a0e8732c8dad4af034aad2f7eb7c34115a1da6747a23a6ca7d66f099f76f4291\n",
      "  Stored in directory: /root/.cache/pip/wheels/df/67/41/faca10fa501ca010be41b49d40360c2959e1c4f09bcbfa37fa\n",
      "  Building wheel for feedfinder2 (setup.py) ... \u001b[?25l\u001b[?25hdone\n",
      "  Created wheel for feedfinder2: filename=feedfinder2-0.0.4-py3-none-any.whl size=3356 sha256=badee4ed98bfd840df19cd56d5a370ab88ddfa699f60aeb809cba17d5070c464\n",
      "  Stored in directory: /root/.cache/pip/wheels/7f/d4/8f/6e2ca54744c9d7292d88ddb8d42876bcdab5e6d84a21c10346\n",
      "  Building wheel for jieba3k (setup.py) ... \u001b[?25l\u001b[?25hdone\n",
      "  Created wheel for jieba3k: filename=jieba3k-0.35.1-py3-none-any.whl size=7398405 sha256=56ce223d62fc21a39c7b34b503ce2914602f20bc3073ef01df1392a784268a91\n",
      "  Stored in directory: /root/.cache/pip/wheels/4c/91/46/3c208287b726df325a5979574324878b679116e4baae1af3c3\n",
      "  Building wheel for sgmllib3k (setup.py) ... \u001b[?25l\u001b[?25hdone\n",
      "  Created wheel for sgmllib3k: filename=sgmllib3k-1.0.0-py3-none-any.whl size=6065 sha256=07bbf4240e6bfac08a858c0d4a167fe8c91440f0b5f71e820676b91fc9d43617\n",
      "  Stored in directory: /root/.cache/pip/wheels/73/ad/a4/0dff4a6ef231fc0dfa12ffbac2a36cebfdddfe059f50e019aa\n",
      "Successfully built tinysegmenter feedfinder2 jieba3k sgmllib3k\n",
      "Installing collected packages: sgmllib3k, requests-file, tldextract, tinysegmenter, jieba3k, feedparser, feedfinder2, cssselect, newspaper3k\n",
      "Successfully installed cssselect-1.1.0 feedfinder2-0.0.4 feedparser-6.0.8 jieba3k-0.35.1 newspaper3k-0.2.8 requests-file-1.5.1 sgmllib3k-1.0.0 tinysegmenter-0.3 tldextract-3.1.2\n",
      "Collecting fuzzywuzzy\n",
      "  Downloading fuzzywuzzy-0.18.0-py2.py3-none-any.whl (18 kB)\n",
      "Installing collected packages: fuzzywuzzy\n",
      "Successfully installed fuzzywuzzy-0.18.0\n",
      "Collecting python-Levenshtein\n",
      "  Downloading python-Levenshtein-0.12.2.tar.gz (50 kB)\n",
      "\u001b[K     |████████████████████████████████| 50 kB 2.2 MB/s \n",
      "\u001b[?25hRequirement already satisfied: setuptools in /usr/local/lib/python3.7/dist-packages (from python-Levenshtein) (57.4.0)\n",
      "Building wheels for collected packages: python-Levenshtein\n",
      "  Building wheel for python-Levenshtein (setup.py) ... \u001b[?25l\u001b[?25hdone\n",
      "  Created wheel for python-Levenshtein: filename=python_Levenshtein-0.12.2-cp37-cp37m-linux_x86_64.whl size=149853 sha256=ee49c05c186ed6aa0a5f48c4ecbeefe90b082140de6dfa9d9d0bec424f6f58f4\n",
      "  Stored in directory: /root/.cache/pip/wheels/05/5f/ca/7c4367734892581bb5ff896f15027a932c551080b2abd3e00d\n",
      "Successfully built python-Levenshtein\n",
      "Installing collected packages: python-Levenshtein\n",
      "Successfully installed python-Levenshtein-0.12.2\n"
     ]
    }
   ],
   "source": [
    "!pip install spacy\n",
    "!pip install newspaper3k\n",
    "!pip install fuzzywuzzy\n",
    "!pip install python-Levenshtein"
   ]
  },
  {
   "cell_type": "code",
   "execution_count": 2,
   "metadata": {
    "colab": {
     "base_uri": "https://localhost:8080/"
    },
    "id": "BJygRlWBhQZr",
    "outputId": "f6747acb-26a7-4c10-838c-c588fcc1f368"
   },
   "outputs": [
    {
     "name": "stderr",
     "output_type": "stream",
     "text": [
      "/usr/local/lib/python3.7/dist-packages/nltk/twitter/__init__.py:20: UserWarning: The twython library has not been installed. Some functionality from the twitter package will not be available.\n",
      "  warnings.warn(\"The twython library has not been installed. \"\n"
     ]
    },
    {
     "name": "stdout",
     "output_type": "stream",
     "text": [
      "[nltk_data] Downloading package vader_lexicon to /root/nltk_data...\n"
     ]
    }
   ],
   "source": [
    "# parse article and get the entities, counts\n",
    "\n",
    "from urllib.request import Request, urlopen\n",
    "from bs4 import BeautifulSoup\n",
    "import requests\n",
    "from newspaper import Article\n",
    "import nltk\n",
    "from nltk.sentiment.vader import SentimentIntensityAnalyzer\n",
    "import pandas as pd\n",
    "import spacy\n",
    "from spacy import displacy\n",
    "from collections import Counter\n",
    "import en_core_web_sm\n",
    "\n",
    "nltk.download('vader_lexicon')\n",
    "nlp = en_core_web_sm.load()\n",
    "\n",
    "\n",
    "def article_extraction(link):\n",
    "    article = Article(link)\n",
    "    article.download()\n",
    "    article.parse()\n",
    "    return article.text\n",
    "\n",
    "def parse(link):\n",
    "    doc = nlp(article_extraction(link))\n",
    "    print([(X.text, X.label_) for X in doc.ents])\n",
    "    labels = [x.label_ for x in doc.ents]\n",
    "    print(Counter(labels))\n",
    "    items = [x.text for x in doc.ents]\n",
    "    print(Counter(items).most_common(10))\n"
   ]
  },
  {
   "cell_type": "code",
   "execution_count": 3,
   "metadata": {
    "colab": {
     "base_uri": "https://localhost:8080/"
    },
    "id": "OD-zpIDxZPAr",
    "outputId": "dd623a8b-3d1f-4032-f1b3-a8147086f432"
   },
   "outputs": [
    {
     "name": "stdout",
     "output_type": "stream",
     "text": [
      "50\n"
     ]
    }
   ],
   "source": [
    "# basic fuzzy score function\n",
    "from fuzzywuzzy import fuzz\n",
    "from fuzzywuzzy import process\n",
    "\n",
    "def fuzzy_name_score(n1, n2):\n",
    "  return fuzz.partial_ratio(n1, n2)\n",
    "\n",
    "print(fuzz.partial_ratio(\"shaun\", \"sean\"))"
   ]
  },
  {
   "cell_type": "code",
   "execution_count": 4,
   "metadata": {
    "id": "N63F0-3VTIt0"
   },
   "outputs": [],
   "source": [
    "# not finished\n",
    "# from sklearn.feature_extraction.text import CountVectorizer\n",
    "\n",
    "# def test(link):\n",
    "#   lst = []\n",
    "#   doc = article_extraction(link)\n",
    "#   lst.append(doc)\n",
    "#   count_vect = CountVectorizer()\n",
    "#   X_train_counts = count_vect.fit_transform(lst)\n",
    "#   print(X_train_counts.shape)"
   ]
  },
  {
   "cell_type": "code",
   "execution_count": 5,
   "metadata": {
    "colab": {
     "base_uri": "https://localhost:8080/"
    },
    "id": "IqOWsnatTFAS",
    "outputId": "6d1fff7b-19c8-4176-a16a-e5c9ee79b4b2"
   },
   "outputs": [
    {
     "name": "stdout",
     "output_type": "stream",
     "text": [
      "[('Donald Trump', 'PERSON'), ('2024', 'DATE'), ('Invalid', 'PERSON'), ('3rd', 'ORDINAL'), ('Trump', 'PERSON'), ('Joe Biden', 'PERSON'), ('last year', 'DATE'), ('recent months', 'DATE'), ('America', 'GPE'), ('Anthony Sabatini', 'PERSON'), ('Republican', 'NORP'), ('Express.co.uk', 'PERSON'), ('Donald Trump', 'PERSON'), ('the Oval Office', 'ORG'), ('100%', 'PERCENT'), ('Trump', 'PERSON'), ('Biden', 'PERSON'), ('Trump', 'WORK_OF_ART'), ('Republican', 'NORP'), ('Donald Trump', 'PERSON'), ('Donald', 'PERSON'), ('Melania Trump', 'PERSON'), ('Republican', 'NORP'), ('Tony Fabrizio', 'PERSON'), ('GOP', 'ORG'), ('July', 'DATE'), ('roughly half', 'CARDINAL'), ('Fabrizio', 'PERSON'), ('2020', 'CARDINAL'), ('Mr Sabitini', 'PERSON'), ('Congress', 'ORG'), ('next year', 'DATE'), ('Trump', 'PRODUCT'), ('Paul Merton', 'PERSON'), ('Brexit', 'PERSON'), ('Donald Trump', 'PERSON'), ('Anthony Sabatini', 'PERSON'), ('Reagan', 'PERSON'), ('Ron DeSantis', 'PERSON'), ('Florida', 'GPE'), ('GOP', 'ORG'), ('2024', 'DATE'), ('Republican', 'NORP'), ('Mr Fabrizio', 'PERSON'), ('Donald Trump', 'PERSON'), ('Capitol', 'NORP'), ('Donald Trump', 'PERSON'), ('Insight', 'PERSON'), ('Donald Trump', 'PERSON'), ('13', 'CARDINAL'), ('US', 'GPE'), ('Donald Trump', 'PERSON'), ('Mr Sabatini', 'PERSON'), ('Florida', 'GPE'), (\"Donald Trump's\", 'PERSON'), ('DeSantis', 'PERSON'), ('Trump', 'PERSON'), ('DeSantis', 'PERSON'), ('De Santis', 'ORG'), ('Trump', 'PERSON'), ('less than 50 years old', 'DATE'), ('Trump', 'PRODUCT'), ('Conservatives', 'NORP'), ('Donald Trump', 'PERSON'), ('2024', 'DATE'), ('Donald Trump', 'PERSON'), ('Vladimir Putin', 'PERSON')]\n",
      "Counter({'PERSON': 36, 'DATE': 8, 'NORP': 6, 'ORG': 5, 'GPE': 4, 'CARDINAL': 3, 'PRODUCT': 2, 'ORDINAL': 1, 'PERCENT': 1, 'WORK_OF_ART': 1})\n",
      "[('Donald Trump', 10), ('Trump', 7), ('Republican', 4), ('2024', 3), ('Anthony Sabatini', 2), ('GOP', 2), ('Florida', 2), ('DeSantis', 2), ('Invalid', 1), ('3rd', 1)]\n",
      "\n",
      "\n",
      "[('18', 'CARDINAL'), ('million', 'CARDINAL'), ('1MDB', 'ORG'), ('Datuk Seri', 'PERSON'), ('AmBank 9694', 'LAW'), ('Saifuddin Hashim Musaimi', 'PERSON'), ('Horng Bin', 'PERSON'), ('Harris Ong', 'PERSON'), ('Jeffrey Ong', 'PERSON'), ('the High Court', 'ORG'), ('Najib', 'ORG'), ('approximately RM2.9 billion', 'MONEY'), ('Good Star', 'ORG'), ('Aabar', 'GPE'), ('Tanore', 'GPE'), ('1MDB', 'PERSON'), ('Foo Wei Min', 'PERSON'), ('Foo', 'PERSON'), ('Saifuddin', 'PERSON'), ('Najib', 'ORG'), ('Datin Seri', 'PERSON'), ('Rosmah Mansor', 'PERSON'), ('Saifuddin', 'PERSON'), ('Liew', 'ORG'), ('third', 'ORDINAL'), ('Najib', 'ORG'), ('Rosmah', 'PERSON'), ('Nor Ashman Razak', 'PERSON'), ('Nooryana Najwa', 'PERSON'), ('Najib', 'ORG'), ('Riza Aziz', 'PERSON'), ('Goldman Sachs', 'ORG'), ('Roger Ng', 'PERSON'), ('Lim Hwee Bin', 'PERSON'), (\"Jho Low's\", 'PERSON'), ('Puan Sri', 'PERSON'), ('Mohd Kyizzad Mesran', 'PERSON'), ('Senijauhar Sdn Bhd', 'PERSON'), ('Aiman Ruslan', 'PERSON'), ('Yayasan Rakyat', 'PERSON'), ('Yayasan Semesta', 'PERSON'), ('Yayasan Mustika Kasih', 'PERSON'), ('Rembulan Kembara Sdn Bhd', 'PERSON'), ('1MDB', 'PERSON'), ('Kee Kok Thiam', 'PERSON'), ('Jho Low', 'PERSON'), ('263', 'CARDINAL'), ('Goh', 'PERSON'), ('Goh', 'PERSON'), ('M Puravalen', 'PERSON'), ('Datuk Tan Hock Chuan', 'PERSON'), ('Tania Scivetti', 'PERSON'), ('Najib', 'ORG'), ('Iskandar Shah Ibrahim', 'PERSON'), ('Azamuddin Abdul Aziz', 'PERSON'), ('Rosmah', 'PERSON'), ('Riza', 'PERSON'), ('Mohamed Zaini Mazlan', 'PERSON'), ('Nov 8', 'DATE')]\n",
      "Counter({'PERSON': 40, 'ORG': 10, 'CARDINAL': 3, 'GPE': 2, 'LAW': 1, 'MONEY': 1, 'ORDINAL': 1, 'DATE': 1})\n",
      "[('Najib', 5), ('1MDB', 3), ('Saifuddin', 2), ('Rosmah', 2), ('Goh', 2), ('18', 1), ('million', 1), ('Datuk Seri', 1), ('AmBank 9694', 1), ('Saifuddin Hashim Musaimi', 1)]\n",
      "\n",
      "\n",
      "[('SINGAPORE - Singaporean', 'NORP'), ('Ng Yu Zhi', 'PERSON'), ('at least $1.2 billion', 'MONEY'), ('34', 'DATE'), ('Monday', 'DATE'), ('Aug 30', 'LAW'), ('20', 'CARDINAL'), ('more than $16 million and US$200,000', 'MONEY'), ('51', 'CARDINAL'), ('Singapore', 'GPE'), ('Vickers Venture Partners', 'ORG'), ('Finian Tan', 'PERSON'), ('Law Society of Singapore', 'ORG'), ('Thio Shen Yi', 'PERSON'), ('Sunil Sudheesan', 'PERSON'), ('The Commercial Affairs Department', 'ORG'), ('about $100 million', 'MONEY'), ('Envy Global Trading', 'LOC'), ('Envy Asset Management', 'ORG'), ('The Monetary Authority of Singapore', 'ORG'), ('MAS', 'ORG'), ('March this year', 'DATE'), ('EAM', 'ORG'), ('MAS', 'ORG'), ('EAM', 'ORG'), ('March last year', 'DATE'), ('The Straits Times', 'ORG'), ('earlier this month', 'DATE'), ('EAM', 'ORG'), ('EGT', 'ORG'), ('$4 million', 'MONEY'), ('Oct 25', 'DATE'), ('up to 10 years', 'DATE'), ('up to 20 years', 'DATE'), ('up to four years', 'DATE')]\n",
      "Counter({'ORG': 12, 'DATE': 9, 'PERSON': 4, 'MONEY': 4, 'CARDINAL': 2, 'NORP': 1, 'LAW': 1, 'GPE': 1, 'LOC': 1})\n",
      "[('EAM', 3), ('MAS', 2), ('SINGAPORE - Singaporean', 1), ('Ng Yu Zhi', 1), ('at least $1.2 billion', 1), ('34', 1), ('Monday', 1), ('Aug 30', 1), ('20', 1), ('more than $16 million and US$200,000', 1)]\n",
      "\n",
      "\n",
      "(1, 306)\n"
     ]
    }
   ],
   "source": [
    "# Driver code\n",
    "if __name__ == \"__main__\" :\n",
    "    trump =\"https://www.express.co.uk/news/world/1483580/donald-trump-2024-republicans-ex-potus-anthony-sabatini-white-house-desantis-world-ont\"\n",
    "    najib = \"https://www.theedgemarkets.com/article/prosecution-najib-did-not-deny-ambank-account-received-illicit-money\"\n",
    "    lindan= \"https://www.thestar.com.my/sport/badminton/2021/08/03/the-fear-of-each-other-kept-lin-dan-chong-wei-rivalry-great\"\n",
    "    ngyuzhi = \"https://www.straitstimes.com/singapore/courts-crime/20-more-charges-for-spore-businessman-ng-yu-zhi-over-alleged-12-billion-fraud\"\n",
    "    parse(trump)\n",
    "    print(\"\\n\")\n",
    "    parse(najib)\n",
    "    print(\"\\n\")\n",
    "    parse(ngyuzhi)\n",
    "    print(\"\\n\")\n",
    "    # test(trump)"
   ]
  }
 ],
 "metadata": {
  "colab": {
   "name": "Test1.ipynb",
   "provenance": []
  },
  "kernelspec": {
   "display_name": "Python 3",
   "language": "python",
   "name": "python3"
  },
  "language_info": {
   "codemirror_mode": {
    "name": "ipython",
    "version": 3
   },
   "file_extension": ".py",
   "mimetype": "text/x-python",
   "name": "python",
   "nbconvert_exporter": "python",
   "pygments_lexer": "ipython3",
   "version": "3.8.3"
  }
 },
 "nbformat": 4,
 "nbformat_minor": 1
}
