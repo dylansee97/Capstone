{
 "cells": [
  {
   "cell_type": "code",
   "execution_count": 3,
   "metadata": {},
   "outputs": [
    {
     "name": "stderr",
     "output_type": "stream",
     "text": [
      "[nltk_data] Downloading package vader_lexicon to\n",
      "[nltk_data]     /Users/dylan/nltk_data...\n",
      "[nltk_data]   Package vader_lexicon is already up-to-date!\n"
     ]
    }
   ],
   "source": [
    "from urllib.request import Request, urlopen\n",
    "from bs4 import BeautifulSoup\n",
    "import requests\n",
    "from newspaper import Article\n",
    "import nltk\n",
    "nltk.download('vader_lexicon')\n",
    "from nltk.sentiment.vader import SentimentIntensityAnalyzer\n",
    "import pandas as pd"
   ]
  },
  {
   "cell_type": "code",
   "execution_count": 12,
   "metadata": {},
   "outputs": [],
   "source": [
    "lee_dict = {'name': 'lee yan ru', 'age': '24 years old', 'occupation': 'student'}\n"
   ]
  },
  {
   "cell_type": "code",
   "execution_count": 5,
   "metadata": {},
   "outputs": [],
   "source": [
    "new_words = {\n",
    "    'crushes': 10,\n",
    "    'beats': 5,\n",
    "    'misses': -5,\n",
    "    'trouble': -10,\n",
    "    'falls': -100,\n",
    "    'bankrupt': -100,\n",
    "    'fraud': -100,\n",
    "    'crime': -100,\n",
    "    'prison': -100,\n",
    "    'embezzlement': -100,\n",
    "    'money_trail':-100,\n",
    "    'jail': -100,\n",
    "    'sentenced':-100,\n",
    "    'forfeiture': -100,\n",
    "    'ill-gotten gain':-100,\n",
    "    'laundering':-100\n",
    "}\n",
    "\n",
    "\n",
    "vader = SentimentIntensityAnalyzer()\n",
    "\n",
    "vader.lexicon.update(new_words)"
   ]
  },
  {
   "cell_type": "code",
   "execution_count": 6,
   "metadata": {},
   "outputs": [],
   "source": [
    "def generate_link(identifier_dict, no_of_articles):\n",
    "    link_start = \"https://www.google.com/search?q=\"\n",
    "    link_end = \"&sxsrf=ALeKk01K1bOuJFHjy4HBARo1cRpUYakYPg:1629640327633&source=lnms&tbm=nws&sa=X&sqi=2&ved=2ahUKEwiu29um48TyAhWGqpUCHYuoAlcQ_AUoAnoECAEQBA&biw=1441&bih=718&dpr=2\" \n",
    "    link_query = \"\"\n",
    "    for identifier in identifier_dict.values():        \n",
    "        link_query += identifier.replace(' ','+') + '+'\n",
    "    return link_start + link_query + link_end + \"&num=\" + str(no_of_articles)\n",
    "\n",
    "def article_extraction(link):\n",
    "    article = Article(link)\n",
    "    article.download()\n",
    "    try:\n",
    "        article.parse()\n",
    "    except:\n",
    "        pass\n",
    "    return article.text\n",
    "\n",
    "def sentiment_analysis(text):\n",
    "    return vader.polarity_scores(text)\n"
   ]
  },
  {
   "cell_type": "code",
   "execution_count": 7,
   "metadata": {},
   "outputs": [
    {
     "name": "stdout",
     "output_type": "stream",
     "text": [
      "https://www.google.com/search?q=lee+yan+ru+24+years+old+studentt+&sxsrf=ALeKk01K1bOuJFHjy4HBARo1cRpUYakYPg:1629640327633&source=lnms&tbm=nws&sa=X&sqi=2&ved=2ahUKEwiu29um48TyAhWGqpUCHYuoAlcQ_AUoAnoECAEQBA&biw=1441&bih=718&dpr=2&num=30\n"
     ]
    }
   ],
   "source": [
    "testlink = generate_link(trump_dict, 30)\n",
    "print(testlink)"
   ]
  },
  {
   "cell_type": "code",
   "execution_count": 8,
   "metadata": {},
   "outputs": [],
   "source": [
    "# Main Function\n",
    "def search_articles_on_individual(individual_dict, no_of_articles):\n",
    "    def generate_link(identifier_dict, no_of_articles):\n",
    "        link_start = \"https://www.google.com/search?q=\"\n",
    "        link_end = \"&sxsrf=ALeKk01K1bOuJFHjy4HBARo1cRpUYakYPg:1629640327633&source=lnms&tbm=nws&sa=X&sqi=2&ved=2ahUKEwiu29um48TyAhWGqpUCHYuoAlcQ_AUoAnoECAEQBA&biw=1441&bih=718&dpr=2\" \n",
    "        link_query = \"\"\n",
    "        for identifier in identifier_dict.values():        \n",
    "            link_query += identifier.replace(' ','+') + '+'\n",
    "        return link_start + link_query + link_end + \"&num=\" + str(no_of_articles)\n",
    "    \n",
    "    link = generate_link(individual_dict, no_of_articles)\n",
    "    req = Request(link, headers = {'User-Agent': 'Mozilla/5.0'})\n",
    "\n",
    "    webpage = urlopen(req).read()\n",
    "\n",
    "    links = []\n",
    "    with requests.Session() as c:\n",
    "        soup = BeautifulSoup(webpage, 'html5lib')\n",
    "        #print(soup)\n",
    "        for item in soup.find_all('div', attrs = {'class': \"ZINbbc xpd O9g5cc uUPGi\"}):\n",
    "            current_dict = {}\n",
    "            raw_link = (item.find('a', href = True)['href'])\n",
    "            link = (raw_link.split(\"/url?q=\")[1]).split('&sa=U&')[0]\n",
    "            title = (item.find('div',attrs = {'class': 'BNeawe vvjwJb AP7Wnd'})).get_text()\n",
    "            description  = (item.find('div',attrs = {'class': 'BNeawe s3v9rd AP7Wnd'}).get_text())\n",
    "            time = description.split(\" · \")[0]\n",
    "            #print(description)\n",
    "            descript = description.split(\" · \")[1]\n",
    "            current_dict['title'] = title\n",
    "            current_dict['time'] = time\n",
    "            current_dict['description'] = descript\n",
    "            current_dict['link'] = link\n",
    "            current_dict['text'] = article_extraction(link)\n",
    "            current_dict['sentiment'] = sentiment_analysis(article_extraction(link))\n",
    "            links.append(current_dict)\n",
    "    return links"
   ]
  },
  {
   "cell_type": "code",
   "execution_count": 14,
   "metadata": {},
   "outputs": [],
   "source": [
    "lee_query = search_articles_on_individual(lee_dict, 30)\n"
   ]
  },
  {
   "cell_type": "code",
   "execution_count": 16,
   "metadata": {},
   "outputs": [
    {
     "data": {
      "text/html": [
       "<div>\n",
       "<style scoped>\n",
       "    .dataframe tbody tr th:only-of-type {\n",
       "        vertical-align: middle;\n",
       "    }\n",
       "\n",
       "    .dataframe tbody tr th {\n",
       "        vertical-align: top;\n",
       "    }\n",
       "\n",
       "    .dataframe thead th {\n",
       "        text-align: right;\n",
       "    }\n",
       "</style>\n",
       "<table border=\"1\" class=\"dataframe\">\n",
       "  <thead>\n",
       "    <tr style=\"text-align: right;\">\n",
       "      <th></th>\n",
       "      <th>title</th>\n",
       "      <th>time</th>\n",
       "      <th>description</th>\n",
       "      <th>link</th>\n",
       "      <th>text</th>\n",
       "      <th>sentiment</th>\n",
       "    </tr>\n",
       "  </thead>\n",
       "  <tbody>\n",
       "    <tr>\n",
       "      <th>0</th>\n",
       "      <td>SMU student found guilty of molesting woman at...</td>\n",
       "      <td>1 week ago</td>\n",
       "      <td>Follow us on Instagram and join our Telegram c...</td>\n",
       "      <td>https://www.todayonline.com/singapore/smu-stud...</td>\n",
       "      <td></td>\n",
       "      <td>{'neg': 0.0, 'neu': 0.0, 'pos': 0.0, 'compound...</td>\n",
       "    </tr>\n",
       "    <tr>\n",
       "      <th>1</th>\n",
       "      <td>'She was completely fine with all my advances'...</td>\n",
       "      <td>5 months ago</td>\n",
       "      <td>SINGAPORE: A 24-year-old man on trial for mole...</td>\n",
       "      <td>https://www.channelnewsasia.com/singapore/smu-...</td>\n",
       "      <td>SINGAPORE: A 24-year-old man on trial for mole...</td>\n",
       "      <td>{'neg': 0.019, 'neu': 0.864, 'pos': 0.117, 'co...</td>\n",
       "    </tr>\n",
       "    <tr>\n",
       "      <th>2</th>\n",
       "      <td>SMU student grilled on the stand about consent...</td>\n",
       "      <td>5 months ago</td>\n",
       "      <td>Under cross-examination from Deputy Public Pro...</td>\n",
       "      <td>https://www.channelnewsasia.com/singapore/smu-...</td>\n",
       "      <td>SINGAPORE: A Singapore Management University (...</td>\n",
       "      <td>{'neg': 0.029, 'neu': 0.885, 'pos': 0.087, 'co...</td>\n",
       "    </tr>\n",
       "    <tr>\n",
       "      <th>3</th>\n",
       "      <td>Woman testifies in trial of SMU student accuse...</td>\n",
       "      <td>12 months ago</td>\n",
       "      <td>The accused, 24-year-old Lee Yan Ru, is contes...</td>\n",
       "      <td>https://www.channelnewsasia.com/singapore/woma...</td>\n",
       "      <td>SINGAPORE: A young woman who said she was mole...</td>\n",
       "      <td>{'neg': 0.084, 'neu': 0.854, 'pos': 0.061, 'co...</td>\n",
       "    </tr>\n",
       "    <tr>\n",
       "      <th>4</th>\n",
       "      <td>SMU molest trial: DPP grills accused on issue ...</td>\n",
       "      <td>5 months ago</td>\n",
       "      <td>... of Lee Yan Ru, 24, who is on trial for out...</td>\n",
       "      <td>https://www.tnp.sg/news/singapore/smu-molest-t...</td>\n",
       "      <td>Singapore Management University student Lee Ya...</td>\n",
       "      <td>{'neg': 0.066, 'neu': 0.872, 'pos': 0.062, 'co...</td>\n",
       "    </tr>\n",
       "    <tr>\n",
       "      <th>5</th>\n",
       "      <td>Woman says she felt angry to be 'disrespected ...</td>\n",
       "      <td>12 months ago</td>\n",
       "      <td>The 24-year-old man was allegedly kneeling ove...</td>\n",
       "      <td>https://www.channelnewsasia.com/singapore/smu-...</td>\n",
       "      <td>SINGAPORE: A woman who was allegedly molested ...</td>\n",
       "      <td>{'neg': 0.103, 'neu': 0.872, 'pos': 0.025, 'co...</td>\n",
       "    </tr>\n",
       "    <tr>\n",
       "      <th>6</th>\n",
       "      <td>Man on trial for molest: I don't think she mea...</td>\n",
       "      <td>5 months ago</td>\n",
       "      <td>The Singapore Management University (SMU) stud...</td>\n",
       "      <td>https://www.tnp.sg/news/singapore/man-trial-mo...</td>\n",
       "      <td>Lee Yan Ru is accused of rubbing his exposed p...</td>\n",
       "      <td>{'neg': 0.052, 'neu': 0.907, 'pos': 0.041, 'co...</td>\n",
       "    </tr>\n",
       "    <tr>\n",
       "      <th>7</th>\n",
       "      <td>SMU molestation trial: Accused says victim was...</td>\n",
       "      <td>5 months ago</td>\n",
       "      <td>The Singapore Management University (SMU) stud...</td>\n",
       "      <td>https://stomp.straitstimes.com/singapore-seen/...</td>\n",
       "      <td>Jean Iau\\n\\nThe Straits Times\\n\\nApril 6, 2021...</td>\n",
       "      <td>{'neg': 0.067, 'neu': 0.884, 'pos': 0.049, 'co...</td>\n",
       "    </tr>\n",
       "    <tr>\n",
       "      <th>8</th>\n",
       "      <td>SMU molest trial: Alleged victim participated ...</td>\n",
       "      <td>11 months ago</td>\n",
       "      <td>Agree or disagree?” asked lawyer Thong Chee Ku...</td>\n",
       "      <td>https://sg.news.yahoo.com/smu-molest-trial-all...</td>\n",
       "      <td>(Yahoo News Singapore file photo)\\n\\nSINGAPORE...</td>\n",
       "      <td>{'neg': 0.08, 'neu': 0.868, 'pos': 0.052, 'com...</td>\n",
       "    </tr>\n",
       "    <tr>\n",
       "      <th>9</th>\n",
       "      <td>NUS student allegedly assaulted woman in campu...</td>\n",
       "      <td>11 months ago</td>\n",
       "      <td>One of them, Singapore Management University (...</td>\n",
       "      <td>https://www.straitstimes.com/singapore/courts-...</td>\n",
       "      <td>SINGAPORE - A National University of Singapore...</td>\n",
       "      <td>{'neg': 0.228, 'neu': 0.756, 'pos': 0.016, 'co...</td>\n",
       "    </tr>\n",
       "  </tbody>\n",
       "</table>\n",
       "</div>"
      ],
      "text/plain": [
       "                                               title           time  \\\n",
       "0  SMU student found guilty of molesting woman at...     1 week ago   \n",
       "1  'She was completely fine with all my advances'...   5 months ago   \n",
       "2  SMU student grilled on the stand about consent...   5 months ago   \n",
       "3  Woman testifies in trial of SMU student accuse...  12 months ago   \n",
       "4  SMU molest trial: DPP grills accused on issue ...   5 months ago   \n",
       "5  Woman says she felt angry to be 'disrespected ...  12 months ago   \n",
       "6  Man on trial for molest: I don't think she mea...   5 months ago   \n",
       "7  SMU molestation trial: Accused says victim was...   5 months ago   \n",
       "8  SMU molest trial: Alleged victim participated ...  11 months ago   \n",
       "9  NUS student allegedly assaulted woman in campu...  11 months ago   \n",
       "\n",
       "                                         description  \\\n",
       "0  Follow us on Instagram and join our Telegram c...   \n",
       "1  SINGAPORE: A 24-year-old man on trial for mole...   \n",
       "2  Under cross-examination from Deputy Public Pro...   \n",
       "3  The accused, 24-year-old Lee Yan Ru, is contes...   \n",
       "4  ... of Lee Yan Ru, 24, who is on trial for out...   \n",
       "5  The 24-year-old man was allegedly kneeling ove...   \n",
       "6  The Singapore Management University (SMU) stud...   \n",
       "7  The Singapore Management University (SMU) stud...   \n",
       "8  Agree or disagree?” asked lawyer Thong Chee Ku...   \n",
       "9  One of them, Singapore Management University (...   \n",
       "\n",
       "                                                link  \\\n",
       "0  https://www.todayonline.com/singapore/smu-stud...   \n",
       "1  https://www.channelnewsasia.com/singapore/smu-...   \n",
       "2  https://www.channelnewsasia.com/singapore/smu-...   \n",
       "3  https://www.channelnewsasia.com/singapore/woma...   \n",
       "4  https://www.tnp.sg/news/singapore/smu-molest-t...   \n",
       "5  https://www.channelnewsasia.com/singapore/smu-...   \n",
       "6  https://www.tnp.sg/news/singapore/man-trial-mo...   \n",
       "7  https://stomp.straitstimes.com/singapore-seen/...   \n",
       "8  https://sg.news.yahoo.com/smu-molest-trial-all...   \n",
       "9  https://www.straitstimes.com/singapore/courts-...   \n",
       "\n",
       "                                                text  \\\n",
       "0                                                      \n",
       "1  SINGAPORE: A 24-year-old man on trial for mole...   \n",
       "2  SINGAPORE: A Singapore Management University (...   \n",
       "3  SINGAPORE: A young woman who said she was mole...   \n",
       "4  Singapore Management University student Lee Ya...   \n",
       "5  SINGAPORE: A woman who was allegedly molested ...   \n",
       "6  Lee Yan Ru is accused of rubbing his exposed p...   \n",
       "7  Jean Iau\\n\\nThe Straits Times\\n\\nApril 6, 2021...   \n",
       "8  (Yahoo News Singapore file photo)\\n\\nSINGAPORE...   \n",
       "9  SINGAPORE - A National University of Singapore...   \n",
       "\n",
       "                                           sentiment  \n",
       "0  {'neg': 0.0, 'neu': 0.0, 'pos': 0.0, 'compound...  \n",
       "1  {'neg': 0.019, 'neu': 0.864, 'pos': 0.117, 'co...  \n",
       "2  {'neg': 0.029, 'neu': 0.885, 'pos': 0.087, 'co...  \n",
       "3  {'neg': 0.084, 'neu': 0.854, 'pos': 0.061, 'co...  \n",
       "4  {'neg': 0.066, 'neu': 0.872, 'pos': 0.062, 'co...  \n",
       "5  {'neg': 0.103, 'neu': 0.872, 'pos': 0.025, 'co...  \n",
       "6  {'neg': 0.052, 'neu': 0.907, 'pos': 0.041, 'co...  \n",
       "7  {'neg': 0.067, 'neu': 0.884, 'pos': 0.049, 'co...  \n",
       "8  {'neg': 0.08, 'neu': 0.868, 'pos': 0.052, 'com...  \n",
       "9  {'neg': 0.228, 'neu': 0.756, 'pos': 0.016, 'co...  "
      ]
     },
     "execution_count": 16,
     "metadata": {},
     "output_type": "execute_result"
    }
   ],
   "source": [
    "df = pd.DataFrame(lee_query)\n",
    "df[:10]"
   ]
  },
  {
   "cell_type": "code",
   "execution_count": 49,
   "metadata": {},
   "outputs": [
    {
     "name": "stderr",
     "output_type": "stream",
     "text": [
      "[nltk_data] Downloading package vader_lexicon to\n",
      "[nltk_data]     /Users/dylan/nltk_data...\n",
      "[nltk_data]   Package vader_lexicon is already up-to-date!\n"
     ]
    }
   ],
   "source": [
    "from urllib.request import Request, urlopen\n",
    "from bs4 import BeautifulSoup\n",
    "import requests\n",
    "from newspaper import Article\n",
    "import nltk\n",
    "from nltk.sentiment.vader import SentimentIntensityAnalyzer\n",
    "import pandas as pd\n",
    "import spacy\n",
    "from spacy import displacy\n",
    "from collections import Counter\n",
    "import en_core_web_sm\n",
    "\n",
    "nltk.download('vader_lexicon')\n",
    "nlp = en_core_web_sm.load()\n",
    "\n",
    "\n",
    "def article_extraction(link):\n",
    "    article = Article(link)\n",
    "    article.download()\n",
    "    article.parse()\n",
    "    return article.text\n",
    "\n",
    "def parse(link):\n",
    "    doc = nlp(article_extraction(link))\n",
    "    print([[X.text, X.label_] for X in doc.ents])\n",
    "    labels = [x.label_ for x in doc.ents]\n",
    "    print(Counter(labels))\n",
    "    items = [x.text for x in doc.ents]\n",
    "    print(Counter(items).most_common(10))\n",
    "    "
   ]
  },
  {
   "cell_type": "code",
   "execution_count": 127,
   "metadata": {},
   "outputs": [],
   "source": [
    "def parse(text):\n",
    "    #try:\n",
    "    \n",
    "    doc = nlp(text)\n",
    "    tags = [[X.text, X.label_] for X in doc.ents]\n",
    "    labels = [x.label_ for x in doc.ents]\n",
    "    items = [x.text for x in doc.ents]\n",
    "\n",
    "    return tags\n",
    "    \n",
    "\n",
    "name_list = ['Lee Yan Ru', 'Lee', 'Yan Ru']"
   ]
  },
  {
   "cell_type": "code",
   "execution_count": 130,
   "metadata": {},
   "outputs": [],
   "source": [
    "def names_and_ages(tags,age):\n",
    "    result = []\n",
    "    try:\n",
    "        for i in range(len(tags)):\n",
    "            #if second item is a name\n",
    "            if tags[i][1] == 'PERSON':\n",
    "                \n",
    "                forward_age = forward_searcher(i,tags)\n",
    "                backwards_age = backward_searcher(i,tags)\n",
    "                new_list = [tags[i],forward_age,backwards_age]\n",
    "                #new_list = [tags[i-1],tags[i],tags[i+1]]\n",
    "                \n",
    "                if detect_age(age,new_list) and tags[i][0] in name_list:\n",
    "\n",
    "                    #print(new_list)\n",
    "                    #result += new_list\n",
    "                    return new_list\n",
    "        return result\n",
    "    except IndexError as e:\n",
    "        pass \n",
    "                "
   ]
  },
  {
   "cell_type": "code",
   "execution_count": 121,
   "metadata": {},
   "outputs": [],
   "source": [
    "useless_dates = ['Monday','Tuesday','Wednesday','Thursday','Friday','Saturday','Sunday']\n",
    "\n",
    "\n",
    "\n",
    "def forward_searcher(index,tags):\n",
    "    for i in range(index,len(tags)):\n",
    "        if tags[i][1] == 'DATE' and tags[i][0] not in useless_dates:\n",
    "            return tags[i]\n",
    "    return [None,None]\n",
    "\n",
    "def backward_searcher(index,tags):\n",
    "    i = index\n",
    "    while i >= 0:\n",
    "   \n",
    "        if tags[i][1] == 'DATE' and tags[i][0] not in useless_dates:\n",
    "            return tags[i]\n",
    "        else:\n",
    "            i -=1\n",
    "\n",
    "def detect_age(age,lst):\n",
    "    try:\n",
    "        date1 = lst[1][0]\n",
    "        date2 = lst[2][0]\n",
    "        if (str(age) in date1) or (str(age) in date2):\n",
    "            return True\n",
    "    except TypeError as e:\n",
    "        pass\n",
    "    "
   ]
  },
  {
   "cell_type": "code",
   "execution_count": 117,
   "metadata": {},
   "outputs": [
    {
     "name": "stdout",
     "output_type": "stream",
     "text": [
      "[]\n",
      "\n",
      "\n",
      "[['SINGAPORE', 'ORG'], ['24-year-old', 'DATE'], ['overnight', 'TIME'], ['the Singapore Management University', 'ORG'], ['SMU', 'ORG'], ['Monday', 'DATE'], ['Lee Yan Ru', 'PERSON'], ['fourth-year', 'DATE'], ['SMU', 'ORG'], ['22', 'DATE'], ['Lee', 'PERSON'], ['one', 'CARDINAL'], ['SMU', 'ORG'], ['Jan 8, 2019', 'DATE'], ['Josephine Chee', 'PERSON'], ['Rajah & Tann', 'ORG'], ['Lee', 'PERSON'], ['SMU', 'ORG'], ['early January 2019', 'DATE'], ['Explorer', 'ORG'], ['Instagram', 'ORG'], ['Instagram', 'ORG'], ['Telegram', 'GPE'], ['FIRST', 'ORDINAL'], ['Lee', 'PERSON'], ['first', 'ORDINAL'], ['SMU', 'ORG'], ['Lee', 'PERSON'], ['Lee', 'PERSON'], ['first', 'ORDINAL'], ['Lee', 'PERSON'], ['Telegram', 'ORG'], ['that week', 'DATE'], ['later that night', 'TIME'], ['Lee', 'PERSON'], ['SMU', 'ORG'], ['SMU', 'ORG'], ['Lee', 'PERSON'], ['first', 'ORDINAL'], ['SMU', 'ORG'], ['midnight', 'TIME'], ['Jan 8, 2019', 'DATE'], ['Ms Chee', 'PERSON'], ['Ms Chee', 'PERSON'], ['Lee', 'PERSON'], ['Lee', 'PERSON'], ['Firstly', 'ORDINAL'], ['Lee', 'PERSON'], ['Lee', 'PERSON'], ['three to five', 'CARDINAL'], ['Lee', 'PERSON'], ['Lee', 'PERSON'], ['Lee', 'PERSON'], ['Lee', 'PERSON'], ['Lee', 'PERSON'], ['about 2am', 'TIME'], ['Lee', 'PERSON'], ['Lee', 'PERSON'], ['Lee', 'PERSON'], ['Lee', 'PERSON'], ['Lee', 'PERSON'], ['Lee', 'PERSON'], ['Lee', 'PERSON'], ['a few seconds', 'TIME'], ['Lee', 'PERSON'], ['Lee', 'PERSON'], ['Lee', 'PERSON'], ['the night', 'TIME'], ['Lee', 'PERSON'], ['Lee', 'PERSON'], ['Lee', 'PERSON'], ['Lee', 'PERSON'], ['Ms Chee', 'PERSON'], ['Lee', 'PERSON'], ['a few minutes', 'TIME'], ['morning', 'TIME'], ['afternoon', 'TIME'], ['Lee', 'PERSON'], ['up to two years', 'DATE'], ['SMU', 'ORG'], ['September last year', 'DATE'], ['Lee', 'PERSON']]\n",
      "\n",
      "\n",
      "[['SINGAPORE', 'ORG'], ['Singapore Management University', 'ORG'], ['SMU', 'ORG'], ['overnight', 'TIME'], ['Tuesday', 'DATE'], ['6', 'CARDINAL'], ['Andre Chong', 'PERSON'], ['24-year-old', 'DATE'], ['Lee Yan Ru', 'PERSON'], ['22', 'DATE'], ['Chong', 'GPE'], ['Lee', 'PERSON'], ['Lee', 'PERSON'], ['one', 'CARDINAL'], ['SMU', 'ORG'], ['Jan 8, 2019', 'DATE'], ['SMU', 'ORG'], ['Tuesday', 'DATE'], ['morning', 'TIME'], ['Sharmila Sripathy', 'PERSON'], ['Lee', 'PERSON'], ['Lee', 'PERSON'], ['a day earlier', 'DATE'], ['Rajah & Tann', 'ORG'], ['Instagram', 'ORG'], ['early January 2019', 'DATE'], ['SMU', 'ORG'], ['1am', 'TIME'], ['Jan 8, 2019', 'DATE'], ['the night', 'TIME'], ['Lee', 'PERSON'], ['about 6am', 'TIME'], ['Jan 8, 2019', 'DATE'], ['SMU', 'ORG'], ['Lee', 'PERSON'], ['Lee', 'PERSON'], ['Chong', 'GPE'], ['Lee', 'PERSON'], ['Chong', 'GPE'], ['Lee', 'PERSON'], ['Chong', 'GPE'], ['Lee', 'PERSON'], ['Chong', 'GPE'], ['Lee', 'PERSON'], ['Chong', 'GPE'], ['Lee', 'PERSON'], ['first', 'ORDINAL'], ['Lee', 'PERSON'], ['One', 'CARDINAL'], ['Chong', 'GPE'], ['Lee', 'PERSON'], ['Chong', 'GPE'], ['Lee', 'PERSON'], ['Chong', 'GPE'], ['Lee', 'PERSON'], ['Chong', 'GPE'], ['Lee', 'PERSON'], ['Lee', 'PERSON'], ['Lee', 'PERSON'], ['Lee', 'PERSON'], ['22', 'CARDINAL'], ['Chong', 'GPE'], ['Lee', 'PERSON'], ['Chong', 'GPE'], ['Lee', 'PERSON'], ['Lee', 'PERSON'], ['Chong', 'GPE'], ['Lee', 'PERSON'], ['about 2am', 'TIME'], ['Lee', 'PERSON'], ['Lee', 'PERSON'], ['Chong', 'GPE'], ['Chong', 'GPE'], ['Lee', 'PERSON'], ['Chong', 'GPE'], ['Lee', 'PERSON'], ['Chong', 'GPE'], ['Lee', 'PERSON'], ['Lee', 'PERSON'], ['Lee', 'PERSON'], ['today', 'DATE'], ['Chong', 'PERSON'], ['the early morning', 'TIME'], ['Chong', 'GPE'], ['Lee', 'PERSON'], ['Chong', 'GPE'], ['Lee', 'PERSON'], ['Lee', 'PERSON'], ['Chong', 'GPE'], ['Lee', 'PERSON'], ['Lee', 'PERSON'], ['Chong', 'GPE'], ['Lee', 'PERSON'], ['Chong', 'GPE'], ['Mr Lee', 'PERSON'], ['Lee', 'PERSON'], ['Chong', 'GPE'], ['Lee', 'PERSON'], ['Chong', 'GPE'], ['Lee', 'PERSON'], ['Lee', 'PERSON'], ['Lee', 'PERSON'], ['Chong', 'GPE'], ['Lee', 'PERSON'], ['Mr Lee', 'PERSON'], ['Chong', 'GPE'], ['Lee', 'PERSON'], ['Chong', 'GPE'], ['Lee', 'PERSON'], ['Lee', 'PERSON'], ['the night', 'TIME'], ['Chong', 'PERSON'], ['Lee', 'PERSON'], ['Lee', 'PERSON'], ['Lee', 'PERSON'], ['Chong', 'GPE'], ['Lee', 'PERSON'], ['Chong', 'PERSON'], ['Lee', 'PERSON'], ['July', 'DATE'], ['Lee', 'PERSON'], ['up to two years', 'DATE'], ['SMU', 'ORG'], ['September last year', 'DATE'], ['Lee', 'PERSON']]\n",
      "\n",
      "\n"
     ]
    }
   ],
   "source": [
    "for text in df[:3]['text']:\n",
    "    #print(df.iloc[[index]])\n",
    "    print(parse(text))\n",
    "    print(\"\\n\")"
   ]
  },
  {
   "cell_type": "code",
   "execution_count": 96,
   "metadata": {},
   "outputs": [
    {
     "data": {
      "text/plain": [
       "'\\nsearch for nearest name\\nif 2 nearest name take the correct answer if possible\\nif not possible = edge case bobian\\n'"
      ]
     },
     "execution_count": 96,
     "metadata": {},
     "output_type": "execute_result"
    }
   ],
   "source": [
    "\"\"\"\n",
    "search for nearest name\n",
    "if 2 nearest name take the correct answer if possible\n",
    "if not possible = edge case bobian\n",
    "\"\"\""
   ]
  },
  {
   "cell_type": "code",
   "execution_count": 131,
   "metadata": {},
   "outputs": [
    {
     "name": "stdout",
     "output_type": "stream",
     "text": [
      "[]\n",
      "\n",
      "\n",
      "[['Lee Yan Ru', 'PERSON'], ['fourth-year', 'DATE'], ['24-year-old', 'DATE']]\n",
      "\n",
      "\n",
      "[['Lee Yan Ru', 'PERSON'], ['22', 'DATE'], ['24-year-old', 'DATE']]\n",
      "\n",
      "\n",
      "[['Lee Yan Ru', 'PERSON'], ['about a week', 'DATE'], ['24-year-old', 'DATE']]\n",
      "\n",
      "\n",
      "[['Lee Yan Ru', 'PERSON'], ['24', 'DATE'], ['yesterday', 'DATE']]\n",
      "\n",
      "\n",
      "[]\n",
      "\n",
      "\n",
      "[['Lee Yan Ru', 'PERSON'], ['24', 'DATE'], ['yesterday', 'DATE']]\n",
      "\n",
      "\n",
      "[['Lee Yan Ru', 'PERSON'], ['24', 'DATE'], ['April 6, 2021', 'DATE']]\n",
      "\n",
      "\n",
      "[['Lee Yan Ru', 'PERSON'], ['22-year-old', 'DATE'], ['24-year-old', 'DATE']]\n",
      "\n",
      "\n",
      "[['Lee', 'PERSON'], ['24', 'DATE'], ['Jan 8 last year', 'DATE']]\n",
      "\n",
      "\n"
     ]
    }
   ],
   "source": [
    "for text in df[:10]['text']:\n",
    "    #print(df.iloc[[index]])\n",
    "    print(names_and_ages(parse(text),24))\n",
    "    print(\"\\n\")"
   ]
  },
  {
   "cell_type": "code",
   "execution_count": null,
   "metadata": {},
   "outputs": [],
   "source": []
  },
  {
   "cell_type": "code",
   "execution_count": null,
   "metadata": {},
   "outputs": [],
   "source": []
  }
 ],
 "metadata": {
  "kernelspec": {
   "display_name": "Python 3",
   "language": "python",
   "name": "python3"
  },
  "language_info": {
   "codemirror_mode": {
    "name": "ipython",
    "version": 3
   },
   "file_extension": ".py",
   "mimetype": "text/x-python",
   "name": "python",
   "nbconvert_exporter": "python",
   "pygments_lexer": "ipython3",
   "version": "3.8.3"
  },
  "metadata": {
   "interpreter": {
    "hash": "aee8b7b246df8f9039afb4144a1f6fd8d2ca17a180786b69acc140d282b71a49"
   }
  }
 },
 "nbformat": 4,
 "nbformat_minor": 2
}
