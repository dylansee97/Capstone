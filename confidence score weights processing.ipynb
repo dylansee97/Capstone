{
 "cells": [
  {
   "cell_type": "code",
   "execution_count": 62,
   "metadata": {},
   "outputs": [],
   "source": [
    "import pandas as pd\n",
    "import numpy as np\n",
    "from sklearn.model_selection import train_test_split\n",
    "from sklearn.linear_model import LogisticRegression\n",
    "import xgboost as xgb\n",
    "import matplotlib.pyplot as plt\n",
    "from matplotlib.pyplot import figure"
   ]
  },
  {
   "cell_type": "code",
   "execution_count": 7,
   "metadata": {},
   "outputs": [],
   "source": [
    "df = pd.read_excel('test_data.xlsx')"
   ]
  },
  {
   "cell_type": "code",
   "execution_count": 8,
   "metadata": {},
   "outputs": [
    {
     "data": {
      "text/html": [
       "<div>\n",
       "<style scoped>\n",
       "    .dataframe tbody tr th:only-of-type {\n",
       "        vertical-align: middle;\n",
       "    }\n",
       "\n",
       "    .dataframe tbody tr th {\n",
       "        vertical-align: top;\n",
       "    }\n",
       "\n",
       "    .dataframe thead th {\n",
       "        text-align: right;\n",
       "    }\n",
       "</style>\n",
       "<table border=\"1\" class=\"dataframe\">\n",
       "  <thead>\n",
       "    <tr style=\"text-align: right;\">\n",
       "      <th></th>\n",
       "      <th>Unnamed: 0</th>\n",
       "      <th>name</th>\n",
       "      <th>title</th>\n",
       "      <th>time</th>\n",
       "      <th>year_of_birth</th>\n",
       "      <th>description</th>\n",
       "      <th>link</th>\n",
       "      <th>text</th>\n",
       "      <th>sentiment?</th>\n",
       "      <th>names_list</th>\n",
       "      <th>name_matching_score</th>\n",
       "      <th>nationality_matching_score</th>\n",
       "      <th>gender_matching_score</th>\n",
       "      <th>age_matching_score</th>\n",
       "      <th>ground_confidence</th>\n",
       "    </tr>\n",
       "  </thead>\n",
       "  <tbody>\n",
       "    <tr>\n",
       "      <th>0</th>\n",
       "      <td>0.0</td>\n",
       "      <td>Chia Teck Leng</td>\n",
       "      <td>Guilty As Charged: Chia Teck Leng led a double...</td>\n",
       "      <td>64 months ago</td>\n",
       "      <td>56.0</td>\n",
       "      <td>Asia Pacific Breweries executive Chia Teck Len...</td>\n",
       "      <td>https://www.straitstimes.com/singapore/courts-...</td>\n",
       "      <td>This story was first published in July 2015 in...</td>\n",
       "      <td>{'neg': 0.453, 'neu': 0.495, 'pos': 0.052, 'co...</td>\n",
       "      <td>Counter({'Chia': 10, 'Chia Teck Leng': 4, 'Li ...</td>\n",
       "      <td>100</td>\n",
       "      <td>1.0</td>\n",
       "      <td>0.901961</td>\n",
       "      <td>0</td>\n",
       "      <td>1</td>\n",
       "    </tr>\n",
       "    <tr>\n",
       "      <th>1</th>\n",
       "      <td>3.0</td>\n",
       "      <td>Chia Teck Leng</td>\n",
       "      <td>Guilty As Charged: Shocking crimes that have s...</td>\n",
       "      <td>64 months ago</td>\n",
       "      <td>56.0</td>\n",
       "      <td>Chia Teck Leng secretly led a double life as a...</td>\n",
       "      <td>https://www.straitstimes.com/singapore/courts-...</td>\n",
       "      <td>The following stories were first published in ...</td>\n",
       "      <td>{'neg': 0.47, 'neu': 0.498, 'pos': 0.031, 'com...</td>\n",
       "      <td>Counter({'Chia Teck Leng': 3, 'Weng Wah': 3, '...</td>\n",
       "      <td>100</td>\n",
       "      <td>1.0</td>\n",
       "      <td>0.400000</td>\n",
       "      <td>0</td>\n",
       "      <td>1</td>\n",
       "    </tr>\n",
       "    <tr>\n",
       "      <th>2</th>\n",
       "      <td>6.0</td>\n",
       "      <td>Chia Teck Leng</td>\n",
       "      <td>Accountant who embezzled $40m a compulsive gam...</td>\n",
       "      <td>27 months ago</td>\n",
       "      <td>59.0</td>\n",
       "      <td>While Ewe did not amass riches from his crimes...</td>\n",
       "      <td>https://www.straitstimes.com/singapore/courts-...</td>\n",
       "      <td>SINGAPORE - Certified public accountant Ewe Pa...</td>\n",
       "      <td>{'neg': 0.322, 'neu': 0.648, 'pos': 0.03, 'com...</td>\n",
       "      <td>Counter({'Ewe': 3, 'Chia Teck Leng': 2, 'Khoo'...</td>\n",
       "      <td>100</td>\n",
       "      <td>1.0</td>\n",
       "      <td>0.000000</td>\n",
       "      <td>0</td>\n",
       "      <td>1</td>\n",
       "    </tr>\n",
       "    <tr>\n",
       "      <th>3</th>\n",
       "      <td>9.0</td>\n",
       "      <td>Chia Teck Leng</td>\n",
       "      <td>John Soh could face longest-ever jail term for...</td>\n",
       "      <td>54 months ago</td>\n",
       "      <td>57.0</td>\n",
       "      <td>SINGAPORE (March 3): Chia Teck Leng, a former ...</td>\n",
       "      <td>https://www.theedgemarkets.com/article/john-so...</td>\n",
       "      <td>SINGAPORE (March 3): Chia Teck Leng, a former ...</td>\n",
       "      <td>{'neg': 0.519, 'neu': 0.464, 'pos': 0.017, 'co...</td>\n",
       "      <td>Counter({'Soh': 5, 'Chia': 3, 'Chia Teck Leng'...</td>\n",
       "      <td>100</td>\n",
       "      <td>1.0</td>\n",
       "      <td>0.000000</td>\n",
       "      <td>0</td>\n",
       "      <td>1</td>\n",
       "    </tr>\n",
       "    <tr>\n",
       "      <th>4</th>\n",
       "      <td>12.0</td>\n",
       "      <td>Chia Teck Leng</td>\n",
       "      <td>Sherlock Holmes of Shenton Way, Brunch - THE B...</td>\n",
       "      <td>38 months ago</td>\n",
       "      <td>58.0</td>\n",
       "      <td>PwC forensics leader Chan Kheng Tek adds that ...</td>\n",
       "      <td>https://www.businesstimes.com.sg/brunch/sherlo...</td>\n",
       "      <td>NaN</td>\n",
       "      <td>{'neg': 0.0, 'neu': 0.0, 'pos': 0.0, 'compound...</td>\n",
       "      <td>Counter({'Chan Kheng': 1, 'Chia Teck Leng': 1})</td>\n",
       "      <td>100</td>\n",
       "      <td>0.0</td>\n",
       "      <td>0.000000</td>\n",
       "      <td>0</td>\n",
       "      <td>1</td>\n",
       "    </tr>\n",
       "    <tr>\n",
       "      <th>...</th>\n",
       "      <td>...</td>\n",
       "      <td>...</td>\n",
       "      <td>...</td>\n",
       "      <td>...</td>\n",
       "      <td>...</td>\n",
       "      <td>...</td>\n",
       "      <td>...</td>\n",
       "      <td>...</td>\n",
       "      <td>...</td>\n",
       "      <td>...</td>\n",
       "      <td>...</td>\n",
       "      <td>...</td>\n",
       "      <td>...</td>\n",
       "      <td>...</td>\n",
       "      <td>...</td>\n",
       "    </tr>\n",
       "    <tr>\n",
       "      <th>169</th>\n",
       "      <td>NaN</td>\n",
       "      <td>NaN</td>\n",
       "      <td>NaN</td>\n",
       "      <td>NaN</td>\n",
       "      <td>NaN</td>\n",
       "      <td>NaN</td>\n",
       "      <td>NaN</td>\n",
       "      <td>NaN</td>\n",
       "      <td>NaN</td>\n",
       "      <td>NaN</td>\n",
       "      <td>100</td>\n",
       "      <td>1.0</td>\n",
       "      <td>1.000000</td>\n",
       "      <td>1</td>\n",
       "      <td>1</td>\n",
       "    </tr>\n",
       "    <tr>\n",
       "      <th>170</th>\n",
       "      <td>NaN</td>\n",
       "      <td>NaN</td>\n",
       "      <td>NaN</td>\n",
       "      <td>NaN</td>\n",
       "      <td>NaN</td>\n",
       "      <td>NaN</td>\n",
       "      <td>NaN</td>\n",
       "      <td>NaN</td>\n",
       "      <td>NaN</td>\n",
       "      <td>NaN</td>\n",
       "      <td>100</td>\n",
       "      <td>1.0</td>\n",
       "      <td>1.000000</td>\n",
       "      <td>1</td>\n",
       "      <td>1</td>\n",
       "    </tr>\n",
       "    <tr>\n",
       "      <th>171</th>\n",
       "      <td>NaN</td>\n",
       "      <td>NaN</td>\n",
       "      <td>NaN</td>\n",
       "      <td>NaN</td>\n",
       "      <td>NaN</td>\n",
       "      <td>NaN</td>\n",
       "      <td>NaN</td>\n",
       "      <td>NaN</td>\n",
       "      <td>NaN</td>\n",
       "      <td>NaN</td>\n",
       "      <td>100</td>\n",
       "      <td>1.0</td>\n",
       "      <td>1.000000</td>\n",
       "      <td>1</td>\n",
       "      <td>1</td>\n",
       "    </tr>\n",
       "    <tr>\n",
       "      <th>172</th>\n",
       "      <td>NaN</td>\n",
       "      <td>NaN</td>\n",
       "      <td>NaN</td>\n",
       "      <td>NaN</td>\n",
       "      <td>NaN</td>\n",
       "      <td>NaN</td>\n",
       "      <td>NaN</td>\n",
       "      <td>NaN</td>\n",
       "      <td>NaN</td>\n",
       "      <td>NaN</td>\n",
       "      <td>100</td>\n",
       "      <td>1.0</td>\n",
       "      <td>1.000000</td>\n",
       "      <td>1</td>\n",
       "      <td>1</td>\n",
       "    </tr>\n",
       "    <tr>\n",
       "      <th>173</th>\n",
       "      <td>NaN</td>\n",
       "      <td>NaN</td>\n",
       "      <td>NaN</td>\n",
       "      <td>NaN</td>\n",
       "      <td>NaN</td>\n",
       "      <td>NaN</td>\n",
       "      <td>NaN</td>\n",
       "      <td>NaN</td>\n",
       "      <td>NaN</td>\n",
       "      <td>NaN</td>\n",
       "      <td>100</td>\n",
       "      <td>1.0</td>\n",
       "      <td>1.000000</td>\n",
       "      <td>1</td>\n",
       "      <td>1</td>\n",
       "    </tr>\n",
       "  </tbody>\n",
       "</table>\n",
       "<p>174 rows × 15 columns</p>\n",
       "</div>"
      ],
      "text/plain": [
       "     Unnamed: 0            name  \\\n",
       "0           0.0  Chia Teck Leng   \n",
       "1           3.0  Chia Teck Leng   \n",
       "2           6.0  Chia Teck Leng   \n",
       "3           9.0  Chia Teck Leng   \n",
       "4          12.0  Chia Teck Leng   \n",
       "..          ...             ...   \n",
       "169         NaN             NaN   \n",
       "170         NaN             NaN   \n",
       "171         NaN             NaN   \n",
       "172         NaN             NaN   \n",
       "173         NaN             NaN   \n",
       "\n",
       "                                                 title           time  \\\n",
       "0    Guilty As Charged: Chia Teck Leng led a double...  64 months ago   \n",
       "1    Guilty As Charged: Shocking crimes that have s...  64 months ago   \n",
       "2    Accountant who embezzled $40m a compulsive gam...  27 months ago   \n",
       "3    John Soh could face longest-ever jail term for...  54 months ago   \n",
       "4    Sherlock Holmes of Shenton Way, Brunch - THE B...  38 months ago   \n",
       "..                                                 ...            ...   \n",
       "169                                                NaN            NaN   \n",
       "170                                                NaN            NaN   \n",
       "171                                                NaN            NaN   \n",
       "172                                                NaN            NaN   \n",
       "173                                                NaN            NaN   \n",
       "\n",
       "     year_of_birth                                        description  \\\n",
       "0             56.0  Asia Pacific Breweries executive Chia Teck Len...   \n",
       "1             56.0  Chia Teck Leng secretly led a double life as a...   \n",
       "2             59.0  While Ewe did not amass riches from his crimes...   \n",
       "3             57.0  SINGAPORE (March 3): Chia Teck Leng, a former ...   \n",
       "4             58.0  PwC forensics leader Chan Kheng Tek adds that ...   \n",
       "..             ...                                                ...   \n",
       "169            NaN                                                NaN   \n",
       "170            NaN                                                NaN   \n",
       "171            NaN                                                NaN   \n",
       "172            NaN                                                NaN   \n",
       "173            NaN                                                NaN   \n",
       "\n",
       "                                                  link  \\\n",
       "0    https://www.straitstimes.com/singapore/courts-...   \n",
       "1    https://www.straitstimes.com/singapore/courts-...   \n",
       "2    https://www.straitstimes.com/singapore/courts-...   \n",
       "3    https://www.theedgemarkets.com/article/john-so...   \n",
       "4    https://www.businesstimes.com.sg/brunch/sherlo...   \n",
       "..                                                 ...   \n",
       "169                                                NaN   \n",
       "170                                                NaN   \n",
       "171                                                NaN   \n",
       "172                                                NaN   \n",
       "173                                                NaN   \n",
       "\n",
       "                                                  text  \\\n",
       "0    This story was first published in July 2015 in...   \n",
       "1    The following stories were first published in ...   \n",
       "2    SINGAPORE - Certified public accountant Ewe Pa...   \n",
       "3    SINGAPORE (March 3): Chia Teck Leng, a former ...   \n",
       "4                                                  NaN   \n",
       "..                                                 ...   \n",
       "169                                                NaN   \n",
       "170                                                NaN   \n",
       "171                                                NaN   \n",
       "172                                                NaN   \n",
       "173                                                NaN   \n",
       "\n",
       "                                            sentiment?  \\\n",
       "0    {'neg': 0.453, 'neu': 0.495, 'pos': 0.052, 'co...   \n",
       "1    {'neg': 0.47, 'neu': 0.498, 'pos': 0.031, 'com...   \n",
       "2    {'neg': 0.322, 'neu': 0.648, 'pos': 0.03, 'com...   \n",
       "3    {'neg': 0.519, 'neu': 0.464, 'pos': 0.017, 'co...   \n",
       "4    {'neg': 0.0, 'neu': 0.0, 'pos': 0.0, 'compound...   \n",
       "..                                                 ...   \n",
       "169                                                NaN   \n",
       "170                                                NaN   \n",
       "171                                                NaN   \n",
       "172                                                NaN   \n",
       "173                                                NaN   \n",
       "\n",
       "                                            names_list  name_matching_score  \\\n",
       "0    Counter({'Chia': 10, 'Chia Teck Leng': 4, 'Li ...                  100   \n",
       "1    Counter({'Chia Teck Leng': 3, 'Weng Wah': 3, '...                  100   \n",
       "2    Counter({'Ewe': 3, 'Chia Teck Leng': 2, 'Khoo'...                  100   \n",
       "3    Counter({'Soh': 5, 'Chia': 3, 'Chia Teck Leng'...                  100   \n",
       "4      Counter({'Chan Kheng': 1, 'Chia Teck Leng': 1})                  100   \n",
       "..                                                 ...                  ...   \n",
       "169                                                NaN                  100   \n",
       "170                                                NaN                  100   \n",
       "171                                                NaN                  100   \n",
       "172                                                NaN                  100   \n",
       "173                                                NaN                  100   \n",
       "\n",
       "     nationality_matching_score  gender_matching_score  age_matching_score  \\\n",
       "0                           1.0               0.901961                   0   \n",
       "1                           1.0               0.400000                   0   \n",
       "2                           1.0               0.000000                   0   \n",
       "3                           1.0               0.000000                   0   \n",
       "4                           0.0               0.000000                   0   \n",
       "..                          ...                    ...                 ...   \n",
       "169                         1.0               1.000000                   1   \n",
       "170                         1.0               1.000000                   1   \n",
       "171                         1.0               1.000000                   1   \n",
       "172                         1.0               1.000000                   1   \n",
       "173                         1.0               1.000000                   1   \n",
       "\n",
       "     ground_confidence  \n",
       "0                    1  \n",
       "1                    1  \n",
       "2                    1  \n",
       "3                    1  \n",
       "4                    1  \n",
       "..                 ...  \n",
       "169                  1  \n",
       "170                  1  \n",
       "171                  1  \n",
       "172                  1  \n",
       "173                  1  \n",
       "\n",
       "[174 rows x 15 columns]"
      ]
     },
     "execution_count": 8,
     "metadata": {},
     "output_type": "execute_result"
    }
   ],
   "source": [
    "df"
   ]
  },
  {
   "cell_type": "code",
   "execution_count": 9,
   "metadata": {},
   "outputs": [],
   "source": [
    "df = df[['name_matching_score','nationality_matching_score','gender_matching_score','age_matching_score','ground_confidence']]"
   ]
  },
  {
   "cell_type": "code",
   "execution_count": 10,
   "metadata": {},
   "outputs": [
    {
     "data": {
      "text/html": [
       "<div>\n",
       "<style scoped>\n",
       "    .dataframe tbody tr th:only-of-type {\n",
       "        vertical-align: middle;\n",
       "    }\n",
       "\n",
       "    .dataframe tbody tr th {\n",
       "        vertical-align: top;\n",
       "    }\n",
       "\n",
       "    .dataframe thead th {\n",
       "        text-align: right;\n",
       "    }\n",
       "</style>\n",
       "<table border=\"1\" class=\"dataframe\">\n",
       "  <thead>\n",
       "    <tr style=\"text-align: right;\">\n",
       "      <th></th>\n",
       "      <th>name_matching_score</th>\n",
       "      <th>nationality_matching_score</th>\n",
       "      <th>gender_matching_score</th>\n",
       "      <th>age_matching_score</th>\n",
       "      <th>ground_confidence</th>\n",
       "    </tr>\n",
       "  </thead>\n",
       "  <tbody>\n",
       "  </tbody>\n",
       "</table>\n",
       "</div>"
      ],
      "text/plain": [
       "Empty DataFrame\n",
       "Columns: [name_matching_score, nationality_matching_score, gender_matching_score, age_matching_score, ground_confidence]\n",
       "Index: []"
      ]
     },
     "execution_count": 10,
     "metadata": {},
     "output_type": "execute_result"
    }
   ],
   "source": [
    "df[(df['gender_matching_score'] == 1) & (df['ground_confidence'] == 0)]"
   ]
  },
  {
   "cell_type": "code",
   "execution_count": 11,
   "metadata": {},
   "outputs": [],
   "source": [
    "feature_cols = ['name_matching_score','nationality_matching_score','gender_matching_score','age_matching_score']\n",
    "X = df[feature_cols]\n",
    "\n",
    "y = df.ground_confidence"
   ]
  },
  {
   "cell_type": "code",
   "execution_count": 12,
   "metadata": {},
   "outputs": [],
   "source": [
    "X_train,X_test,y_train,y_test=train_test_split(X,y,test_size=0.25,random_state=555)"
   ]
  },
  {
   "cell_type": "code",
   "execution_count": 13,
   "metadata": {},
   "outputs": [],
   "source": [
    "logreg = LogisticRegression()\n",
    "\n",
    "logreg.fit(X_train,y_train)\n",
    "\n",
    "y_pred=logreg.predict(X_test)"
   ]
  },
  {
   "cell_type": "code",
   "execution_count": 14,
   "metadata": {},
   "outputs": [
    {
     "data": {
      "text/plain": [
       "array([[11,  2],\n",
       "       [ 0, 31]])"
      ]
     },
     "execution_count": 14,
     "metadata": {},
     "output_type": "execute_result"
    }
   ],
   "source": [
    "from sklearn import metrics\n",
    "cnf_matrix = metrics.confusion_matrix(y_test, y_pred)\n",
    "cnf_matrix"
   ]
  },
  {
   "cell_type": "code",
   "execution_count": 15,
   "metadata": {},
   "outputs": [],
   "source": [
    "import numpy as np\n",
    "import matplotlib.pyplot as plt\n",
    "import seaborn as sns"
   ]
  },
  {
   "cell_type": "code",
   "execution_count": 16,
   "metadata": {},
   "outputs": [
    {
     "data": {
      "text/plain": [
       "Text(0.5, 257.44, 'Predicted label')"
      ]
     },
     "execution_count": 16,
     "metadata": {},
     "output_type": "execute_result"
    },
    {
     "data": {
      "image/png": "[encoded data removed]",
      "text/plain": [
       "<Figure size 432x288 with 2 Axes>"
      ]
     },
     "metadata": {
      "needs_background": "light"
     },
     "output_type": "display_data"
    }
   ],
   "source": [
    "class_names=[0,1] # name  of classes\n",
    "fig, ax = plt.subplots()\n",
    "tick_marks = np.arange(len(class_names))\n",
    "plt.xticks(tick_marks, class_names)\n",
    "plt.yticks(tick_marks, class_names)\n",
    "# create heatmap\n",
    "sns.heatmap(pd.DataFrame(cnf_matrix), annot=True, cmap=\"YlGnBu\" ,fmt='g')\n",
    "ax.xaxis.set_label_position(\"top\")\n",
    "plt.tight_layout()\n",
    "plt.title('Confusion matrix', y=1.1)\n",
    "plt.ylabel('Actual label')\n",
    "plt.xlabel('Predicted label')"
   ]
  },
  {
   "cell_type": "code",
   "execution_count": 17,
   "metadata": {},
   "outputs": [
    {
     "data": {
      "text/plain": [
       "LogisticRegression()"
      ]
     },
     "execution_count": 17,
     "metadata": {},
     "output_type": "execute_result"
    }
   ],
   "source": [
    "logreg"
   ]
  },
  {
   "cell_type": "code",
   "execution_count": 18,
   "metadata": {},
   "outputs": [
    {
     "name": "stdout",
     "output_type": "stream",
     "text": [
      "Optimization terminated successfully.\n",
      "         Current function value: 0.153062\n",
      "         Iterations 12\n"
     ]
    }
   ],
   "source": [
    "import statsmodels.api as sm\n",
    "from statsmodels.tools import add_constant\n",
    "X = add_constant(X)\n",
    "logit_model=sm.Logit(y,X)\n",
    "result=logit_model.fit()"
   ]
  },
  {
   "cell_type": "code",
   "execution_count": 19,
   "metadata": {},
   "outputs": [
    {
     "name": "stdout",
     "output_type": "stream",
     "text": [
      "                           Logit Regression Results                           \n",
      "==============================================================================\n",
      "Dep. Variable:      ground_confidence   No. Observations:                  174\n",
      "Model:                          Logit   Df Residuals:                      169\n",
      "Method:                           MLE   Df Model:                            4\n",
      "Date:                Tue, 28 Sep 2021   Pseudo R-squ.:                  0.7610\n",
      "Time:                        14:46:24   Log-Likelihood:                -26.633\n",
      "converged:                       True   LL-Null:                       -111.43\n",
      "Covariance Type:            nonrobust   LLR p-value:                 1.273e-35\n",
      "==============================================================================================\n",
      "                                 coef    std err          z      P>|z|      [0.025      0.975]\n",
      "----------------------------------------------------------------------------------------------\n",
      "const                        -11.6046     12.052     -0.963      0.336     -35.227      12.018\n",
      "name_matching_score            0.1340      0.122      1.101      0.271      -0.104       0.373\n",
      "nationality_matching_score     0.7263      0.914      0.795      0.427      -1.065       2.518\n",
      "gender_matching_score          2.7275      1.453      1.877      0.061      -0.121       5.576\n",
      "age_matching_score            -0.4751      0.841     -0.565      0.572      -2.123       1.173\n",
      "==============================================================================================\n",
      "\n",
      "Possibly complete quasi-separation: A fraction 0.29 of observations can be\n",
      "perfectly predicted. This might indicate that there is complete\n",
      "quasi-separation. In this case some parameters will not be identified.\n"
     ]
    }
   ],
   "source": [
    "print(result.summary())"
   ]
  },
  {
   "cell_type": "markdown",
   "metadata": {},
   "source": [
    "## Can see here that the p value at 5% confidence level, nationality, gender, age are not statistically significant."
   ]
  },
  {
   "cell_type": "code",
   "execution_count": 20,
   "metadata": {},
   "outputs": [],
   "source": [
    "from sklearn.linear_model import LinearRegression\n",
    "\n",
    "linreg = LinearRegression()\n",
    "\n",
    "linreg.fit(X_train,y_train)\n",
    "\n",
    "y_pred=linreg.predict(X_test)"
   ]
  },
  {
   "cell_type": "code",
   "execution_count": 21,
   "metadata": {},
   "outputs": [
    {
     "name": "stdout",
     "output_type": "stream",
     "text": [
      "[ 0.00858862  0.09551699  0.12069721 -0.09300325]\n"
     ]
    }
   ],
   "source": [
    "print(linreg.coef_)"
   ]
  },
  {
   "cell_type": "code",
   "execution_count": 22,
   "metadata": {},
   "outputs": [],
   "source": [
    "from sklearn.ensemble import RandomForestRegressor"
   ]
  },
  {
   "cell_type": "code",
   "execution_count": 23,
   "metadata": {},
   "outputs": [],
   "source": [
    "rf = RandomForestRegressor(random_state = 4)"
   ]
  },
  {
   "cell_type": "code",
   "execution_count": 24,
   "metadata": {},
   "outputs": [],
   "source": [
    "rfmodel = rf.fit(X_train,y_train)"
   ]
  },
  {
   "cell_type": "code",
   "execution_count": 27,
   "metadata": {},
   "outputs": [],
   "source": [
    "y_pred_r = rfmodel.predict(X_test)"
   ]
  },
  {
   "cell_type": "code",
   "execution_count": 29,
   "metadata": {},
   "outputs": [],
   "source": [
    "from sklearn.metrics import mean_absolute_error, mean_squared_error"
   ]
  },
  {
   "cell_type": "markdown",
   "metadata": {},
   "source": [
    "## MSE for random forest"
   ]
  },
  {
   "cell_type": "code",
   "execution_count": 31,
   "metadata": {},
   "outputs": [
    {
     "name": "stdout",
     "output_type": "stream",
     "text": [
      "MAE: 0.08001119038293147, MSE: 0.04674947896185012\n"
     ]
    }
   ],
   "source": [
    "mae_r = mean_absolute_error(y_test,y_pred_r)\n",
    "mse_r = mean_squared_error(y_test,y_pred_r)\n",
    "print(f\"MAE: {mae_r}, MSE: {mse_r}\")"
   ]
  },
  {
   "cell_type": "markdown",
   "metadata": {},
   "source": [
    "## MSE for linear regression"
   ]
  },
  {
   "cell_type": "code",
   "execution_count": 32,
   "metadata": {},
   "outputs": [
    {
     "name": "stdout",
     "output_type": "stream",
     "text": [
      "MAE: 0.09538708582932003, MSE: 0.044901980307159355\n"
     ]
    }
   ],
   "source": [
    "mae_r = mean_absolute_error(y_test,y_pred)\n",
    "mse_r = mean_squared_error(y_test,y_pred)\n",
    "print(f\"MAE: {mae_r}, MSE: {mse_r}\")"
   ]
  },
  {
   "cell_type": "code",
   "execution_count": 192,
   "metadata": {},
   "outputs": [],
   "source": [
    "xg_reg = xgb.XGBRegressor(objective ='reg:linear', colsample_bytree = 0.3, learning_rate = 0.1,\n",
    "                max_depth = 5, alpha = 10, n_estimators = 10)#,booster='gblinear')"
   ]
  },
  {
   "cell_type": "code",
   "execution_count": 193,
   "metadata": {},
   "outputs": [
    {
     "name": "stdout",
     "output_type": "stream",
     "text": [
      "[16:21:27] WARNING: /opt/concourse/worker/volumes/live/7a2b9f41-3287-451b-6691-43e9a6c0910f/volume/xgboost-split_1619728204606/work/src/objective/regression_obj.cu:170: reg:linear is now deprecated in favor of reg:squarederror.\n"
     ]
    }
   ],
   "source": [
    "xg_reg.fit(X_train,y_train)\n",
    "\n",
    "y_pred_x = xg_reg.predict(X_test)"
   ]
  },
  {
   "cell_type": "code",
   "execution_count": 194,
   "metadata": {},
   "outputs": [
    {
     "name": "stdout",
     "output_type": "stream",
     "text": [
      "MAE: 0.38607190413908526, MSE: 0.15438034790603036\n"
     ]
    }
   ],
   "source": [
    "mae_r = mean_absolute_error(y_test,y_pred_x)\n",
    "mse_r = mean_squared_error(y_test,y_pred_x)\n",
    "print(f\"MAE: {mae_r}, MSE: {mse_r}\")"
   ]
  },
  {
   "cell_type": "markdown",
   "metadata": {},
   "source": [
    "## XGBoost coefficients"
   ]
  },
  {
   "cell_type": "code",
   "execution_count": 195,
   "metadata": {},
   "outputs": [
    {
     "ename": "AttributeError",
     "evalue": "Coefficients are not defined for Booster type None",
     "output_type": "error",
     "traceback": [
      "\u001b[0;31m---------------------------------------------------------------------------\u001b[0m",
      "\u001b[0;31mAttributeError\u001b[0m                            Traceback (most recent call last)",
      "\u001b[0;32m<ipython-input-195-f6db6e73bef2>\u001b[0m in \u001b[0;36m<module>\u001b[0;34m\u001b[0m\n\u001b[0;32m----> 1\u001b[0;31m \u001b[0mprint\u001b[0m\u001b[0;34m(\u001b[0m\u001b[0mxg_reg\u001b[0m\u001b[0;34m.\u001b[0m\u001b[0mcoef_\u001b[0m\u001b[0;34m)\u001b[0m\u001b[0;34m\u001b[0m\u001b[0;34m\u001b[0m\u001b[0m\n\u001b[0m",
      "\u001b[0;32m~/opt/anaconda3/lib/python3.8/site-packages/xgboost/sklearn.py\u001b[0m in \u001b[0;36mcoef_\u001b[0;34m(self)\u001b[0m\n\u001b[1;32m    761\u001b[0m         \"\"\"\n\u001b[1;32m    762\u001b[0m         \u001b[0;32mif\u001b[0m \u001b[0mself\u001b[0m\u001b[0;34m.\u001b[0m\u001b[0mget_params\u001b[0m\u001b[0;34m(\u001b[0m\u001b[0;34m)\u001b[0m\u001b[0;34m[\u001b[0m\u001b[0;34m'booster'\u001b[0m\u001b[0;34m]\u001b[0m \u001b[0;34m!=\u001b[0m \u001b[0;34m'gblinear'\u001b[0m\u001b[0;34m:\u001b[0m\u001b[0;34m\u001b[0m\u001b[0;34m\u001b[0m\u001b[0m\n\u001b[0;32m--> 763\u001b[0;31m             raise AttributeError(\n\u001b[0m\u001b[1;32m    764\u001b[0m                 \u001b[0;34m'Coefficients are not defined for Booster type {}'\u001b[0m\u001b[0;34m\u001b[0m\u001b[0;34m\u001b[0m\u001b[0m\n\u001b[1;32m    765\u001b[0m                 .format(self.booster))\n",
      "\u001b[0;31mAttributeError\u001b[0m: Coefficients are not defined for Booster type None"
     ]
    }
   ],
   "source": [
    "print(xg_reg.coef_)\n"
   ]
  },
  {
   "cell_type": "markdown",
   "metadata": {},
   "source": [
    "## XGBoost importance"
   ]
  },
  {
   "cell_type": "code",
   "execution_count": 198,
   "metadata": {},
   "outputs": [
    {
     "data": {
      "text/plain": [
       "array([0.5037822 , 0.30330628, 0.11020401, 0.08270755], dtype=float32)"
      ]
     },
     "execution_count": 198,
     "metadata": {},
     "output_type": "execute_result"
    }
   ],
   "source": [
    "xgb_impt = xg_reg.feature_importances_\n",
    "xgb_impt"
   ]
  },
  {
   "cell_type": "code",
   "execution_count": 197,
   "metadata": {},
   "outputs": [
    {
     "data": {
      "text/plain": [
       "<matplotlib.axes._subplots.AxesSubplot at 0x122fda970>"
      ]
     },
     "execution_count": 197,
     "metadata": {},
     "output_type": "execute_result"
    },
    {
     "data": {
      "image/png": "[encoded data removed]",
      "text/plain": [
       "<Figure size 432x288 with 1 Axes>"
      ]
     },
     "metadata": {
      "needs_background": "light"
     },
     "output_type": "display_data"
    }
   ],
   "source": [
    "xgb.plot_importance(xg_reg)"
   ]
  },
  {
   "cell_type": "markdown",
   "metadata": {},
   "source": [
    "## Randomforest feature importance"
   ]
  },
  {
   "cell_type": "code",
   "execution_count": 72,
   "metadata": {},
   "outputs": [
    {
     "data": {
      "text/plain": [
       "array([0.90709987, 0.04997348, 0.03029292, 0.01263373])"
      ]
     },
     "execution_count": 72,
     "metadata": {},
     "output_type": "execute_result"
    }
   ],
   "source": [
    "rfmodel.feature_importances_"
   ]
  },
  {
   "cell_type": "code",
   "execution_count": 73,
   "metadata": {},
   "outputs": [],
   "source": [
    "importance = rfmodel.feature_importances_"
   ]
  },
  {
   "cell_type": "code",
   "execution_count": 74,
   "metadata": {},
   "outputs": [],
   "source": [
    "columns = X_train.columns"
   ]
  },
  {
   "cell_type": "code",
   "execution_count": 75,
   "metadata": {},
   "outputs": [],
   "source": [
    "rfGraph = pd.Series(importance,columns)"
   ]
  },
  {
   "cell_type": "code",
   "execution_count": 81,
   "metadata": {},
   "outputs": [
    {
     "data": {
      "text/plain": [
       "Text(0.5, 0, 'Feature importance')"
      ]
     },
     "execution_count": 81,
     "metadata": {},
     "output_type": "execute_result"
    },
    {
     "data": {
      "image/png": "[encoded data removed]",
      "text/plain": [
       "<Figure size 432x288 with 1 Axes>"
      ]
     },
     "metadata": {
      "needs_background": "light"
     },
     "output_type": "display_data"
    }
   ],
   "source": [
    "#figure(figsize(10,10))\n",
    "def addlabels(x,y):\n",
    "    for i in range(len(x)):\n",
    "        plt.text(i, y[i], y[i])\n",
    "\n",
    "rfGraph.sort_values().plot.barh(color = \"red\")\n",
    "plt.title(\"Random Forest Feaure Importance\")\n",
    "plt.xlabel(\"Feature importance\")\n",
    "#addlabels(columns,importance)"
   ]
  },
  {
   "cell_type": "code",
   "execution_count": 82,
   "metadata": {},
   "outputs": [
    {
     "data": {
      "text/plain": [
       "name_matching_score           0.907100\n",
       "nationality_matching_score    0.049973\n",
       "gender_matching_score         0.030293\n",
       "age_matching_score            0.012634\n",
       "dtype: float64"
      ]
     },
     "execution_count": 82,
     "metadata": {},
     "output_type": "execute_result"
    }
   ],
   "source": [
    "rfGraph"
   ]
  },
  {
   "cell_type": "code",
   "execution_count": 95,
   "metadata": {},
   "outputs": [
    {
     "name": "stderr",
     "output_type": "stream",
     "text": [
      "<ipython-input-95-4e21b216c705>:1: SettingWithCopyWarning: \n",
      "A value is trying to be set on a copy of a slice from a DataFrame.\n",
      "Try using .loc[row_indexer,col_indexer] = value instead\n",
      "\n",
      "See the caveats in the documentation: https://pandas.pydata.org/pandas-docs/stable/user_guide/indexing.html#returning-a-view-versus-a-copy\n",
      "  df['confidence score'] = (df['name_matching_score'] * 0.907100/100 + df['nationality_matching_score'] *0.049973 + df['gender_matching_score'] * 0.030293 + df['age_matching_score']* 0.012634)\n"
     ]
    }
   ],
   "source": [
    "df['confidence score'] = (df['name_matching_score'] * 0.907100/100 + df['nationality_matching_score'] *0.049973 + df['gender_matching_score'] * 0.030293 + df['age_matching_score']* 0.012634)\n",
    "\n"
   ]
  },
  {
   "cell_type": "code",
   "execution_count": 96,
   "metadata": {},
   "outputs": [
    {
     "data": {
      "text/html": [
       "<div>\n",
       "<style scoped>\n",
       "    .dataframe tbody tr th:only-of-type {\n",
       "        vertical-align: middle;\n",
       "    }\n",
       "\n",
       "    .dataframe tbody tr th {\n",
       "        vertical-align: top;\n",
       "    }\n",
       "\n",
       "    .dataframe thead th {\n",
       "        text-align: right;\n",
       "    }\n",
       "</style>\n",
       "<table border=\"1\" class=\"dataframe\">\n",
       "  <thead>\n",
       "    <tr style=\"text-align: right;\">\n",
       "      <th></th>\n",
       "      <th>name_matching_score</th>\n",
       "      <th>nationality_matching_score</th>\n",
       "      <th>gender_matching_score</th>\n",
       "      <th>age_matching_score</th>\n",
       "      <th>ground_confidence</th>\n",
       "      <th>confidence score</th>\n",
       "    </tr>\n",
       "  </thead>\n",
       "  <tbody>\n",
       "    <tr>\n",
       "      <th>0</th>\n",
       "      <td>100</td>\n",
       "      <td>1.0</td>\n",
       "      <td>0.901961</td>\n",
       "      <td>0</td>\n",
       "      <td>1</td>\n",
       "      <td>0.984396</td>\n",
       "    </tr>\n",
       "    <tr>\n",
       "      <th>1</th>\n",
       "      <td>100</td>\n",
       "      <td>1.0</td>\n",
       "      <td>0.400000</td>\n",
       "      <td>0</td>\n",
       "      <td>1</td>\n",
       "      <td>0.969190</td>\n",
       "    </tr>\n",
       "    <tr>\n",
       "      <th>2</th>\n",
       "      <td>100</td>\n",
       "      <td>1.0</td>\n",
       "      <td>0.000000</td>\n",
       "      <td>0</td>\n",
       "      <td>1</td>\n",
       "      <td>0.957073</td>\n",
       "    </tr>\n",
       "    <tr>\n",
       "      <th>3</th>\n",
       "      <td>100</td>\n",
       "      <td>1.0</td>\n",
       "      <td>0.000000</td>\n",
       "      <td>0</td>\n",
       "      <td>1</td>\n",
       "      <td>0.957073</td>\n",
       "    </tr>\n",
       "    <tr>\n",
       "      <th>4</th>\n",
       "      <td>100</td>\n",
       "      <td>0.0</td>\n",
       "      <td>0.000000</td>\n",
       "      <td>0</td>\n",
       "      <td>1</td>\n",
       "      <td>0.907100</td>\n",
       "    </tr>\n",
       "    <tr>\n",
       "      <th>5</th>\n",
       "      <td>100</td>\n",
       "      <td>1.0</td>\n",
       "      <td>0.000000</td>\n",
       "      <td>0</td>\n",
       "      <td>0</td>\n",
       "      <td>0.957073</td>\n",
       "    </tr>\n",
       "    <tr>\n",
       "      <th>6</th>\n",
       "      <td>100</td>\n",
       "      <td>1.0</td>\n",
       "      <td>1.000000</td>\n",
       "      <td>1</td>\n",
       "      <td>1</td>\n",
       "      <td>1.000000</td>\n",
       "    </tr>\n",
       "    <tr>\n",
       "      <th>7</th>\n",
       "      <td>100</td>\n",
       "      <td>1.0</td>\n",
       "      <td>0.000000</td>\n",
       "      <td>1</td>\n",
       "      <td>1</td>\n",
       "      <td>0.969707</td>\n",
       "    </tr>\n",
       "    <tr>\n",
       "      <th>8</th>\n",
       "      <td>100</td>\n",
       "      <td>1.0</td>\n",
       "      <td>1.000000</td>\n",
       "      <td>1</td>\n",
       "      <td>1</td>\n",
       "      <td>1.000000</td>\n",
       "    </tr>\n",
       "    <tr>\n",
       "      <th>9</th>\n",
       "      <td>100</td>\n",
       "      <td>0.0</td>\n",
       "      <td>1.000000</td>\n",
       "      <td>1</td>\n",
       "      <td>1</td>\n",
       "      <td>0.950027</td>\n",
       "    </tr>\n",
       "  </tbody>\n",
       "</table>\n",
       "</div>"
      ],
      "text/plain": [
       "   name_matching_score  nationality_matching_score  gender_matching_score  \\\n",
       "0                  100                         1.0               0.901961   \n",
       "1                  100                         1.0               0.400000   \n",
       "2                  100                         1.0               0.000000   \n",
       "3                  100                         1.0               0.000000   \n",
       "4                  100                         0.0               0.000000   \n",
       "5                  100                         1.0               0.000000   \n",
       "6                  100                         1.0               1.000000   \n",
       "7                  100                         1.0               0.000000   \n",
       "8                  100                         1.0               1.000000   \n",
       "9                  100                         0.0               1.000000   \n",
       "\n",
       "   age_matching_score  ground_confidence  confidence score  \n",
       "0                   0                  1          0.984396  \n",
       "1                   0                  1          0.969190  \n",
       "2                   0                  1          0.957073  \n",
       "3                   0                  1          0.957073  \n",
       "4                   0                  1          0.907100  \n",
       "5                   0                  0          0.957073  \n",
       "6                   1                  1          1.000000  \n",
       "7                   1                  1          0.969707  \n",
       "8                   1                  1          1.000000  \n",
       "9                   1                  1          0.950027  "
      ]
     },
     "execution_count": 96,
     "metadata": {},
     "output_type": "execute_result"
    }
   ],
   "source": [
    "df.head(10)"
   ]
  },
  {
   "cell_type": "code",
   "execution_count": 103,
   "metadata": {},
   "outputs": [
    {
     "data": {
      "text/plain": [
       "2"
      ]
     },
     "execution_count": 103,
     "metadata": {},
     "output_type": "execute_result"
    }
   ],
   "source": [
    "len(df[(df['confidence score'] > 0.95) & (df['ground_confidence'] ==0)])"
   ]
  },
  {
   "cell_type": "code",
   "execution_count": 108,
   "metadata": {},
   "outputs": [],
   "source": []
  },
  {
   "cell_type": "code",
   "execution_count": 109,
   "metadata": {},
   "outputs": [
    {
     "name": "stdout",
     "output_type": "stream",
     "text": [
      "Model Accuracy is 47.701149425287355%\n"
     ]
    }
   ],
   "source": [
    "print(f\"Model Accuracy is {accuracy*100}%\")"
   ]
  },
  {
   "cell_type": "code",
   "execution_count": 201,
   "metadata": {},
   "outputs": [
    {
     "data": {
      "text/html": [
       "<div>\n",
       "<style scoped>\n",
       "    .dataframe tbody tr th:only-of-type {\n",
       "        vertical-align: middle;\n",
       "    }\n",
       "\n",
       "    .dataframe tbody tr th {\n",
       "        vertical-align: top;\n",
       "    }\n",
       "\n",
       "    .dataframe thead th {\n",
       "        text-align: right;\n",
       "    }\n",
       "</style>\n",
       "<table border=\"1\" class=\"dataframe\">\n",
       "  <thead>\n",
       "    <tr style=\"text-align: right;\">\n",
       "      <th></th>\n",
       "      <th>name_matching_score</th>\n",
       "      <th>nationality_matching_score</th>\n",
       "      <th>gender_matching_score</th>\n",
       "      <th>age_matching_score</th>\n",
       "      <th>ground_confidence</th>\n",
       "      <th>confidence score</th>\n",
       "    </tr>\n",
       "  </thead>\n",
       "  <tbody>\n",
       "    <tr>\n",
       "      <th>0</th>\n",
       "      <td>100</td>\n",
       "      <td>1.0</td>\n",
       "      <td>0.901961</td>\n",
       "      <td>0</td>\n",
       "      <td>1</td>\n",
       "      <td>0.984396</td>\n",
       "    </tr>\n",
       "    <tr>\n",
       "      <th>1</th>\n",
       "      <td>100</td>\n",
       "      <td>1.0</td>\n",
       "      <td>0.400000</td>\n",
       "      <td>0</td>\n",
       "      <td>1</td>\n",
       "      <td>0.969190</td>\n",
       "    </tr>\n",
       "    <tr>\n",
       "      <th>2</th>\n",
       "      <td>100</td>\n",
       "      <td>1.0</td>\n",
       "      <td>0.000000</td>\n",
       "      <td>0</td>\n",
       "      <td>1</td>\n",
       "      <td>0.957073</td>\n",
       "    </tr>\n",
       "    <tr>\n",
       "      <th>3</th>\n",
       "      <td>100</td>\n",
       "      <td>1.0</td>\n",
       "      <td>0.000000</td>\n",
       "      <td>0</td>\n",
       "      <td>1</td>\n",
       "      <td>0.957073</td>\n",
       "    </tr>\n",
       "    <tr>\n",
       "      <th>4</th>\n",
       "      <td>100</td>\n",
       "      <td>0.0</td>\n",
       "      <td>0.000000</td>\n",
       "      <td>0</td>\n",
       "      <td>1</td>\n",
       "      <td>0.907100</td>\n",
       "    </tr>\n",
       "    <tr>\n",
       "      <th>5</th>\n",
       "      <td>100</td>\n",
       "      <td>1.0</td>\n",
       "      <td>0.000000</td>\n",
       "      <td>0</td>\n",
       "      <td>0</td>\n",
       "      <td>0.957073</td>\n",
       "    </tr>\n",
       "    <tr>\n",
       "      <th>6</th>\n",
       "      <td>100</td>\n",
       "      <td>1.0</td>\n",
       "      <td>1.000000</td>\n",
       "      <td>1</td>\n",
       "      <td>1</td>\n",
       "      <td>1.000000</td>\n",
       "    </tr>\n",
       "    <tr>\n",
       "      <th>7</th>\n",
       "      <td>100</td>\n",
       "      <td>1.0</td>\n",
       "      <td>0.000000</td>\n",
       "      <td>1</td>\n",
       "      <td>1</td>\n",
       "      <td>0.969707</td>\n",
       "    </tr>\n",
       "    <tr>\n",
       "      <th>8</th>\n",
       "      <td>100</td>\n",
       "      <td>1.0</td>\n",
       "      <td>1.000000</td>\n",
       "      <td>1</td>\n",
       "      <td>1</td>\n",
       "      <td>1.000000</td>\n",
       "    </tr>\n",
       "    <tr>\n",
       "      <th>9</th>\n",
       "      <td>100</td>\n",
       "      <td>0.0</td>\n",
       "      <td>1.000000</td>\n",
       "      <td>1</td>\n",
       "      <td>1</td>\n",
       "      <td>0.950027</td>\n",
       "    </tr>\n",
       "  </tbody>\n",
       "</table>\n",
       "</div>"
      ],
      "text/plain": [
       "   name_matching_score  nationality_matching_score  gender_matching_score  \\\n",
       "0                  100                         1.0               0.901961   \n",
       "1                  100                         1.0               0.400000   \n",
       "2                  100                         1.0               0.000000   \n",
       "3                  100                         1.0               0.000000   \n",
       "4                  100                         0.0               0.000000   \n",
       "5                  100                         1.0               0.000000   \n",
       "6                  100                         1.0               1.000000   \n",
       "7                  100                         1.0               0.000000   \n",
       "8                  100                         1.0               1.000000   \n",
       "9                  100                         0.0               1.000000   \n",
       "\n",
       "   age_matching_score  ground_confidence  confidence score  \n",
       "0                   0                  1          0.984396  \n",
       "1                   0                  1          0.969190  \n",
       "2                   0                  1          0.957073  \n",
       "3                   0                  1          0.957073  \n",
       "4                   0                  1          0.907100  \n",
       "5                   0                  0          0.957073  \n",
       "6                   1                  1          1.000000  \n",
       "7                   1                  1          0.969707  \n",
       "8                   1                  1          1.000000  \n",
       "9                   1                  1          0.950027  "
      ]
     },
     "execution_count": 201,
     "metadata": {},
     "output_type": "execute_result"
    }
   ],
   "source": [
    "df.head(10)"
   ]
  },
  {
   "cell_type": "code",
   "execution_count": 152,
   "metadata": {},
   "outputs": [],
   "source": [
    "true_positive = len(df[(df['confidence score'] > 0.95) & (df['ground_confidence'] ==1)])\n",
    "false_positive = len(df[(df['confidence score'] < 0.95) & (df['ground_confidence'] ==1)])\n",
    "true_negative = len(df[(df['confidence score'] < 0.95) & (df['ground_confidence'] ==0)])\n",
    "false_negative = len(df[(df['confidence score'] > 0.95) & (df['ground_confidence'] ==0)])"
   ]
  },
  {
   "cell_type": "code",
   "execution_count": 153,
   "metadata": {},
   "outputs": [],
   "source": [
    "accuracy = (true_positive + true_negative +false_negative)/ len(df) "
   ]
  },
  {
   "cell_type": "code",
   "execution_count": 154,
   "metadata": {},
   "outputs": [
    {
     "name": "stdout",
     "output_type": "stream",
     "text": [
      "Model Accuracy is 81.60919540229885%\n"
     ]
    }
   ],
   "source": [
    "print(f\"Model Accuracy is {accuracy*100}%\")"
   ]
  },
  {
   "cell_type": "code",
   "execution_count": 151,
   "metadata": {},
   "outputs": [
    {
     "data": {
      "text/html": [
       "<div>\n",
       "<style scoped>\n",
       "    .dataframe tbody tr th:only-of-type {\n",
       "        vertical-align: middle;\n",
       "    }\n",
       "\n",
       "    .dataframe tbody tr th {\n",
       "        vertical-align: top;\n",
       "    }\n",
       "\n",
       "    .dataframe thead th {\n",
       "        text-align: right;\n",
       "    }\n",
       "</style>\n",
       "<table border=\"1\" class=\"dataframe\">\n",
       "  <thead>\n",
       "    <tr style=\"text-align: right;\">\n",
       "      <th></th>\n",
       "      <th>name_matching_score</th>\n",
       "      <th>nationality_matching_score</th>\n",
       "      <th>gender_matching_score</th>\n",
       "      <th>age_matching_score</th>\n",
       "      <th>ground_confidence</th>\n",
       "      <th>confidence score</th>\n",
       "    </tr>\n",
       "  </thead>\n",
       "  <tbody>\n",
       "    <tr>\n",
       "      <th>5</th>\n",
       "      <td>100</td>\n",
       "      <td>1.0</td>\n",
       "      <td>0.0</td>\n",
       "      <td>0</td>\n",
       "      <td>0</td>\n",
       "      <td>0.957073</td>\n",
       "    </tr>\n",
       "    <tr>\n",
       "      <th>78</th>\n",
       "      <td>100</td>\n",
       "      <td>1.0</td>\n",
       "      <td>0.0</td>\n",
       "      <td>1</td>\n",
       "      <td>0</td>\n",
       "      <td>0.969707</td>\n",
       "    </tr>\n",
       "  </tbody>\n",
       "</table>\n",
       "</div>"
      ],
      "text/plain": [
       "    name_matching_score  nationality_matching_score  gender_matching_score  \\\n",
       "5                   100                         1.0                    0.0   \n",
       "78                  100                         1.0                    0.0   \n",
       "\n",
       "    age_matching_score  ground_confidence  confidence score  \n",
       "5                    0                  0          0.957073  \n",
       "78                   1                  0          0.969707  "
      ]
     },
     "execution_count": 151,
     "metadata": {},
     "output_type": "execute_result"
    }
   ],
   "source": [
    "df[(df['confidence score'] > 0.95) & (df['ground_confidence'] ==0)]"
   ]
  },
  {
   "cell_type": "markdown",
   "metadata": {},
   "source": [
    "## Threshold of 0.9 False Positive Rate"
   ]
  },
  {
   "cell_type": "code",
   "execution_count": 168,
   "metadata": {},
   "outputs": [
    {
     "name": "stdout",
     "output_type": "stream",
     "text": [
      "With a threshold of 0.9, false positive rate is 4.597701149425287%\n"
     ]
    }
   ],
   "source": [
    "ninety = len(df[(df['confidence score'] > 0.90) & (df['ground_confidence'] ==0)]) * 100/len(df)\n",
    "\n",
    "print(f\"With a threshold of 0.9, false positive rate is {ninety}%\")"
   ]
  },
  {
   "cell_type": "code",
   "execution_count": 171,
   "metadata": {},
   "outputs": [
    {
     "name": "stdout",
     "output_type": "stream",
     "text": [
      "With a threshold of 0.95, false positive rate is 1.1494252873563218%\n"
     ]
    }
   ],
   "source": [
    "ninetyfive = len(df[(df['confidence score'] > 0.95) & (df['ground_confidence'] ==0)]) * 100/len(df)\n",
    "print(f\"With a threshold of 0.95, false positive rate is {ninetyfive}%\")"
   ]
  },
  {
   "cell_type": "code",
   "execution_count": 170,
   "metadata": {},
   "outputs": [
    {
     "name": "stdout",
     "output_type": "stream",
     "text": [
      "The difference in false positive rate is 3.4482758620689653%\n"
     ]
    }
   ],
   "source": [
    "print(f\"The difference in false positive rate is {ninety-ninetyfive}%\")"
   ]
  }
 ],
 "metadata": {
  "kernelspec": {
   "display_name": "Python 3",
   "language": "python",
   "name": "python3"
  },
  "language_info": {
   "codemirror_mode": {
    "name": "ipython",
    "version": 3
   },
   "file_extension": ".py",
   "mimetype": "text/x-python",
   "name": "python",
   "nbconvert_exporter": "python",
   "pygments_lexer": "ipython3",
   "version": "3.8.3"
  }
 },
 "nbformat": 4,
 "nbformat_minor": 4
}
