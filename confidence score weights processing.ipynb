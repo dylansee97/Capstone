{
 "cells": [
  {
   "cell_type": "code",
   "execution_count": 47,
   "source": [
    "import pandas as pd\r\n",
    "import numpy as np\r\n",
    "from sklearn.model_selection import train_test_split\r\n",
    "from sklearn.linear_model import LogisticRegression\r\n",
    "import xgboost as xgb\r\n",
    "import matplotlib.pyplot as plt\r\n",
    "from matplotlib.pyplot import figure"
   ],
   "outputs": [],
   "metadata": {}
  },
  {
   "cell_type": "code",
   "execution_count": 48,
   "source": [
    "df = pd.read_excel('test_data.xlsx')"
   ],
   "outputs": [],
   "metadata": {}
  },
  {
   "cell_type": "code",
   "execution_count": 49,
   "source": [
    "df"
   ],
   "outputs": [
    {
     "output_type": "execute_result",
     "data": {
      "text/html": [
       "<div>\n",
       "<style scoped>\n",
       "    .dataframe tbody tr th:only-of-type {\n",
       "        vertical-align: middle;\n",
       "    }\n",
       "\n",
       "    .dataframe tbody tr th {\n",
       "        vertical-align: top;\n",
       "    }\n",
       "\n",
       "    .dataframe thead th {\n",
       "        text-align: right;\n",
       "    }\n",
       "</style>\n",
       "<table border=\"1\" class=\"dataframe\">\n",
       "  <thead>\n",
       "    <tr style=\"text-align: right;\">\n",
       "      <th></th>\n",
       "      <th>Unnamed: 0</th>\n",
       "      <th>name</th>\n",
       "      <th>title</th>\n",
       "      <th>time</th>\n",
       "      <th>year_of_birth</th>\n",
       "      <th>description</th>\n",
       "      <th>link</th>\n",
       "      <th>text</th>\n",
       "      <th>sentiment?</th>\n",
       "      <th>names_list</th>\n",
       "      <th>name_matching_score</th>\n",
       "      <th>nationality_matching_score</th>\n",
       "      <th>gender_matching_score</th>\n",
       "      <th>age_matching_score</th>\n",
       "      <th>ground_confidence</th>\n",
       "    </tr>\n",
       "  </thead>\n",
       "  <tbody>\n",
       "    <tr>\n",
       "      <th>0</th>\n",
       "      <td>0</td>\n",
       "      <td>Chia Teck Leng</td>\n",
       "      <td>Guilty As Charged: Chia Teck Leng led a double...</td>\n",
       "      <td>64 months ago</td>\n",
       "      <td>56</td>\n",
       "      <td>Asia Pacific Breweries executive Chia Teck Len...</td>\n",
       "      <td>https://www.straitstimes.com/singapore/courts-...</td>\n",
       "      <td>This story was first published in July 2015 in...</td>\n",
       "      <td>{'neg': 0.453, 'neu': 0.495, 'pos': 0.052, 'co...</td>\n",
       "      <td>Counter({'Chia': 10, 'Chia Teck Leng': 4, 'Li ...</td>\n",
       "      <td>100</td>\n",
       "      <td>1.0</td>\n",
       "      <td>0.901961</td>\n",
       "      <td>0</td>\n",
       "      <td>1</td>\n",
       "    </tr>\n",
       "    <tr>\n",
       "      <th>1</th>\n",
       "      <td>3</td>\n",
       "      <td>Chia Teck Leng</td>\n",
       "      <td>Guilty As Charged: Shocking crimes that have s...</td>\n",
       "      <td>64 months ago</td>\n",
       "      <td>56</td>\n",
       "      <td>Chia Teck Leng secretly led a double life as a...</td>\n",
       "      <td>https://www.straitstimes.com/singapore/courts-...</td>\n",
       "      <td>The following stories were first published in ...</td>\n",
       "      <td>{'neg': 0.47, 'neu': 0.498, 'pos': 0.031, 'com...</td>\n",
       "      <td>Counter({'Chia Teck Leng': 3, 'Weng Wah': 3, '...</td>\n",
       "      <td>100</td>\n",
       "      <td>1.0</td>\n",
       "      <td>0.400000</td>\n",
       "      <td>0</td>\n",
       "      <td>1</td>\n",
       "    </tr>\n",
       "    <tr>\n",
       "      <th>2</th>\n",
       "      <td>6</td>\n",
       "      <td>Chia Teck Leng</td>\n",
       "      <td>Accountant who embezzled $40m a compulsive gam...</td>\n",
       "      <td>27 months ago</td>\n",
       "      <td>59</td>\n",
       "      <td>While Ewe did not amass riches from his crimes...</td>\n",
       "      <td>https://www.straitstimes.com/singapore/courts-...</td>\n",
       "      <td>SINGAPORE - Certified public accountant Ewe Pa...</td>\n",
       "      <td>{'neg': 0.322, 'neu': 0.648, 'pos': 0.03, 'com...</td>\n",
       "      <td>Counter({'Ewe': 3, 'Chia Teck Leng': 2, 'Khoo'...</td>\n",
       "      <td>100</td>\n",
       "      <td>1.0</td>\n",
       "      <td>0.000000</td>\n",
       "      <td>0</td>\n",
       "      <td>1</td>\n",
       "    </tr>\n",
       "    <tr>\n",
       "      <th>3</th>\n",
       "      <td>9</td>\n",
       "      <td>Chia Teck Leng</td>\n",
       "      <td>John Soh could face longest-ever jail term for...</td>\n",
       "      <td>54 months ago</td>\n",
       "      <td>57</td>\n",
       "      <td>SINGAPORE (March 3): Chia Teck Leng, a former ...</td>\n",
       "      <td>https://www.theedgemarkets.com/article/john-so...</td>\n",
       "      <td>SINGAPORE (March 3): Chia Teck Leng, a former ...</td>\n",
       "      <td>{'neg': 0.519, 'neu': 0.464, 'pos': 0.017, 'co...</td>\n",
       "      <td>Counter({'Soh': 5, 'Chia': 3, 'Chia Teck Leng'...</td>\n",
       "      <td>100</td>\n",
       "      <td>1.0</td>\n",
       "      <td>0.000000</td>\n",
       "      <td>0</td>\n",
       "      <td>1</td>\n",
       "    </tr>\n",
       "    <tr>\n",
       "      <th>4</th>\n",
       "      <td>12</td>\n",
       "      <td>Chia Teck Leng</td>\n",
       "      <td>Sherlock Holmes of Shenton Way, Brunch - THE B...</td>\n",
       "      <td>38 months ago</td>\n",
       "      <td>58</td>\n",
       "      <td>PwC forensics leader Chan Kheng Tek adds that ...</td>\n",
       "      <td>https://www.businesstimes.com.sg/brunch/sherlo...</td>\n",
       "      <td>NaN</td>\n",
       "      <td>{'neg': 0.0, 'neu': 0.0, 'pos': 0.0, 'compound...</td>\n",
       "      <td>Counter({'Chan Kheng': 1, 'Chia Teck Leng': 1})</td>\n",
       "      <td>100</td>\n",
       "      <td>0.0</td>\n",
       "      <td>0.000000</td>\n",
       "      <td>0</td>\n",
       "      <td>1</td>\n",
       "    </tr>\n",
       "    <tr>\n",
       "      <th>...</th>\n",
       "      <td>...</td>\n",
       "      <td>...</td>\n",
       "      <td>...</td>\n",
       "      <td>...</td>\n",
       "      <td>...</td>\n",
       "      <td>...</td>\n",
       "      <td>...</td>\n",
       "      <td>...</td>\n",
       "      <td>...</td>\n",
       "      <td>...</td>\n",
       "      <td>...</td>\n",
       "      <td>...</td>\n",
       "      <td>...</td>\n",
       "      <td>...</td>\n",
       "      <td>...</td>\n",
       "    </tr>\n",
       "    <tr>\n",
       "      <th>88</th>\n",
       "      <td>12</td>\n",
       "      <td>Tay Sheng Yang</td>\n",
       "      <td>Orchard Towers murder: Man who threw away bloo...</td>\n",
       "      <td>8 months ago</td>\n",
       "      <td>0</td>\n",
       "      <td>... to that of consorting with 29-year-old Tan...</td>\n",
       "      <td>https://www.straitstimes.com/singapore/courts-...</td>\n",
       "      <td>SINGAPORE - A 27-year-old man linked to the 20...</td>\n",
       "      <td>{'neg': 0.569, 'neu': 0.414, 'pos': 0.018, 'co...</td>\n",
       "      <td>Counter({'Tan': 8, 'Loo': 6, 'Tan Seng Yang': ...</td>\n",
       "      <td>89</td>\n",
       "      <td>1.0</td>\n",
       "      <td>0.000000</td>\n",
       "      <td>1</td>\n",
       "      <td>0</td>\n",
       "    </tr>\n",
       "    <tr>\n",
       "      <th>89</th>\n",
       "      <td>0</td>\n",
       "      <td>SAHIN Huseyin</td>\n",
       "      <td>Mum stabbed to death by her husband AND her ex...</td>\n",
       "      <td>11 months ago</td>\n",
       "      <td>63</td>\n",
       "      <td>Edanur Sahin, 24, was stabbed a total of 13 ti...</td>\n",
       "      <td>https://www.thesun.co.uk/news/12861810/mum-sta...</td>\n",
       "      <td>A YOUNG mum was stabbed to death by both her h...</td>\n",
       "      <td>{'neg': 0.363, 'neu': 0.599, 'pos': 0.038, 'co...</td>\n",
       "      <td>Counter({'Huseyin Sahin': 4, 'Edanur': 3, 'Eda...</td>\n",
       "      <td>100</td>\n",
       "      <td>0.0</td>\n",
       "      <td>0.000000</td>\n",
       "      <td>0</td>\n",
       "      <td>1</td>\n",
       "    </tr>\n",
       "    <tr>\n",
       "      <th>90</th>\n",
       "      <td>0</td>\n",
       "      <td>NaN</td>\n",
       "      <td>UK Government has ordered to freeze assets of ...</td>\n",
       "      <td>11 months ago</td>\n",
       "      <td>0</td>\n",
       "      <td>... Mohammad, Jibril (4) ARDHAN, Muhamad, Rick...</td>\n",
       "      <td>https://finchannel.com/uk-government-has-order...</td>\n",
       "      <td>NaN</td>\n",
       "      <td>{'neg': 0.124, 'neu': 0.861, 'pos': 0.015, 'co...</td>\n",
       "      <td>Counter({'Muhammad': 37, 'Abdul': 20, 'Abd': 1...</td>\n",
       "      <td>100</td>\n",
       "      <td>0.0</td>\n",
       "      <td>0.000000</td>\n",
       "      <td>0</td>\n",
       "      <td>1</td>\n",
       "    </tr>\n",
       "    <tr>\n",
       "      <th>91</th>\n",
       "      <td>3</td>\n",
       "      <td>NaN</td>\n",
       "      <td>What an 'October surprise' from North Korea mi...</td>\n",
       "      <td>11 months ago</td>\n",
       "      <td>0</td>\n",
       "      <td>... in accordance with Policing and Crime Act ...</td>\n",
       "      <td>https://finchannel.com/what-an-october-surpris...</td>\n",
       "      <td>The FINANCIAL — On January 1, North Korea’s ru...</td>\n",
       "      <td>{'neg': 0.067, 'neu': 0.813, 'pos': 0.121, 'co...</td>\n",
       "      <td>Counter({'Kim': 13, 'Kim Jong Un': 3, 'Ricky':...</td>\n",
       "      <td>100</td>\n",
       "      <td>0.0</td>\n",
       "      <td>0.000000</td>\n",
       "      <td>1</td>\n",
       "      <td>1</td>\n",
       "    </tr>\n",
       "    <tr>\n",
       "      <th>92</th>\n",
       "      <td>6</td>\n",
       "      <td>NaN</td>\n",
       "      <td>OPINION: Forging resilient regional supply cha...</td>\n",
       "      <td>11 months ago</td>\n",
       "      <td>0</td>\n",
       "      <td>... in accordance with Policing and Crime Act ...</td>\n",
       "      <td>https://finchannel.com/opinion-forging-resilie...</td>\n",
       "      <td>Participation in global and regional supply ch...</td>\n",
       "      <td>{'neg': 0.06, 'neu': 0.808, 'pos': 0.132, 'com...</td>\n",
       "      <td>Counter({'Ricky': 2, 'Mohammad': 1, 'Jibril': ...</td>\n",
       "      <td>100</td>\n",
       "      <td>0.0</td>\n",
       "      <td>0.000000</td>\n",
       "      <td>0</td>\n",
       "      <td>1</td>\n",
       "    </tr>\n",
       "  </tbody>\n",
       "</table>\n",
       "<p>93 rows × 15 columns</p>\n",
       "</div>"
      ],
      "text/plain": [
       "    Unnamed: 0            name  \\\n",
       "0            0  Chia Teck Leng   \n",
       "1            3  Chia Teck Leng   \n",
       "2            6  Chia Teck Leng   \n",
       "3            9  Chia Teck Leng   \n",
       "4           12  Chia Teck Leng   \n",
       "..         ...             ...   \n",
       "88          12  Tay Sheng Yang   \n",
       "89           0   SAHIN Huseyin   \n",
       "90           0             NaN   \n",
       "91           3             NaN   \n",
       "92           6             NaN   \n",
       "\n",
       "                                                title           time  \\\n",
       "0   Guilty As Charged: Chia Teck Leng led a double...  64 months ago   \n",
       "1   Guilty As Charged: Shocking crimes that have s...  64 months ago   \n",
       "2   Accountant who embezzled $40m a compulsive gam...  27 months ago   \n",
       "3   John Soh could face longest-ever jail term for...  54 months ago   \n",
       "4   Sherlock Holmes of Shenton Way, Brunch - THE B...  38 months ago   \n",
       "..                                                ...            ...   \n",
       "88  Orchard Towers murder: Man who threw away bloo...   8 months ago   \n",
       "89  Mum stabbed to death by her husband AND her ex...  11 months ago   \n",
       "90  UK Government has ordered to freeze assets of ...  11 months ago   \n",
       "91  What an 'October surprise' from North Korea mi...  11 months ago   \n",
       "92  OPINION: Forging resilient regional supply cha...  11 months ago   \n",
       "\n",
       "    year_of_birth                                        description  \\\n",
       "0              56  Asia Pacific Breweries executive Chia Teck Len...   \n",
       "1              56  Chia Teck Leng secretly led a double life as a...   \n",
       "2              59  While Ewe did not amass riches from his crimes...   \n",
       "3              57  SINGAPORE (March 3): Chia Teck Leng, a former ...   \n",
       "4              58  PwC forensics leader Chan Kheng Tek adds that ...   \n",
       "..            ...                                                ...   \n",
       "88              0  ... to that of consorting with 29-year-old Tan...   \n",
       "89             63  Edanur Sahin, 24, was stabbed a total of 13 ti...   \n",
       "90              0  ... Mohammad, Jibril (4) ARDHAN, Muhamad, Rick...   \n",
       "91              0  ... in accordance with Policing and Crime Act ...   \n",
       "92              0  ... in accordance with Policing and Crime Act ...   \n",
       "\n",
       "                                                 link  \\\n",
       "0   https://www.straitstimes.com/singapore/courts-...   \n",
       "1   https://www.straitstimes.com/singapore/courts-...   \n",
       "2   https://www.straitstimes.com/singapore/courts-...   \n",
       "3   https://www.theedgemarkets.com/article/john-so...   \n",
       "4   https://www.businesstimes.com.sg/brunch/sherlo...   \n",
       "..                                                ...   \n",
       "88  https://www.straitstimes.com/singapore/courts-...   \n",
       "89  https://www.thesun.co.uk/news/12861810/mum-sta...   \n",
       "90  https://finchannel.com/uk-government-has-order...   \n",
       "91  https://finchannel.com/what-an-october-surpris...   \n",
       "92  https://finchannel.com/opinion-forging-resilie...   \n",
       "\n",
       "                                                 text  \\\n",
       "0   This story was first published in July 2015 in...   \n",
       "1   The following stories were first published in ...   \n",
       "2   SINGAPORE - Certified public accountant Ewe Pa...   \n",
       "3   SINGAPORE (March 3): Chia Teck Leng, a former ...   \n",
       "4                                                 NaN   \n",
       "..                                                ...   \n",
       "88  SINGAPORE - A 27-year-old man linked to the 20...   \n",
       "89  A YOUNG mum was stabbed to death by both her h...   \n",
       "90                                                NaN   \n",
       "91  The FINANCIAL — On January 1, North Korea’s ru...   \n",
       "92  Participation in global and regional supply ch...   \n",
       "\n",
       "                                           sentiment?  \\\n",
       "0   {'neg': 0.453, 'neu': 0.495, 'pos': 0.052, 'co...   \n",
       "1   {'neg': 0.47, 'neu': 0.498, 'pos': 0.031, 'com...   \n",
       "2   {'neg': 0.322, 'neu': 0.648, 'pos': 0.03, 'com...   \n",
       "3   {'neg': 0.519, 'neu': 0.464, 'pos': 0.017, 'co...   \n",
       "4   {'neg': 0.0, 'neu': 0.0, 'pos': 0.0, 'compound...   \n",
       "..                                                ...   \n",
       "88  {'neg': 0.569, 'neu': 0.414, 'pos': 0.018, 'co...   \n",
       "89  {'neg': 0.363, 'neu': 0.599, 'pos': 0.038, 'co...   \n",
       "90  {'neg': 0.124, 'neu': 0.861, 'pos': 0.015, 'co...   \n",
       "91  {'neg': 0.067, 'neu': 0.813, 'pos': 0.121, 'co...   \n",
       "92  {'neg': 0.06, 'neu': 0.808, 'pos': 0.132, 'com...   \n",
       "\n",
       "                                           names_list  name_matching_score  \\\n",
       "0   Counter({'Chia': 10, 'Chia Teck Leng': 4, 'Li ...                  100   \n",
       "1   Counter({'Chia Teck Leng': 3, 'Weng Wah': 3, '...                  100   \n",
       "2   Counter({'Ewe': 3, 'Chia Teck Leng': 2, 'Khoo'...                  100   \n",
       "3   Counter({'Soh': 5, 'Chia': 3, 'Chia Teck Leng'...                  100   \n",
       "4     Counter({'Chan Kheng': 1, 'Chia Teck Leng': 1})                  100   \n",
       "..                                                ...                  ...   \n",
       "88  Counter({'Tan': 8, 'Loo': 6, 'Tan Seng Yang': ...                   89   \n",
       "89  Counter({'Huseyin Sahin': 4, 'Edanur': 3, 'Eda...                  100   \n",
       "90  Counter({'Muhammad': 37, 'Abdul': 20, 'Abd': 1...                  100   \n",
       "91  Counter({'Kim': 13, 'Kim Jong Un': 3, 'Ricky':...                  100   \n",
       "92  Counter({'Ricky': 2, 'Mohammad': 1, 'Jibril': ...                  100   \n",
       "\n",
       "    nationality_matching_score  gender_matching_score  age_matching_score  \\\n",
       "0                          1.0               0.901961                   0   \n",
       "1                          1.0               0.400000                   0   \n",
       "2                          1.0               0.000000                   0   \n",
       "3                          1.0               0.000000                   0   \n",
       "4                          0.0               0.000000                   0   \n",
       "..                         ...                    ...                 ...   \n",
       "88                         1.0               0.000000                   1   \n",
       "89                         0.0               0.000000                   0   \n",
       "90                         0.0               0.000000                   0   \n",
       "91                         0.0               0.000000                   1   \n",
       "92                         0.0               0.000000                   0   \n",
       "\n",
       "    ground_confidence  \n",
       "0                   1  \n",
       "1                   1  \n",
       "2                   1  \n",
       "3                   1  \n",
       "4                   1  \n",
       "..                ...  \n",
       "88                  0  \n",
       "89                  1  \n",
       "90                  1  \n",
       "91                  1  \n",
       "92                  1  \n",
       "\n",
       "[93 rows x 15 columns]"
      ]
     },
     "metadata": {},
     "execution_count": 49
    }
   ],
   "metadata": {}
  },
  {
   "cell_type": "code",
   "execution_count": 50,
   "source": [
    "df = df[['name_matching_score','nationality_matching_score','gender_matching_score','age_matching_score','ground_confidence']]"
   ],
   "outputs": [],
   "metadata": {}
  },
  {
   "cell_type": "code",
   "execution_count": 51,
   "source": [
    "df[(df['gender_matching_score'] == 1) & (df['ground_confidence'] == 0)]"
   ],
   "outputs": [
    {
     "output_type": "execute_result",
     "data": {
      "text/html": [
       "<div>\n",
       "<style scoped>\n",
       "    .dataframe tbody tr th:only-of-type {\n",
       "        vertical-align: middle;\n",
       "    }\n",
       "\n",
       "    .dataframe tbody tr th {\n",
       "        vertical-align: top;\n",
       "    }\n",
       "\n",
       "    .dataframe thead th {\n",
       "        text-align: right;\n",
       "    }\n",
       "</style>\n",
       "<table border=\"1\" class=\"dataframe\">\n",
       "  <thead>\n",
       "    <tr style=\"text-align: right;\">\n",
       "      <th></th>\n",
       "      <th>name_matching_score</th>\n",
       "      <th>nationality_matching_score</th>\n",
       "      <th>gender_matching_score</th>\n",
       "      <th>age_matching_score</th>\n",
       "      <th>ground_confidence</th>\n",
       "    </tr>\n",
       "  </thead>\n",
       "  <tbody>\n",
       "  </tbody>\n",
       "</table>\n",
       "</div>"
      ],
      "text/plain": [
       "Empty DataFrame\n",
       "Columns: [name_matching_score, nationality_matching_score, gender_matching_score, age_matching_score, ground_confidence]\n",
       "Index: []"
      ]
     },
     "metadata": {},
     "execution_count": 51
    }
   ],
   "metadata": {}
  },
  {
   "cell_type": "code",
   "execution_count": 52,
   "source": [
    "feature_cols = ['name_matching_score','nationality_matching_score','gender_matching_score','age_matching_score']\r\n",
    "X = df[feature_cols]\r\n",
    "\r\n",
    "y = df.ground_confidence"
   ],
   "outputs": [],
   "metadata": {}
  },
  {
   "cell_type": "code",
   "execution_count": 53,
   "source": [
    "X_train,X_test,y_train,y_test=train_test_split(X,y,test_size=0.25,random_state=555)"
   ],
   "outputs": [],
   "metadata": {}
  },
  {
   "cell_type": "code",
   "execution_count": 54,
   "source": [
    "logreg = LogisticRegression()\r\n",
    "\r\n",
    "logreg.fit(X_train,y_train)\r\n",
    "\r\n",
    "y_pred=logreg.predict(X_test)"
   ],
   "outputs": [],
   "metadata": {}
  },
  {
   "cell_type": "code",
   "execution_count": 55,
   "source": [
    "from sklearn import metrics\r\n",
    "cnf_matrix = metrics.confusion_matrix(y_test, y_pred)\r\n",
    "cnf_matrix"
   ],
   "outputs": [
    {
     "output_type": "execute_result",
     "data": {
      "text/plain": [
       "array([[ 0,  3],\n",
       "       [ 0, 21]], dtype=int64)"
      ]
     },
     "metadata": {},
     "execution_count": 55
    }
   ],
   "metadata": {}
  },
  {
   "cell_type": "code",
   "execution_count": 56,
   "source": [
    "import numpy as np\r\n",
    "import matplotlib.pyplot as plt\r\n",
    "import seaborn as sns"
   ],
   "outputs": [],
   "metadata": {}
  },
  {
   "cell_type": "code",
   "execution_count": 57,
   "source": [
    "class_names=[0,1] # name  of classes\r\n",
    "fig, ax = plt.subplots()\r\n",
    "tick_marks = np.arange(len(class_names))\r\n",
    "plt.xticks(tick_marks, class_names)\r\n",
    "plt.yticks(tick_marks, class_names)\r\n",
    "# create heatmap\r\n",
    "sns.heatmap(pd.DataFrame(cnf_matrix), annot=True, cmap=\"YlGnBu\" ,fmt='g')\r\n",
    "ax.xaxis.set_label_position(\"top\")\r\n",
    "plt.tight_layout()\r\n",
    "plt.title('Confusion matrix', y=1.1)\r\n",
    "plt.ylabel('Actual label')\r\n",
    "plt.xlabel('Predicted label')"
   ],
   "outputs": [
    {
     "output_type": "execute_result",
     "data": {
      "text/plain": [
       "Text(0.5, 257.44, 'Predicted label')"
      ]
     },
     "metadata": {},
     "execution_count": 57
    },
    {
     "output_type": "display_data",
     "data": {
      "image/png": "[encoded data removed]",
      "text/plain": [
       "<Figure size 432x288 with 2 Axes>"
      ]
     },
     "metadata": {
      "needs_background": "light"
     }
    }
   ],
   "metadata": {}
  },
  {
   "cell_type": "code",
   "execution_count": 58,
   "source": [
    "logreg"
   ],
   "outputs": [
    {
     "output_type": "execute_result",
     "data": {
      "text/plain": [
       "LogisticRegression()"
      ]
     },
     "metadata": {},
     "execution_count": 58
    }
   ],
   "metadata": {}
  },
  {
   "cell_type": "code",
   "execution_count": 59,
   "source": [
    "import statsmodels.api as sm\r\n",
    "from statsmodels.tools import add_constant\r\n",
    "X = add_constant(X)\r\n",
    "logit_model=sm.Logit(y,X)\r\n",
    "result=logit_model.fit()"
   ],
   "outputs": [
    {
     "output_type": "stream",
     "name": "stdout",
     "text": [
      "Optimization terminated successfully.\n",
      "         Current function value: 0.282616\n",
      "         Iterations 8\n"
     ]
    }
   ],
   "metadata": {}
  },
  {
   "cell_type": "code",
   "execution_count": 60,
   "source": [
    "print(result.summary())"
   ],
   "outputs": [
    {
     "output_type": "stream",
     "name": "stdout",
     "text": [
      "                           Logit Regression Results                           \n",
      "==============================================================================\n",
      "Dep. Variable:      ground_confidence   No. Observations:                   93\n",
      "Model:                          Logit   Df Residuals:                       88\n",
      "Method:                           MLE   Df Model:                            4\n",
      "Date:                Sat, 02 Oct 2021   Pseudo R-squ.:                  0.1111\n",
      "Time:                        11:11:46   Log-Likelihood:                -26.283\n",
      "converged:                       True   LL-Null:                       -29.568\n",
      "Covariance Type:            nonrobust   LLR p-value:                    0.1605\n",
      "==============================================================================================\n",
      "                                 coef    std err          z      P>|z|      [0.025      0.975]\n",
      "----------------------------------------------------------------------------------------------\n",
      "const                        -11.5186     12.475     -0.923      0.356     -35.968      12.931\n",
      "name_matching_score            0.1334      0.126      1.059      0.290      -0.113       0.380\n",
      "nationality_matching_score     0.6669      0.889      0.750      0.453      -1.076       2.410\n",
      "gender_matching_score          2.1395      1.439      1.487      0.137      -0.680       4.959\n",
      "age_matching_score            -0.4790      0.821     -0.583      0.560      -2.088       1.130\n",
      "==============================================================================================\n"
     ]
    }
   ],
   "metadata": {}
  },
  {
   "cell_type": "markdown",
   "source": [
    "## Can see here that the p value at 5% confidence level, nationality, gender, age are not statistically significant."
   ],
   "metadata": {}
  },
  {
   "cell_type": "code",
   "execution_count": 61,
   "source": [
    "from sklearn.linear_model import LinearRegression\r\n",
    "\r\n",
    "linreg = LinearRegression()\r\n",
    "\r\n",
    "linreg.fit(X_train,y_train)\r\n",
    "\r\n",
    "y_pred=linreg.predict(X_test)"
   ],
   "outputs": [],
   "metadata": {}
  },
  {
   "cell_type": "code",
   "execution_count": 62,
   "source": [
    "print(linreg.coef_)"
   ],
   "outputs": [
    {
     "output_type": "stream",
     "name": "stdout",
     "text": [
      "[ 0.0402178   0.05996704  0.07762987 -0.09123027]\n"
     ]
    }
   ],
   "metadata": {}
  },
  {
   "cell_type": "code",
   "execution_count": 63,
   "source": [
    "from sklearn.ensemble import RandomForestRegressor"
   ],
   "outputs": [],
   "metadata": {}
  },
  {
   "cell_type": "code",
   "execution_count": 64,
   "source": [
    "rf = RandomForestRegressor(random_state = 4)"
   ],
   "outputs": [],
   "metadata": {}
  },
  {
   "cell_type": "code",
   "execution_count": 65,
   "source": [
    "rfmodel = rf.fit(X_train,y_train)"
   ],
   "outputs": [],
   "metadata": {}
  },
  {
   "cell_type": "code",
   "execution_count": 66,
   "source": [
    "y_pred_r = rfmodel.predict(X_test)"
   ],
   "outputs": [],
   "metadata": {}
  },
  {
   "cell_type": "code",
   "execution_count": 67,
   "source": [
    "from sklearn.metrics import mean_absolute_error, mean_squared_error"
   ],
   "outputs": [],
   "metadata": {}
  },
  {
   "cell_type": "markdown",
   "source": [
    "## MSE for random forest"
   ],
   "metadata": {}
  },
  {
   "cell_type": "code",
   "execution_count": 68,
   "source": [
    "mae_r = mean_absolute_error(y_test,y_pred_r)\r\n",
    "mse_r = mean_squared_error(y_test,y_pred_r)\r\n",
    "print(f\"MAE: {mae_r}, MSE: {mse_r}\")"
   ],
   "outputs": [
    {
     "output_type": "stream",
     "name": "stdout",
     "text": [
      "MAE: 0.15279960596688205, MSE: 0.12262414470587478\n"
     ]
    }
   ],
   "metadata": {}
  },
  {
   "cell_type": "markdown",
   "source": [
    "## MSE for linear regression"
   ],
   "metadata": {}
  },
  {
   "cell_type": "code",
   "execution_count": 69,
   "source": [
    "mae_r = mean_absolute_error(y_test,y_pred)\r\n",
    "mse_r = mean_squared_error(y_test,y_pred)\r\n",
    "print(f\"MAE: {mae_r}, MSE: {mse_r}\")"
   ],
   "outputs": [
    {
     "output_type": "stream",
     "name": "stdout",
     "text": [
      "MAE: 0.1868075781244006, MSE: 0.1220709604767218\n"
     ]
    }
   ],
   "metadata": {}
  },
  {
   "cell_type": "code",
   "execution_count": 70,
   "source": [
    "xg_reg = xgb.XGBRegressor(objective ='reg:linear', colsample_bytree = 0.3, learning_rate = 0.1,\r\n",
    "                max_depth = 5, alpha = 10, n_estimators = 10)#,booster='gblinear')"
   ],
   "outputs": [],
   "metadata": {}
  },
  {
   "cell_type": "code",
   "execution_count": 71,
   "source": [
    "xg_reg.fit(X_train,y_train)\r\n",
    "\r\n",
    "y_pred_x = xg_reg.predict(X_test)"
   ],
   "outputs": [
    {
     "output_type": "stream",
     "name": "stdout",
     "text": [
      "[11:11:52] WARNING: C:/Users/Administrator/workspace/xgboost-win64_release_1.4.0/src/objective/regression_obj.cu:171: reg:linear is now deprecated in favor of reg:squarederror.\n"
     ]
    }
   ],
   "metadata": {}
  },
  {
   "cell_type": "code",
   "execution_count": 72,
   "source": [
    "mae_r = mean_absolute_error(y_test,y_pred_x)\r\n",
    "mse_r = mean_squared_error(y_test,y_pred_x)\r\n",
    "print(f\"MAE: {mae_r}, MSE: {mse_r}\")"
   ],
   "outputs": [
    {
     "output_type": "stream",
     "name": "stdout",
     "text": [
      "MAE: 0.36779914796352386, MSE: 0.14886948623760432\n"
     ]
    }
   ],
   "metadata": {}
  },
  {
   "cell_type": "markdown",
   "source": [
    "## XGBoost importance"
   ],
   "metadata": {}
  },
  {
   "cell_type": "code",
   "execution_count": 73,
   "source": [
    "xgb_impt = xg_reg.feature_importances_\r\n",
    "xgb_impt"
   ],
   "outputs": [
    {
     "output_type": "execute_result",
     "data": {
      "text/plain": [
       "array([1., 0., 0., 0.], dtype=float32)"
      ]
     },
     "metadata": {},
     "execution_count": 73
    }
   ],
   "metadata": {}
  },
  {
   "cell_type": "code",
   "execution_count": 74,
   "source": [
    "xgb.plot_importance(xg_reg)"
   ],
   "outputs": [
    {
     "output_type": "execute_result",
     "data": {
      "text/plain": [
       "<AxesSubplot:title={'center':'Feature importance'}, xlabel='F score', ylabel='Features'>"
      ]
     },
     "metadata": {},
     "execution_count": 74
    },
    {
     "output_type": "display_data",
     "data": {
      "image/png": "[encoded data removed]",
      "text/plain": [
       "<Figure size 432x288 with 1 Axes>"
      ]
     },
     "metadata": {
      "needs_background": "light"
     }
    }
   ],
   "metadata": {}
  },
  {
   "cell_type": "markdown",
   "source": [
    "## Randomforest feature importance"
   ],
   "metadata": {}
  },
  {
   "cell_type": "code",
   "execution_count": 75,
   "source": [
    "rfmodel.feature_importances_"
   ],
   "outputs": [
    {
     "output_type": "execute_result",
     "data": {
      "text/plain": [
       "array([0.24488059, 0.38243182, 0.2828532 , 0.08983439])"
      ]
     },
     "metadata": {},
     "execution_count": 75
    }
   ],
   "metadata": {}
  },
  {
   "cell_type": "code",
   "execution_count": 76,
   "source": [
    "importance = rfmodel.feature_importances_"
   ],
   "outputs": [],
   "metadata": {}
  },
  {
   "cell_type": "code",
   "execution_count": 77,
   "source": [
    "columns = X_train.columns"
   ],
   "outputs": [],
   "metadata": {}
  },
  {
   "cell_type": "code",
   "execution_count": 78,
   "source": [
    "rfGraph = pd.Series(importance,columns)"
   ],
   "outputs": [],
   "metadata": {}
  },
  {
   "cell_type": "code",
   "execution_count": 79,
   "source": [
    "#figure(figsize(10,10))\r\n",
    "def addlabels(x,y):\r\n",
    "    for i in range(len(x)):\r\n",
    "        plt.text(i, y[i], y[i])\r\n",
    "\r\n",
    "rfGraph.sort_values().plot.barh(color = \"red\")\r\n",
    "plt.title(\"Random Forest Feaure Importance\")\r\n",
    "plt.xlabel(\"Feature importance\")\r\n",
    "#addlabels(columns,importance)"
   ],
   "outputs": [
    {
     "output_type": "execute_result",
     "data": {
      "text/plain": [
       "Text(0.5, 0, 'Feature importance')"
      ]
     },
     "metadata": {},
     "execution_count": 79
    },
    {
     "output_type": "display_data",
     "data": {
      "image/png": "[encoded data removed]",
      "text/plain": [
       "<Figure size 432x288 with 1 Axes>"
      ]
     },
     "metadata": {
      "needs_background": "light"
     }
    }
   ],
   "metadata": {}
  },
  {
   "cell_type": "code",
   "execution_count": 80,
   "source": [
    "rfGraph"
   ],
   "outputs": [
    {
     "output_type": "execute_result",
     "data": {
      "text/plain": [
       "name_matching_score           0.244881\n",
       "nationality_matching_score    0.382432\n",
       "gender_matching_score         0.282853\n",
       "age_matching_score            0.089834\n",
       "dtype: float64"
      ]
     },
     "metadata": {},
     "execution_count": 80
    }
   ],
   "metadata": {}
  },
  {
   "cell_type": "code",
   "execution_count": 81,
   "source": [
    "df['confidence score'] = (df['name_matching_score'] * 0.907100/100 + df['nationality_matching_score'] *0.049973 + df['gender_matching_score'] * 0.030293 + df['age_matching_score']* 0.012634)\r\n",
    "\r\n"
   ],
   "outputs": [
    {
     "output_type": "stream",
     "name": "stderr",
     "text": [
      "<ipython-input-81-0a0731bebd1b>:1: SettingWithCopyWarning: \n",
      "A value is trying to be set on a copy of a slice from a DataFrame.\n",
      "Try using .loc[row_indexer,col_indexer] = value instead\n",
      "\n",
      "See the caveats in the documentation: https://pandas.pydata.org/pandas-docs/stable/user_guide/indexing.html#returning-a-view-versus-a-copy\n",
      "  df['confidence score'] = (df['name_matching_score'] * 0.907100/100 + df['nationality_matching_score'] *0.049973 + df['gender_matching_score'] * 0.030293 + df['age_matching_score']* 0.012634)\n"
     ]
    }
   ],
   "metadata": {}
  },
  {
   "cell_type": "code",
   "execution_count": 82,
   "source": [
    "df.head(10)"
   ],
   "outputs": [
    {
     "output_type": "execute_result",
     "data": {
      "text/html": [
       "<div>\n",
       "<style scoped>\n",
       "    .dataframe tbody tr th:only-of-type {\n",
       "        vertical-align: middle;\n",
       "    }\n",
       "\n",
       "    .dataframe tbody tr th {\n",
       "        vertical-align: top;\n",
       "    }\n",
       "\n",
       "    .dataframe thead th {\n",
       "        text-align: right;\n",
       "    }\n",
       "</style>\n",
       "<table border=\"1\" class=\"dataframe\">\n",
       "  <thead>\n",
       "    <tr style=\"text-align: right;\">\n",
       "      <th></th>\n",
       "      <th>name_matching_score</th>\n",
       "      <th>nationality_matching_score</th>\n",
       "      <th>gender_matching_score</th>\n",
       "      <th>age_matching_score</th>\n",
       "      <th>ground_confidence</th>\n",
       "      <th>confidence score</th>\n",
       "    </tr>\n",
       "  </thead>\n",
       "  <tbody>\n",
       "    <tr>\n",
       "      <th>0</th>\n",
       "      <td>100</td>\n",
       "      <td>1.0</td>\n",
       "      <td>0.901961</td>\n",
       "      <td>0</td>\n",
       "      <td>1</td>\n",
       "      <td>0.984396</td>\n",
       "    </tr>\n",
       "    <tr>\n",
       "      <th>1</th>\n",
       "      <td>100</td>\n",
       "      <td>1.0</td>\n",
       "      <td>0.400000</td>\n",
       "      <td>0</td>\n",
       "      <td>1</td>\n",
       "      <td>0.969190</td>\n",
       "    </tr>\n",
       "    <tr>\n",
       "      <th>2</th>\n",
       "      <td>100</td>\n",
       "      <td>1.0</td>\n",
       "      <td>0.000000</td>\n",
       "      <td>0</td>\n",
       "      <td>1</td>\n",
       "      <td>0.957073</td>\n",
       "    </tr>\n",
       "    <tr>\n",
       "      <th>3</th>\n",
       "      <td>100</td>\n",
       "      <td>1.0</td>\n",
       "      <td>0.000000</td>\n",
       "      <td>0</td>\n",
       "      <td>1</td>\n",
       "      <td>0.957073</td>\n",
       "    </tr>\n",
       "    <tr>\n",
       "      <th>4</th>\n",
       "      <td>100</td>\n",
       "      <td>0.0</td>\n",
       "      <td>0.000000</td>\n",
       "      <td>0</td>\n",
       "      <td>1</td>\n",
       "      <td>0.907100</td>\n",
       "    </tr>\n",
       "    <tr>\n",
       "      <th>5</th>\n",
       "      <td>100</td>\n",
       "      <td>1.0</td>\n",
       "      <td>0.000000</td>\n",
       "      <td>0</td>\n",
       "      <td>0</td>\n",
       "      <td>0.957073</td>\n",
       "    </tr>\n",
       "    <tr>\n",
       "      <th>6</th>\n",
       "      <td>100</td>\n",
       "      <td>1.0</td>\n",
       "      <td>1.000000</td>\n",
       "      <td>1</td>\n",
       "      <td>1</td>\n",
       "      <td>1.000000</td>\n",
       "    </tr>\n",
       "    <tr>\n",
       "      <th>7</th>\n",
       "      <td>100</td>\n",
       "      <td>1.0</td>\n",
       "      <td>0.000000</td>\n",
       "      <td>1</td>\n",
       "      <td>1</td>\n",
       "      <td>0.969707</td>\n",
       "    </tr>\n",
       "    <tr>\n",
       "      <th>8</th>\n",
       "      <td>100</td>\n",
       "      <td>1.0</td>\n",
       "      <td>1.000000</td>\n",
       "      <td>1</td>\n",
       "      <td>1</td>\n",
       "      <td>1.000000</td>\n",
       "    </tr>\n",
       "    <tr>\n",
       "      <th>9</th>\n",
       "      <td>100</td>\n",
       "      <td>0.0</td>\n",
       "      <td>1.000000</td>\n",
       "      <td>1</td>\n",
       "      <td>1</td>\n",
       "      <td>0.950027</td>\n",
       "    </tr>\n",
       "  </tbody>\n",
       "</table>\n",
       "</div>"
      ],
      "text/plain": [
       "   name_matching_score  nationality_matching_score  gender_matching_score  \\\n",
       "0                  100                         1.0               0.901961   \n",
       "1                  100                         1.0               0.400000   \n",
       "2                  100                         1.0               0.000000   \n",
       "3                  100                         1.0               0.000000   \n",
       "4                  100                         0.0               0.000000   \n",
       "5                  100                         1.0               0.000000   \n",
       "6                  100                         1.0               1.000000   \n",
       "7                  100                         1.0               0.000000   \n",
       "8                  100                         1.0               1.000000   \n",
       "9                  100                         0.0               1.000000   \n",
       "\n",
       "   age_matching_score  ground_confidence  confidence score  \n",
       "0                   0                  1          0.984396  \n",
       "1                   0                  1          0.969190  \n",
       "2                   0                  1          0.957073  \n",
       "3                   0                  1          0.957073  \n",
       "4                   0                  1          0.907100  \n",
       "5                   0                  0          0.957073  \n",
       "6                   1                  1          1.000000  \n",
       "7                   1                  1          0.969707  \n",
       "8                   1                  1          1.000000  \n",
       "9                   1                  1          0.950027  "
      ]
     },
     "metadata": {},
     "execution_count": 82
    }
   ],
   "metadata": {}
  },
  {
   "cell_type": "code",
   "execution_count": 83,
   "source": [
    "len(df[(df['confidence score'] > 0.95) & (df['ground_confidence'] ==0)])"
   ],
   "outputs": [
    {
     "output_type": "execute_result",
     "data": {
      "text/plain": [
       "2"
      ]
     },
     "metadata": {},
     "execution_count": 83
    }
   ],
   "metadata": {}
  },
  {
   "cell_type": "code",
   "execution_count": 84,
   "source": [
    "# print(f\"Model Accuracy is {accuracy*100}%\")"
   ],
   "outputs": [],
   "metadata": {}
  },
  {
   "cell_type": "code",
   "execution_count": 85,
   "source": [
    "df.head(10)"
   ],
   "outputs": [
    {
     "output_type": "execute_result",
     "data": {
      "text/html": [
       "<div>\n",
       "<style scoped>\n",
       "    .dataframe tbody tr th:only-of-type {\n",
       "        vertical-align: middle;\n",
       "    }\n",
       "\n",
       "    .dataframe tbody tr th {\n",
       "        vertical-align: top;\n",
       "    }\n",
       "\n",
       "    .dataframe thead th {\n",
       "        text-align: right;\n",
       "    }\n",
       "</style>\n",
       "<table border=\"1\" class=\"dataframe\">\n",
       "  <thead>\n",
       "    <tr style=\"text-align: right;\">\n",
       "      <th></th>\n",
       "      <th>name_matching_score</th>\n",
       "      <th>nationality_matching_score</th>\n",
       "      <th>gender_matching_score</th>\n",
       "      <th>age_matching_score</th>\n",
       "      <th>ground_confidence</th>\n",
       "      <th>confidence score</th>\n",
       "    </tr>\n",
       "  </thead>\n",
       "  <tbody>\n",
       "    <tr>\n",
       "      <th>0</th>\n",
       "      <td>100</td>\n",
       "      <td>1.0</td>\n",
       "      <td>0.901961</td>\n",
       "      <td>0</td>\n",
       "      <td>1</td>\n",
       "      <td>0.984396</td>\n",
       "    </tr>\n",
       "    <tr>\n",
       "      <th>1</th>\n",
       "      <td>100</td>\n",
       "      <td>1.0</td>\n",
       "      <td>0.400000</td>\n",
       "      <td>0</td>\n",
       "      <td>1</td>\n",
       "      <td>0.969190</td>\n",
       "    </tr>\n",
       "    <tr>\n",
       "      <th>2</th>\n",
       "      <td>100</td>\n",
       "      <td>1.0</td>\n",
       "      <td>0.000000</td>\n",
       "      <td>0</td>\n",
       "      <td>1</td>\n",
       "      <td>0.957073</td>\n",
       "    </tr>\n",
       "    <tr>\n",
       "      <th>3</th>\n",
       "      <td>100</td>\n",
       "      <td>1.0</td>\n",
       "      <td>0.000000</td>\n",
       "      <td>0</td>\n",
       "      <td>1</td>\n",
       "      <td>0.957073</td>\n",
       "    </tr>\n",
       "    <tr>\n",
       "      <th>4</th>\n",
       "      <td>100</td>\n",
       "      <td>0.0</td>\n",
       "      <td>0.000000</td>\n",
       "      <td>0</td>\n",
       "      <td>1</td>\n",
       "      <td>0.907100</td>\n",
       "    </tr>\n",
       "    <tr>\n",
       "      <th>5</th>\n",
       "      <td>100</td>\n",
       "      <td>1.0</td>\n",
       "      <td>0.000000</td>\n",
       "      <td>0</td>\n",
       "      <td>0</td>\n",
       "      <td>0.957073</td>\n",
       "    </tr>\n",
       "    <tr>\n",
       "      <th>6</th>\n",
       "      <td>100</td>\n",
       "      <td>1.0</td>\n",
       "      <td>1.000000</td>\n",
       "      <td>1</td>\n",
       "      <td>1</td>\n",
       "      <td>1.000000</td>\n",
       "    </tr>\n",
       "    <tr>\n",
       "      <th>7</th>\n",
       "      <td>100</td>\n",
       "      <td>1.0</td>\n",
       "      <td>0.000000</td>\n",
       "      <td>1</td>\n",
       "      <td>1</td>\n",
       "      <td>0.969707</td>\n",
       "    </tr>\n",
       "    <tr>\n",
       "      <th>8</th>\n",
       "      <td>100</td>\n",
       "      <td>1.0</td>\n",
       "      <td>1.000000</td>\n",
       "      <td>1</td>\n",
       "      <td>1</td>\n",
       "      <td>1.000000</td>\n",
       "    </tr>\n",
       "    <tr>\n",
       "      <th>9</th>\n",
       "      <td>100</td>\n",
       "      <td>0.0</td>\n",
       "      <td>1.000000</td>\n",
       "      <td>1</td>\n",
       "      <td>1</td>\n",
       "      <td>0.950027</td>\n",
       "    </tr>\n",
       "  </tbody>\n",
       "</table>\n",
       "</div>"
      ],
      "text/plain": [
       "   name_matching_score  nationality_matching_score  gender_matching_score  \\\n",
       "0                  100                         1.0               0.901961   \n",
       "1                  100                         1.0               0.400000   \n",
       "2                  100                         1.0               0.000000   \n",
       "3                  100                         1.0               0.000000   \n",
       "4                  100                         0.0               0.000000   \n",
       "5                  100                         1.0               0.000000   \n",
       "6                  100                         1.0               1.000000   \n",
       "7                  100                         1.0               0.000000   \n",
       "8                  100                         1.0               1.000000   \n",
       "9                  100                         0.0               1.000000   \n",
       "\n",
       "   age_matching_score  ground_confidence  confidence score  \n",
       "0                   0                  1          0.984396  \n",
       "1                   0                  1          0.969190  \n",
       "2                   0                  1          0.957073  \n",
       "3                   0                  1          0.957073  \n",
       "4                   0                  1          0.907100  \n",
       "5                   0                  0          0.957073  \n",
       "6                   1                  1          1.000000  \n",
       "7                   1                  1          0.969707  \n",
       "8                   1                  1          1.000000  \n",
       "9                   1                  1          0.950027  "
      ]
     },
     "metadata": {},
     "execution_count": 85
    }
   ],
   "metadata": {}
  },
  {
   "cell_type": "markdown",
   "source": [
    "# Confusion Matrix for threshold : 0.9"
   ],
   "metadata": {}
  },
  {
   "cell_type": "code",
   "execution_count": 86,
   "source": [
    "from sklearn import metrics\r\n",
    "\r\n",
    "true_positive = len(df[(df['confidence score'] > 0.90) & (df['ground_confidence'] ==1)])\r\n",
    "false_positive = len(df[(df['confidence score'] < 0.90) & (df['ground_confidence'] ==1)])\r\n",
    "true_negative = len(df[(df['confidence score'] < 0.90) & (df['ground_confidence'] ==0)])\r\n",
    "false_negative = len(df[(df['confidence score'] > 0.90) & (df['ground_confidence'] ==0)])\r\n",
    "\r\n",
    "y_actual = df['ground_confidence']\r\n",
    "y_pred = list(map(lambda x: 1 if x > 0.95 else 0, df['confidence score']))\r\n",
    "\r\n",
    "cnf_matrix = metrics.confusion_matrix(y_actual, y_pred)\r\n",
    "cnf_matrix\r\n",
    "\r\n",
    "class_names=[0,1] # name  of classes\r\n",
    "fig, ax = plt.subplots()\r\n",
    "tick_marks = np.arange(len(class_names))\r\n",
    "plt.xticks(tick_marks, class_names)\r\n",
    "plt.yticks(tick_marks, class_names)\r\n",
    "# create heatmap\r\n",
    "sns.heatmap(pd.DataFrame(cnf_matrix), annot=True, cmap=\"YlGnBu\" ,fmt='g')\r\n",
    "ax.xaxis.set_label_position(\"top\")\r\n",
    "plt.tight_layout()\r\n",
    "plt.title('Confusion matrix', y=1.1)\r\n",
    "plt.ylabel('Actual label')\r\n",
    "plt.xlabel('Predicted label')"
   ],
   "outputs": [
    {
     "output_type": "execute_result",
     "data": {
      "text/plain": [
       "Text(0.5, 257.44, 'Predicted label')"
      ]
     },
     "metadata": {},
     "execution_count": 86
    },
    {
     "output_type": "display_data",
     "data": {
      "image/png": "[encoded data removed]",
      "text/plain": [
       "<Figure size 432x288 with 2 Axes>"
      ]
     },
     "metadata": {
      "needs_background": "light"
     }
    }
   ],
   "metadata": {}
  },
  {
   "cell_type": "markdown",
   "source": [
    "# Confusion Matrix for threshold: 0.95"
   ],
   "metadata": {}
  },
  {
   "cell_type": "code",
   "execution_count": 87,
   "source": [
    "from sklearn import metrics\r\n",
    "\r\n",
    "true_positive = len(df[(df['confidence score'] > 0.95) & (df['ground_confidence'] ==1)])\r\n",
    "false_positive = len(df[(df['confidence score'] < 0.95) & (df['ground_confidence'] ==1)])\r\n",
    "true_negative = len(df[(df['confidence score'] < 0.95) & (df['ground_confidence'] ==0)])\r\n",
    "false_negative = len(df[(df['confidence score'] > 0.95) & (df['ground_confidence'] ==0)])\r\n",
    "\r\n",
    "y_actual = df['ground_confidence']\r\n",
    "y_pred = list(map(lambda x: 1 if x > 0.95 else 0, df['confidence score']))\r\n",
    "\r\n",
    "cnf_matrix = metrics.confusion_matrix(y_actual, y_pred)\r\n",
    "cnf_matrix\r\n",
    "\r\n",
    "class_names=[0,1] # name  of classes\r\n",
    "fig, ax = plt.subplots()\r\n",
    "tick_marks = np.arange(len(class_names))\r\n",
    "plt.xticks(tick_marks, class_names)\r\n",
    "plt.yticks(tick_marks, class_names)\r\n",
    "# create heatmap\r\n",
    "sns.heatmap(pd.DataFrame(cnf_matrix), annot=True, cmap=\"YlGnBu\" ,fmt='g')\r\n",
    "ax.xaxis.set_label_position(\"top\")\r\n",
    "plt.tight_layout()\r\n",
    "plt.title('Confusion matrix', y=1.1)\r\n",
    "plt.ylabel('Actual label')\r\n",
    "plt.xlabel('Predicted label')"
   ],
   "outputs": [
    {
     "output_type": "execute_result",
     "data": {
      "text/plain": [
       "Text(0.5, 257.44, 'Predicted label')"
      ]
     },
     "metadata": {},
     "execution_count": 87
    },
    {
     "output_type": "display_data",
     "data": {
      "image/png": "[encoded data removed]",
      "text/plain": [
       "<Figure size 432x288 with 2 Axes>"
      ]
     },
     "metadata": {
      "needs_background": "light"
     }
    }
   ],
   "metadata": {}
  },
  {
   "cell_type": "code",
   "execution_count": 88,
   "source": [
    "accuracy = (true_positive + true_negative +false_negative)/ len(df) "
   ],
   "outputs": [],
   "metadata": {}
  },
  {
   "cell_type": "code",
   "execution_count": 89,
   "source": [
    "print(f\"Model Accuracy is {accuracy*100}%\")"
   ],
   "outputs": [
    {
     "output_type": "stream",
     "name": "stdout",
     "text": [
      "Model Accuracy is 65.59139784946237%\n"
     ]
    }
   ],
   "metadata": {}
  },
  {
   "cell_type": "code",
   "execution_count": 90,
   "source": [
    "df[(df['confidence score'] > 0.95) & (df['ground_confidence'] ==0)]"
   ],
   "outputs": [
    {
     "output_type": "execute_result",
     "data": {
      "text/html": [
       "<div>\n",
       "<style scoped>\n",
       "    .dataframe tbody tr th:only-of-type {\n",
       "        vertical-align: middle;\n",
       "    }\n",
       "\n",
       "    .dataframe tbody tr th {\n",
       "        vertical-align: top;\n",
       "    }\n",
       "\n",
       "    .dataframe thead th {\n",
       "        text-align: right;\n",
       "    }\n",
       "</style>\n",
       "<table border=\"1\" class=\"dataframe\">\n",
       "  <thead>\n",
       "    <tr style=\"text-align: right;\">\n",
       "      <th></th>\n",
       "      <th>name_matching_score</th>\n",
       "      <th>nationality_matching_score</th>\n",
       "      <th>gender_matching_score</th>\n",
       "      <th>age_matching_score</th>\n",
       "      <th>ground_confidence</th>\n",
       "      <th>confidence score</th>\n",
       "    </tr>\n",
       "  </thead>\n",
       "  <tbody>\n",
       "    <tr>\n",
       "      <th>5</th>\n",
       "      <td>100</td>\n",
       "      <td>1.0</td>\n",
       "      <td>0.0</td>\n",
       "      <td>0</td>\n",
       "      <td>0</td>\n",
       "      <td>0.957073</td>\n",
       "    </tr>\n",
       "    <tr>\n",
       "      <th>78</th>\n",
       "      <td>100</td>\n",
       "      <td>1.0</td>\n",
       "      <td>0.0</td>\n",
       "      <td>1</td>\n",
       "      <td>0</td>\n",
       "      <td>0.969707</td>\n",
       "    </tr>\n",
       "  </tbody>\n",
       "</table>\n",
       "</div>"
      ],
      "text/plain": [
       "    name_matching_score  nationality_matching_score  gender_matching_score  \\\n",
       "5                   100                         1.0                    0.0   \n",
       "78                  100                         1.0                    0.0   \n",
       "\n",
       "    age_matching_score  ground_confidence  confidence score  \n",
       "5                    0                  0          0.957073  \n",
       "78                   1                  0          0.969707  "
      ]
     },
     "metadata": {},
     "execution_count": 90
    }
   ],
   "metadata": {}
  },
  {
   "cell_type": "markdown",
   "source": [
    "## Threshold of 0.9 False Positive Rate"
   ],
   "metadata": {}
  },
  {
   "cell_type": "code",
   "execution_count": 91,
   "source": [
    "ninety = len(df[(df['confidence score'] > 0.90) & (df['ground_confidence'] ==0)]) * 100/len(df)\r\n",
    "\r\n",
    "print(f\"With a threshold of 0.9, false positive rate is {ninety}%\")"
   ],
   "outputs": [
    {
     "output_type": "stream",
     "name": "stdout",
     "text": [
      "With a threshold of 0.9, false positive rate is 8.602150537634408%\n"
     ]
    }
   ],
   "metadata": {}
  },
  {
   "cell_type": "code",
   "execution_count": 92,
   "source": [
    "ninetyfive = len(df[(df['confidence score'] > 0.95) & (df['ground_confidence'] ==0)]) * 100/len(df)\r\n",
    "print(f\"With a threshold of 0.95, false positive rate is {ninetyfive}%\")"
   ],
   "outputs": [
    {
     "output_type": "stream",
     "name": "stdout",
     "text": [
      "With a threshold of 0.95, false positive rate is 2.150537634408602%\n"
     ]
    }
   ],
   "metadata": {}
  },
  {
   "cell_type": "code",
   "execution_count": 93,
   "source": [
    "print(f\"The difference in false positive rate is {ninety-ninetyfive}%\")"
   ],
   "outputs": [
    {
     "output_type": "stream",
     "name": "stdout",
     "text": [
      "The difference in false positive rate is 6.451612903225806%\n"
     ]
    }
   ],
   "metadata": {}
  }
 ],
 "metadata": {
  "kernelspec": {
   "name": "python3",
   "display_name": "Python 3.8.8 64-bit ('base': conda)"
  },
  "language_info": {
   "name": "python",
   "version": "3.8.8",
   "mimetype": "text/x-python",
   "codemirror_mode": {
    "name": "ipython",
    "version": 3
   },
   "pygments_lexer": "ipython3",
   "nbconvert_exporter": "python",
   "file_extension": ".py"
  },
  "interpreter": {
   "hash": "a41f48461941a5aefc82610e94371dafd9500cffa630c3ca9566e477af78c3ed"
  }
 },
 "nbformat": 4,
 "nbformat_minor": 4
}