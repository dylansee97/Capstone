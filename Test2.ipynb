{
 "cells": [
  {
   "cell_type": "code",
   "execution_count": 4,
   "metadata": {
    "colab": {
     "base_uri": "https://localhost:8080/"
    },
    "id": "73JdMPfGniiB",
    "outputId": "7a920984-5a1c-4124-d510-2cbf5fce715a"
   },
   "outputs": [
    {
     "name": "stdout",
     "output_type": "stream",
     "text": [
      "Mr. -> PROPN\n",
      "Tan -> PROPN\n",
      "said -> VERB\n",
      "hi -> INTJ\n",
      ". -> PUNCT\n"
     ]
    }
   ],
   "source": [
    "# POS Tagging\n",
    "import spacy\n",
    "\n",
    "# load english language model\n",
    "nlp = spacy.load('en_core_web_sm',disable=['ner','textcat'])\n",
    "\n",
    "text = \"Mr. Tan said hi.\"\n",
    "\n",
    "# create spacy \n",
    "doc = nlp(text)\n",
    "\n",
    "for token in doc:\n",
    "    print(token.text,'->',token.pos_)"
   ]
  },
  {
   "cell_type": "code",
   "execution_count": 6,
   "metadata": {},
   "outputs": [],
   "source": [
    "import en_core_web_sm"
   ]
  },
  {
   "cell_type": "code",
   "execution_count": 7,
   "metadata": {},
   "outputs": [
    {
     "name": "stderr",
     "output_type": "stream",
     "text": [
      "[nltk_data] Downloading package vader_lexicon to\n",
      "[nltk_data]     /Users/dylan/nltk_data...\n",
      "[nltk_data]   Package vader_lexicon is already up-to-date!\n"
     ]
    }
   ],
   "source": [
    "# parse article and get the entities, counts\n",
    "\n",
    "from urllib.request import Request, urlopen\n",
    "from bs4 import BeautifulSoup\n",
    "import requests\n",
    "from newspaper import Article\n",
    "import nltk\n",
    "from nltk.sentiment.vader import SentimentIntensityAnalyzer\n",
    "import pandas as pd\n",
    "import spacy\n",
    "from spacy import displacy\n",
    "from collections import Counter\n",
    "import en_core_web_sm\n",
    "\n",
    "nltk.download('vader_lexicon')\n",
    "nlp = en_core_web_sm.load()\n",
    "\n",
    "\n",
    "def article_extraction(link):\n",
    "    article = Article(link)\n",
    "    article.download()\n",
    "    article.parse()\n",
    "    return article.text\n",
    "\n",
    "def parse(link):\n",
    "    doc = nlp(article_extraction(link))\n",
    "    print([(X.text, X.label_) for X in doc.ents])\n",
    "    labels = [x.label_ for x in doc.ents]\n",
    "    print(Counter(labels))\n",
    "    items = [x.text for x in doc.ents]\n",
    "    print(Counter(items).most_common(10))\n",
    "    \n"
   ]
  },
  {
   "cell_type": "code",
   "execution_count": 30,
   "metadata": {},
   "outputs": [],
   "source": [
    "if __name__ == \"__main__\":\n",
    "    leeyanru = \"https://www.straitstimes.com/singapore/courts-crime/jail-for-company-director-who-sold-luxury-goods-to-north-korea-cheated-banks\""
   ]
  },
  {
   "cell_type": "code",
   "execution_count": 31,
   "metadata": {},
   "outputs": [
    {
     "name": "stdout",
     "output_type": "stream",
     "text": [
      "[('SINGAPORE - For more than six years', 'ORG'), ('Singaporean', 'NORP'), ('United Nations', 'ORG'), ('North Korean', 'NORP'), ('about US$20 million', 'MONEY'), ('S$27.3 million', 'CARDINAL'), ('Kheng Wah', 'PERSON'), ('five', 'CARDINAL'), ('about S$130 million', 'CARDINAL'), ('Friday', 'DATE'), ('56-year-old', 'DATE'), (\"34 months'\", 'DATE'), ('10', 'CARDINAL'), ('10', 'CARDINAL'), ('North Korea', 'GPE'), ('UN', 'ORG'), ('140', 'CARDINAL'), ('880,000', 'MONEY'), ('North Korea', 'GPE'), ('10', 'CARDINAL'), ('two', 'CARDINAL'), ('Seventy-five', 'CARDINAL'), ('Ng', 'GPE'), ('China', 'GPE'), ('Wang Zhiguo', 'PERSON'), ('57', 'DATE'), ('one year', 'DATE'), ('10', 'CARDINAL'), ('71', 'CARDINAL'), ('November 2010 to January 2017', 'DATE'), ('Specialist', 'NORP'), ('the Korean Bugsae Shop', 'ORG'), ('North Korea', 'GPE'), ('North Korean', 'NORP'), ('Li Ik', 'PERSON'), ('Dalian', 'GPE'), ('China', 'GPE'), ('North Korea', 'GPE'), ('the Singapore Customs', 'ORG'), ('Alan Loh', 'PERSON'), ('Thiam Jia Min', 'PERSON'), ('Li Ik', 'PERSON'), ('31-year-old', 'DATE'), ('Li Hyon', 'PERSON'), ('Specialist', 'NORP'), ('China', 'GPE'), ('Hong Kong', 'GPE'), ('Li Hyon', 'PERSON'), ('Singapore', 'GPE'), ('late 2014', 'DATE'), ('early 2017', 'DATE'), ('Singaporean', 'NORP'), ('North Korea', 'GPE'), ('two', 'CARDINAL'), ('North Korea', 'GPE'), ('North Korea', 'GPE'), ('Li Ik', 'PERSON'), ('Specialist', 'NORP'), ('some US$20 million', 'MONEY'), ('Ng', 'GPE'), ('Wang', 'ORG'), ('DBS Bank', 'ORG'), ('CIMB Bank', 'ORG'), ('Malayan Banking', 'PERSON'), ('RHB', 'ORG'), ('OCBC', 'ORG'), ('$130 million', 'MONEY'), ('Specialist', 'NORP'), ('Watari', 'GPE'), ('Wang', 'ORG'), ('Pinnacle Offshore Trading', 'PERSON'), ('the British Virgin Islands', 'GPE'), ('Ng', 'GPE'), ('Specialist', 'NORP'), ('Pinnacle Offshore', 'PERSON'), ('Specialist', 'NORP'), ('Watari', 'GPE'), ('Specialist', 'NORP'), ('a few hundred', 'CARDINAL'), ('2014', 'DATE'), ('81', 'CARDINAL'), ('$130 million', 'MONEY'), ('Pinnacle Offshore', 'ORG'), ('Specialist', 'NORP'), ('Ng', 'GPE'), ('Ng', 'GPE'), ('another British Virgin Islands', 'GPE'), ('Wang', 'ORG'), ('Mars-Rock Offshore Trading - to', 'WORK_OF_ART'), ('Specialist', 'NORP'), ('Ng', 'GPE'), ('Pinnacle Offshore', 'ORG'), ('Mars', 'LOC'), ('the Commercial Affairs Department', 'ORG'), ('Aug 14, 2017', 'DATE'), ('Ng', 'GPE'), ('Ng', 'GPE')]\n",
      "Counter({'GPE': 25, 'ORG': 15, 'CARDINAL': 14, 'NORP': 13, 'PERSON': 12, 'DATE': 11, 'MONEY': 5, 'WORK_OF_ART': 1, 'LOC': 1})\n",
      "[('Specialist', 9), ('Ng', 8), ('North Korea', 7), ('10', 4), ('China', 3), ('Li Ik', 3), ('Wang', 3), ('Pinnacle Offshore', 3), ('Singaporean', 2), ('North Korean', 2)]\n"
     ]
    }
   ],
   "source": [
    "\n",
    "parse(leeyanru)"
   ]
  },
  {
   "cell_type": "code",
   "execution_count": 29,
   "metadata": {},
   "outputs": [
    {
     "ename": "ArticleException",
     "evalue": "Article `download()` failed with No connection adapters were found for \":/SINGAPORE - For more than six years, a Singaporean company director breached United Nations sanctions and supplied luxury goods such as wine, perfumes, musical instruments and jewellery to a North Korean department store chain.\\n\\nWhen the chain owed his company about US$20 million (S$27.3 million) in delayed payments, Ng Kheng Wah devised a fraudulent invoice financing scheme to cheat five banks of about S$130 million to tide over his cash flow problem.\\n\\nOn Friday (Nov 22), the 56-year-old man was sentenced to 34 months' jail, after he pleaded guilty to 10 counts of cheating and 10 counts of illegally supplying luxury items to North Korea in breach of UN sanctions. Another 140 charges of a similar nature were taken into consideration.\\n\\nHis company T Specialist International was fined $880,000 for supplying luxury items to a person in North Korea on 10 occasions, and for two counts of money laundering charges. Seventy-five other charges of a similar nature were considered.\\n\\nNg's accompli\" on URL :/SINGAPORE - For more than six years, a Singaporean company director breached United Nations sanctions and supplied luxury goods such as wine, perfumes, musical instruments and jewellery to a North Korean department store chain.\n\nWhen the chain owed his company about US$20 million (S$27.3 million) in delayed payments, Ng Kheng Wah devised a fraudulent invoice financing scheme to cheat five banks of about S$130 million to tide over his cash flow problem.\n\nOn Friday (Nov 22), the 56-year-old man was sentenced to 34 months' jail, after he pleaded guilty to 10 counts of cheating and 10 counts of illegally supplying luxury items to North Korea in breach of UN sanctions. Another 140 charges of a similar nature were taken into consideration.\n\nHis company T Specialist International was fined $880,000 for supplying luxury items to a person in North Korea on 10 occasions, and for two counts of money laundering charges. Seventy-five other charges of a similar nature were considered.\n\nNg's accompli",
     "output_type": "error",
     "traceback": [
      "\u001b[0;31m---------------------------------------------------------------------------\u001b[0m",
      "\u001b[0;31mArticleException\u001b[0m                          Traceback (most recent call last)",
      "\u001b[0;32m<ipython-input-29-b36546299e48>\u001b[0m in \u001b[0;36m<module>\u001b[0;34m\u001b[0m\n\u001b[0;32m----> 1\u001b[0;31m \u001b[0mparse\u001b[0m\u001b[0;34m(\u001b[0m\u001b[0mtext\u001b[0m\u001b[0;34m)\u001b[0m\u001b[0;34m\u001b[0m\u001b[0;34m\u001b[0m\u001b[0m\n\u001b[0m",
      "\u001b[0;32m<ipython-input-7-56502f2a9953>\u001b[0m in \u001b[0;36mparse\u001b[0;34m(link)\u001b[0m\n\u001b[1;32m     24\u001b[0m \u001b[0;34m\u001b[0m\u001b[0m\n\u001b[1;32m     25\u001b[0m \u001b[0;32mdef\u001b[0m \u001b[0mparse\u001b[0m\u001b[0;34m(\u001b[0m\u001b[0mlink\u001b[0m\u001b[0;34m)\u001b[0m\u001b[0;34m:\u001b[0m\u001b[0;34m\u001b[0m\u001b[0;34m\u001b[0m\u001b[0m\n\u001b[0;32m---> 26\u001b[0;31m     \u001b[0mdoc\u001b[0m \u001b[0;34m=\u001b[0m \u001b[0mnlp\u001b[0m\u001b[0;34m(\u001b[0m\u001b[0marticle_extraction\u001b[0m\u001b[0;34m(\u001b[0m\u001b[0mlink\u001b[0m\u001b[0;34m)\u001b[0m\u001b[0;34m)\u001b[0m\u001b[0;34m\u001b[0m\u001b[0;34m\u001b[0m\u001b[0m\n\u001b[0m\u001b[1;32m     27\u001b[0m     \u001b[0mprint\u001b[0m\u001b[0;34m(\u001b[0m\u001b[0;34m[\u001b[0m\u001b[0;34m(\u001b[0m\u001b[0mX\u001b[0m\u001b[0;34m.\u001b[0m\u001b[0mtext\u001b[0m\u001b[0;34m,\u001b[0m \u001b[0mX\u001b[0m\u001b[0;34m.\u001b[0m\u001b[0mlabel_\u001b[0m\u001b[0;34m)\u001b[0m \u001b[0;32mfor\u001b[0m \u001b[0mX\u001b[0m \u001b[0;32min\u001b[0m \u001b[0mdoc\u001b[0m\u001b[0;34m.\u001b[0m\u001b[0ments\u001b[0m\u001b[0;34m]\u001b[0m\u001b[0;34m)\u001b[0m\u001b[0;34m\u001b[0m\u001b[0;34m\u001b[0m\u001b[0m\n\u001b[1;32m     28\u001b[0m     \u001b[0mlabels\u001b[0m \u001b[0;34m=\u001b[0m \u001b[0;34m[\u001b[0m\u001b[0mx\u001b[0m\u001b[0;34m.\u001b[0m\u001b[0mlabel_\u001b[0m \u001b[0;32mfor\u001b[0m \u001b[0mx\u001b[0m \u001b[0;32min\u001b[0m \u001b[0mdoc\u001b[0m\u001b[0;34m.\u001b[0m\u001b[0ments\u001b[0m\u001b[0;34m]\u001b[0m\u001b[0;34m\u001b[0m\u001b[0;34m\u001b[0m\u001b[0m\n",
      "\u001b[0;32m<ipython-input-7-56502f2a9953>\u001b[0m in \u001b[0;36marticle_extraction\u001b[0;34m(link)\u001b[0m\n\u001b[1;32m     20\u001b[0m     \u001b[0marticle\u001b[0m \u001b[0;34m=\u001b[0m \u001b[0mArticle\u001b[0m\u001b[0;34m(\u001b[0m\u001b[0mlink\u001b[0m\u001b[0;34m)\u001b[0m\u001b[0;34m\u001b[0m\u001b[0;34m\u001b[0m\u001b[0m\n\u001b[1;32m     21\u001b[0m     \u001b[0marticle\u001b[0m\u001b[0;34m.\u001b[0m\u001b[0mdownload\u001b[0m\u001b[0;34m(\u001b[0m\u001b[0;34m)\u001b[0m\u001b[0;34m\u001b[0m\u001b[0;34m\u001b[0m\u001b[0m\n\u001b[0;32m---> 22\u001b[0;31m     \u001b[0marticle\u001b[0m\u001b[0;34m.\u001b[0m\u001b[0mparse\u001b[0m\u001b[0;34m(\u001b[0m\u001b[0;34m)\u001b[0m\u001b[0;34m\u001b[0m\u001b[0;34m\u001b[0m\u001b[0m\n\u001b[0m\u001b[1;32m     23\u001b[0m     \u001b[0;32mreturn\u001b[0m \u001b[0marticle\u001b[0m\u001b[0;34m.\u001b[0m\u001b[0mtext\u001b[0m\u001b[0;34m\u001b[0m\u001b[0;34m\u001b[0m\u001b[0m\n\u001b[1;32m     24\u001b[0m \u001b[0;34m\u001b[0m\u001b[0m\n",
      "\u001b[0;32m~/opt/anaconda3/lib/python3.8/site-packages/newspaper/article.py\u001b[0m in \u001b[0;36mparse\u001b[0;34m(self)\u001b[0m\n\u001b[1;32m    189\u001b[0m \u001b[0;34m\u001b[0m\u001b[0m\n\u001b[1;32m    190\u001b[0m     \u001b[0;32mdef\u001b[0m \u001b[0mparse\u001b[0m\u001b[0;34m(\u001b[0m\u001b[0mself\u001b[0m\u001b[0;34m)\u001b[0m\u001b[0;34m:\u001b[0m\u001b[0;34m\u001b[0m\u001b[0;34m\u001b[0m\u001b[0m\n\u001b[0;32m--> 191\u001b[0;31m         \u001b[0mself\u001b[0m\u001b[0;34m.\u001b[0m\u001b[0mthrow_if_not_downloaded_verbose\u001b[0m\u001b[0;34m(\u001b[0m\u001b[0;34m)\u001b[0m\u001b[0;34m\u001b[0m\u001b[0;34m\u001b[0m\u001b[0m\n\u001b[0m\u001b[1;32m    192\u001b[0m \u001b[0;34m\u001b[0m\u001b[0m\n\u001b[1;32m    193\u001b[0m         \u001b[0mself\u001b[0m\u001b[0;34m.\u001b[0m\u001b[0mdoc\u001b[0m \u001b[0;34m=\u001b[0m \u001b[0mself\u001b[0m\u001b[0;34m.\u001b[0m\u001b[0mconfig\u001b[0m\u001b[0;34m.\u001b[0m\u001b[0mget_parser\u001b[0m\u001b[0;34m(\u001b[0m\u001b[0;34m)\u001b[0m\u001b[0;34m.\u001b[0m\u001b[0mfromstring\u001b[0m\u001b[0;34m(\u001b[0m\u001b[0mself\u001b[0m\u001b[0;34m.\u001b[0m\u001b[0mhtml\u001b[0m\u001b[0;34m)\u001b[0m\u001b[0;34m\u001b[0m\u001b[0;34m\u001b[0m\u001b[0m\n",
      "\u001b[0;32m~/opt/anaconda3/lib/python3.8/site-packages/newspaper/article.py\u001b[0m in \u001b[0;36mthrow_if_not_downloaded_verbose\u001b[0;34m(self)\u001b[0m\n\u001b[1;32m    529\u001b[0m             \u001b[0;32mraise\u001b[0m \u001b[0mArticleException\u001b[0m\u001b[0;34m(\u001b[0m\u001b[0;34m'You must `download()` an article first!'\u001b[0m\u001b[0;34m)\u001b[0m\u001b[0;34m\u001b[0m\u001b[0;34m\u001b[0m\u001b[0m\n\u001b[1;32m    530\u001b[0m         \u001b[0;32melif\u001b[0m \u001b[0mself\u001b[0m\u001b[0;34m.\u001b[0m\u001b[0mdownload_state\u001b[0m \u001b[0;34m==\u001b[0m \u001b[0mArticleDownloadState\u001b[0m\u001b[0;34m.\u001b[0m\u001b[0mFAILED_RESPONSE\u001b[0m\u001b[0;34m:\u001b[0m\u001b[0;34m\u001b[0m\u001b[0;34m\u001b[0m\u001b[0m\n\u001b[0;32m--> 531\u001b[0;31m             raise ArticleException('Article `download()` failed with %s on URL %s' %\n\u001b[0m\u001b[1;32m    532\u001b[0m                   (self.download_exception_msg, self.url))\n\u001b[1;32m    533\u001b[0m \u001b[0;34m\u001b[0m\u001b[0m\n",
      "\u001b[0;31mArticleException\u001b[0m: Article `download()` failed with No connection adapters were found for \":/SINGAPORE - For more than six years, a Singaporean company director breached United Nations sanctions and supplied luxury goods such as wine, perfumes, musical instruments and jewellery to a North Korean department store chain.\\n\\nWhen the chain owed his company about US$20 million (S$27.3 million) in delayed payments, Ng Kheng Wah devised a fraudulent invoice financing scheme to cheat five banks of about S$130 million to tide over his cash flow problem.\\n\\nOn Friday (Nov 22), the 56-year-old man was sentenced to 34 months' jail, after he pleaded guilty to 10 counts of cheating and 10 counts of illegally supplying luxury items to North Korea in breach of UN sanctions. Another 140 charges of a similar nature were taken into consideration.\\n\\nHis company T Specialist International was fined $880,000 for supplying luxury items to a person in North Korea on 10 occasions, and for two counts of money laundering charges. Seventy-five other charges of a similar nature were considered.\\n\\nNg's accompli\" on URL :/SINGAPORE - For more than six years, a Singaporean company director breached United Nations sanctions and supplied luxury goods such as wine, perfumes, musical instruments and jewellery to a North Korean department store chain.\n\nWhen the chain owed his company about US$20 million (S$27.3 million) in delayed payments, Ng Kheng Wah devised a fraudulent invoice financing scheme to cheat five banks of about S$130 million to tide over his cash flow problem.\n\nOn Friday (Nov 22), the 56-year-old man was sentenced to 34 months' jail, after he pleaded guilty to 10 counts of cheating and 10 counts of illegally supplying luxury items to North Korea in breach of UN sanctions. Another 140 charges of a similar nature were taken into consideration.\n\nHis company T Specialist International was fined $880,000 for supplying luxury items to a person in North Korea on 10 occasions, and for two counts of money laundering charges. Seventy-five other charges of a similar nature were considered.\n\nNg's accompli"
     ]
    }
   ],
   "source": []
  },
  {
   "cell_type": "code",
   "execution_count": 18,
   "metadata": {},
   "outputs": [],
   "source": [
    "doc = nlp(text)"
   ]
  },
  {
   "cell_type": "code",
   "execution_count": 19,
   "metadata": {},
   "outputs": [
    {
     "name": "stdout",
     "output_type": "stream",
     "text": [
      "SINGAPORE - The Singapore Management University (SMU) student\n",
      "a woman\n",
      "an overnight study session\n",
      "campus\n",
      "he\n",
      "she\n",
      "it\n",
      "she\n",
      "a district court\n",
      "Monday\n",
      "April\n",
      "his parents\n",
      "younger brother\n",
      "the public gallery\n",
      "Lee Yan Ru\n",
      "his account\n",
      "what\n",
      "the early hours\n",
      "Jan\n",
      "he\n",
      "the woman's modesty\n",
      "He\n",
      "criminal force\n",
      "the victim\n",
      "his exposed private parts\n",
      "her chest\n",
      "her modesty\n",
      "a study room\n",
      "SMU\n",
      "Lee\n",
      "who\n",
      "his lawyer\n",
      "Josephine Chee\n",
      "Rajah\n",
      "Tann\n",
      "she\n",
      "me\n",
      "it\n",
      "a very jest(ful) manner\n",
      "I\n",
      "she\n",
      "me\n",
      "the night\n",
      "she\n",
      "me\n",
      "this coy behaviour\n",
      "her\n",
      "He\n",
      "me\n",
      ", her 'stop\n"
     ]
    }
   ],
   "source": [
    "for chunk in doc.noun_chunks:\n",
    "    print(chunk)"
   ]
  },
  {
   "cell_type": "code",
   "execution_count": null,
   "metadata": {},
   "outputs": [],
   "source": []
  },
  {
   "cell_type": "code",
   "execution_count": null,
   "metadata": {},
   "outputs": [],
   "source": []
  },
  {
   "cell_type": "code",
   "execution_count": null,
   "metadata": {},
   "outputs": [],
   "source": []
  },
  {
   "cell_type": "code",
   "execution_count": null,
   "metadata": {},
   "outputs": [],
   "source": []
  },
  {
   "cell_type": "code",
   "execution_count": null,
   "metadata": {
    "colab": {
     "base_uri": "https://localhost:8080/"
    },
    "id": "x8V3Y6es6nFb",
    "outputId": "f44f7424-c438-4eab-a086-a965f4ec82ae"
   },
   "outputs": [
    {
     "name": "stdout",
     "output_type": "stream",
     "text": [
      "[Synset('politic.a.01'), Synset('politic.s.02')]\n",
      "Synset('politic.a.01')\n",
      "Synset('cookbook.n.01')\n",
      "None\n"
     ]
    }
   ],
   "source": [
    "# using wordnet for name matching\n",
    "import nltk\n",
    "from nltk.corpus import wordnet as wn\n",
    "from itertools import product\n",
    "\n",
    "print(wordnet.synsets('politic'))\n",
    "\n",
    "wordx, wordy = \"politic\",\"politic\"\n",
    "sem1, sem2 = wn.synsets(wordx)[0], wn.synsets(wordy)[0]\n",
    "print(sem1)\n",
    "\n",
    "\n",
    "\n",
    "cb = wordnet.synset('cookbook.n.01')\n",
    "print(cb)\n",
    "ib = wordnet.synset('instruction_book.n.01')\n",
    "print(cb.wup_similarity(sem1))"
   ]
  },
  {
   "cell_type": "code",
   "execution_count": null,
   "metadata": {
    "id": "-PZMfy93UvZQ"
   },
   "outputs": [],
   "source": [
    "# exploring model training to classify types of articles (naive bayes)\n",
    "\n",
    "from sklearn.datasets import fetch_20newsgroups\n",
    "train = fetch_20newsgroups(subset='train')\n",
    "test = fetch_20newsgroups(subset='test')"
   ]
  },
  {
   "cell_type": "code",
   "execution_count": null,
   "metadata": {
    "colab": {
     "base_uri": "https://localhost:8080/"
    },
    "id": "KucbTiSvSlcy",
    "outputId": "b2f79b42-3de0-47d0-9629-cfee0091cee0"
   },
   "outputs": [
    {
     "data": {
      "text/plain": [
       "(11314, 130107)"
      ]
     },
     "execution_count": 81,
     "metadata": {},
     "output_type": "execute_result"
    }
   ],
   "source": [
    "from sklearn.feature_extraction.text import CountVectorizer\n",
    "count_vect = CountVectorizer()\n",
    "\n",
    "X_train_counts = count_vect.fit_transform(twenty_train.data)\n",
    "X_train_counts.shape"
   ]
  },
  {
   "cell_type": "code",
   "execution_count": null,
   "metadata": {
    "colab": {
     "base_uri": "https://localhost:8080/"
    },
    "id": "5rVSBMTJWj-p",
    "outputId": "ab795f94-00e7-42af-e73d-cc6915db82ad"
   },
   "outputs": [
    {
     "data": {
      "text/plain": [
       "(11314, 130107)"
      ]
     },
     "execution_count": 82,
     "metadata": {},
     "output_type": "execute_result"
    }
   ],
   "source": [
    "from sklearn.feature_extraction.text import TfidfTransformer\n",
    "tfidf_transformer = TfidfTransformer()\n",
    "X_train_tfidf = tfidf_transformer.fit_transform(X_train_counts)\n",
    "X_train_tfidf.shape"
   ]
  },
  {
   "cell_type": "code",
   "execution_count": null,
   "metadata": {
    "id": "br7OKn-YWuba"
   },
   "outputs": [],
   "source": [
    "from sklearn.naive_bayes import MultinomialNB\n",
    "clf = MultinomialNB().fit(X_train_tfidf, twenty_train.target)"
   ]
  },
  {
   "cell_type": "code",
   "execution_count": null,
   "metadata": {
    "id": "2apZcm3nXssj"
   },
   "outputs": [],
   "source": [
    ">>> from sklearn.pipeline import Pipeline\n",
    ">>> text_clf = Pipeline([('vect', CountVectorizer()),\n",
    "...                      ('tfidf', TfidfTransformer()),\n",
    "...                      ('clf', MultinomialNB()),\n",
    "... ])\n",
    "model = text_clf.fit(twenty_train.data, twenty_train.target)\n",
    "\n",
    "labels = model.predict(test.data)\n",
    "\n",
    "def predict_cat(s, train = train, model = model):\n",
    "  pred = model.predict([s])\n",
    "  return train.target_names[pred[0]]"
   ]
  },
  {
   "cell_type": "code",
   "execution_count": null,
   "metadata": {
    "colab": {
     "base_uri": "https://localhost:8080/",
     "height": 35
    },
    "id": "6LMWz2YZX7I4",
    "outputId": "fd67b0dd-1860-44a2-d5f7-6dbba60cb50d"
   },
   "outputs": [
    {
     "data": {
      "application/vnd.google.colaboratory.intrinsic+json": {
       "type": "string"
      },
      "text/plain": [
       "'sci.crypt'"
      ]
     },
     "execution_count": 98,
     "metadata": {},
     "output_type": "execute_result"
    }
   ],
   "source": [
    "from sklearn.feature_extraction.text import CountVectorizer\n",
    "from newspaper import Article\n",
    "\n",
    "def article_extraction(link):\n",
    "    article = Article(link)\n",
    "    article.download()\n",
    "    article.parse()\n",
    "    return article.text\n",
    "\n",
    "lst = []\n",
    "link = \"https://www.straitstimes.com/singapore/courts-crime/20-more-charges-for-spore-businessman-ng-yu-zhi-over-alleged-12-billion-fraud\"\n",
    "doc = article_extraction(link)\n",
    "predict_cat(doc)\n",
    "\n"
   ]
  }
 ],
 "metadata": {
  "colab": {
   "name": "Test2.ipynb",
   "provenance": []
  },
  "kernelspec": {
   "display_name": "Python 3",
   "language": "python",
   "name": "python3"
  },
  "language_info": {
   "codemirror_mode": {
    "name": "ipython",
    "version": 3
   },
   "file_extension": ".py",
   "mimetype": "text/x-python",
   "name": "python",
   "nbconvert_exporter": "python",
   "pygments_lexer": "ipython3",
   "version": "3.8.3"
  }
 },
 "nbformat": 4,
 "nbformat_minor": 1
}
