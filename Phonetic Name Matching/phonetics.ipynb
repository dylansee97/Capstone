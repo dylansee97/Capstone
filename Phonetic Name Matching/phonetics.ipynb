{
 "cells": [
  {
   "cell_type": "code",
   "execution_count": 13,
   "source": [
    "\n",
    "import pandas as pd\n",
    "import numpy as np\n",
    "import itertools"
   ],
   "outputs": [],
   "metadata": {}
  },
  {
   "cell_type": "code",
   "execution_count": 6,
   "source": [
    "phonetic_list = []\n",
    "sample_1 = ['Shaun', 'Shawn', 'Sean']\n",
    "sample_2 = ['Lee', 'Li']\n",
    "sample_3 = ['Lew','Liu','Liew']\n",
    "\n",
    "phonetic_list.append(sample_1)\n",
    "phonetic_list.append(sample_2)\n",
    "phonetic_list.append(sample_3)"
   ],
   "outputs": [],
   "metadata": {}
  },
  {
   "cell_type": "code",
   "execution_count": 7,
   "source": [
    "phonetic_list"
   ],
   "outputs": [
    {
     "output_type": "execute_result",
     "data": {
      "text/plain": [
       "[['Shaun', 'Shawn', 'Sean'], ['Lee', 'Li'], ['Lew', 'Liu', 'Liew']]"
      ]
     },
     "metadata": {},
     "execution_count": 7
    }
   ],
   "metadata": {}
  },
  {
   "cell_type": "code",
   "execution_count": 112,
   "source": [
    "\n",
    "def get_all_similar(name, phonetic_list):\n",
    "    name_list = name.split(\" \")\n",
    "    no_of_words = len(name_list)\n",
    "    output_list = []\n",
    "    total_word_list = []\n",
    "    for i in range(len(name_list)):\n",
    "        word_found = False\n",
    "        for similar_names_list in phonetic_list:\n",
    "            if name_list[i] in similar_names_list:\n",
    "                word_found = True\n",
    "                total_word_list.append(similar_names_list)\n",
    "        if not word_found:\n",
    "            total_word_list.append([name_list[i]]) \n",
    "\n",
    "                    \n",
    "    for element in itertools.product(*total_word_list):\n",
    "        output = ''\n",
    "        for x in range(len(element)):\n",
    "            if x==0:\n",
    "                output += element[x]\n",
    "            else:\n",
    "                output += ' ' + element[x] \n",
    "        output_list.append(output)           \n",
    "    return output_list\n",
    "                "
   ],
   "outputs": [],
   "metadata": {}
  },
  {
   "cell_type": "code",
   "execution_count": 113,
   "source": [
    "get_all_similar(\"Sean Lee Jun Jie\", phonetic_list)"
   ],
   "outputs": [
    {
     "output_type": "execute_result",
     "data": {
      "text/plain": [
       "['Shaun Lee Jun Jie',\n",
       " 'Shaun Li Jun Jie',\n",
       " 'Shawn Lee Jun Jie',\n",
       " 'Shawn Li Jun Jie',\n",
       " 'Sean Lee Jun Jie',\n",
       " 'Sean Li Jun Jie']"
      ]
     },
     "metadata": {},
     "execution_count": 113
    }
   ],
   "metadata": {}
  },
  {
   "cell_type": "code",
   "execution_count": 114,
   "source": [
    "get_all_similar(\"John Chen Li Yang\", phonetic_list)"
   ],
   "outputs": [
    {
     "output_type": "execute_result",
     "data": {
      "text/plain": [
       "['John Chen Lee Yang', 'John Chen Li Yang']"
      ]
     },
     "metadata": {},
     "execution_count": 114
    }
   ],
   "metadata": {}
  },
  {
   "cell_type": "code",
   "execution_count": 115,
   "source": [
    "get_all_similar(\"Sean Tan Li Li\", phonetic_list)"
   ],
   "outputs": [
    {
     "output_type": "execute_result",
     "data": {
      "text/plain": [
       "['Shaun Tan Lee Lee',\n",
       " 'Shaun Tan Lee Li',\n",
       " 'Shaun Tan Li Lee',\n",
       " 'Shaun Tan Li Li',\n",
       " 'Shawn Tan Lee Lee',\n",
       " 'Shawn Tan Lee Li',\n",
       " 'Shawn Tan Li Lee',\n",
       " 'Shawn Tan Li Li',\n",
       " 'Sean Tan Lee Lee',\n",
       " 'Sean Tan Lee Li',\n",
       " 'Sean Tan Li Lee',\n",
       " 'Sean Tan Li Li']"
      ]
     },
     "metadata": {},
     "execution_count": 115
    }
   ],
   "metadata": {}
  },
  {
   "cell_type": "code",
   "execution_count": 75,
   "source": [
    "import jellyfish\n",
    "from fuzzywuzzy import fuzz"
   ],
   "outputs": [
    {
     "output_type": "stream",
     "name": "stderr",
     "text": [
      "/usr/local/lib/python3.8/site-packages/fuzzywuzzy/fuzz.py:11: UserWarning: Using slow pure-python SequenceMatcher. Install python-Levenshtein to remove this warning\n",
      "  warnings.warn('Using slow pure-python SequenceMatcher. Install python-Levenshtein to remove this warning')\n"
     ]
    }
   ],
   "metadata": {}
  },
  {
   "cell_type": "code",
   "execution_count": 94,
   "source": [
    "\n",
    "print(jellyfish.levenshtein_distance(\"Sean\", \"Shawn\"))\n",
    "print(jellyfish.levenshtein_distance(\"Li\", \"Lee\"))\n",
    "print(jellyfish.levenshtein_distance(\"Tim\", \"Jim\"))"
   ],
   "outputs": [
    {
     "output_type": "stream",
     "name": "stdout",
     "text": [
      "2\n",
      "2\n",
      "1\n"
     ]
    }
   ],
   "metadata": {}
  },
  {
   "cell_type": "code",
   "execution_count": 67,
   "source": [
    "jellyfish.levenshtein_distance(\"Bob\", \"John\")"
   ],
   "outputs": [
    {
     "output_type": "execute_result",
     "data": {
      "text/plain": [
       "3"
      ]
     },
     "metadata": {},
     "execution_count": 67
    }
   ],
   "metadata": {}
  },
  {
   "cell_type": "code",
   "execution_count": 84,
   "source": [
    "print(jellyfish.soundex(\"Sean\", \"Shawn\"))\n",
    "print(jellyfish.soundex(\"Li\", \"Lee\"))"
   ],
   "outputs": [
    {
     "output_type": "error",
     "ename": "TypeError",
     "evalue": "str argument expected",
     "traceback": [
      "\u001b[0;31m---------------------------------------------------------------------------\u001b[0m",
      "\u001b[0;31mTypeError\u001b[0m                                 Traceback (most recent call last)",
      "\u001b[0;32m/var/folders/g8/b1vh2_tj6ls2g7cmx18_sqb40000gn/T/ipykernel_64664/92437765.py\u001b[0m in \u001b[0;36m<module>\u001b[0;34m\u001b[0m\n\u001b[0;32m----> 1\u001b[0;31m \u001b[0mprint\u001b[0m\u001b[0;34m(\u001b[0m\u001b[0mjellyfish\u001b[0m\u001b[0;34m.\u001b[0m\u001b[0msoundex\u001b[0m\u001b[0;34m(\u001b[0m\u001b[0;34m\"Sean\"\u001b[0m\u001b[0;34m,\u001b[0m \u001b[0;34m\"Shawn\"\u001b[0m\u001b[0;34m)\u001b[0m\u001b[0;34m)\u001b[0m\u001b[0;34m\u001b[0m\u001b[0;34m\u001b[0m\u001b[0m\n\u001b[0m\u001b[1;32m      2\u001b[0m \u001b[0mprint\u001b[0m\u001b[0;34m(\u001b[0m\u001b[0mjellyfish\u001b[0m\u001b[0;34m.\u001b[0m\u001b[0msoundex\u001b[0m\u001b[0;34m(\u001b[0m\u001b[0;34m\"Li\"\u001b[0m\u001b[0;34m,\u001b[0m \u001b[0;34m\"Lee\"\u001b[0m\u001b[0;34m)\u001b[0m\u001b[0;34m)\u001b[0m\u001b[0;34m\u001b[0m\u001b[0;34m\u001b[0m\u001b[0m\n",
      "\u001b[0;31mTypeError\u001b[0m: str argument expected"
     ]
    }
   ],
   "metadata": {}
  },
  {
   "cell_type": "code",
   "execution_count": 93,
   "source": [
    "print(jellyfish.soundex(\"Sean\"))\n",
    "print(jellyfish.soundex(\"Shawn\"))\n",
    "print(jellyfish.soundex(\"Shaun\"))\n",
    "print(jellyfish.soundex(\"Shayn\"))"
   ],
   "outputs": [
    {
     "output_type": "stream",
     "name": "stdout",
     "text": [
      "S500\n",
      "S500\n",
      "S500\n",
      "S500\n"
     ]
    }
   ],
   "metadata": {}
  },
  {
   "cell_type": "code",
   "execution_count": 89,
   "source": [
    "print(jellyfish.metaphone(\"Sean\"))\n",
    "print(jellyfish.metaphone(\"Shawn\"))\n",
    "print(jellyfish.metaphone(\"Shaun\"))\n",
    "print(jellyfish.metaphone(\"Shayn\"))"
   ],
   "outputs": [
    {
     "output_type": "stream",
     "name": "stdout",
     "text": [
      "SN\n",
      "XN\n",
      "XN\n",
      "XN\n"
     ]
    }
   ],
   "metadata": {}
  },
  {
   "cell_type": "code",
   "execution_count": 91,
   "source": [
    "print(jellyfish.nysiis(\"Sean\"))\n",
    "print(jellyfish.nysiis(\"Shawn\"))\n",
    "print(jellyfish.nysiis(\"Shaun\"))\n",
    "print(jellyfish.nysiis(\"Shayn\"))"
   ],
   "outputs": [
    {
     "output_type": "stream",
     "name": "stdout",
     "text": [
      "SAN\n",
      "SAN\n",
      "SAN\n",
      "SAYN\n"
     ]
    }
   ],
   "metadata": {}
  },
  {
   "cell_type": "code",
   "execution_count": 92,
   "source": [
    "print(jellyfish.match_rating_codex(\"Sean\"))\n",
    "print(jellyfish.match_rating_codex(\"Shawn\"))\n",
    "print(jellyfish.match_rating_codex(\"Shaun\"))\n",
    "print(jellyfish.match_rating_codex(\"Shayn\"))"
   ],
   "outputs": [
    {
     "output_type": "stream",
     "name": "stdout",
     "text": [
      "SN\n",
      "SHWN\n",
      "SHN\n",
      "SHYN\n"
     ]
    }
   ],
   "metadata": {}
  },
  {
   "cell_type": "code",
   "execution_count": null,
   "source": [],
   "outputs": [],
   "metadata": {}
  }
 ],
 "metadata": {
  "orig_nbformat": 4,
  "language_info": {
   "name": "python",
   "version": "3.8.5",
   "mimetype": "text/x-python",
   "codemirror_mode": {
    "name": "ipython",
    "version": 3
   },
   "pygments_lexer": "ipython3",
   "nbconvert_exporter": "python",
   "file_extension": ".py"
  },
  "kernelspec": {
   "name": "python3",
   "display_name": "Python 3.8.5 64-bit"
  },
  "interpreter": {
   "hash": "aee8b7b246df8f9039afb4144a1f6fd8d2ca17a180786b69acc140d282b71a49"
  }
 },
 "nbformat": 4,
 "nbformat_minor": 2
}