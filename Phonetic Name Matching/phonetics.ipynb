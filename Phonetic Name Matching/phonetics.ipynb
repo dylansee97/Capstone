{
 "cells": [
  {
   "cell_type": "code",
   "execution_count": 8,
   "source": [
    "\n",
    "import pandas as pd\n",
    "import numpy as np\n",
    "import itertools"
   ],
   "outputs": [],
   "metadata": {}
  },
  {
   "cell_type": "markdown",
   "source": [
    "# Search Name Permuntation (If needed)"
   ],
   "metadata": {}
  },
  {
   "cell_type": "code",
   "execution_count": 6,
   "source": [
    "phonetic_list = []\n",
    "sample_1 = ['Shaun', 'Shawn', 'Sean']\n",
    "sample_2 = ['Lee', 'Li']\n",
    "sample_3 = ['Lew','Liu','Liew']\n",
    "\n",
    "phonetic_list.append(sample_1)\n",
    "phonetic_list.append(sample_2)\n",
    "phonetic_list.append(sample_3)"
   ],
   "outputs": [],
   "metadata": {}
  },
  {
   "cell_type": "code",
   "execution_count": 7,
   "source": [
    "phonetic_list"
   ],
   "outputs": [
    {
     "output_type": "execute_result",
     "data": {
      "text/plain": [
       "[['Shaun', 'Shawn', 'Sean'], ['Lee', 'Li'], ['Lew', 'Liu', 'Liew']]"
      ]
     },
     "metadata": {},
     "execution_count": 7
    }
   ],
   "metadata": {}
  },
  {
   "cell_type": "code",
   "execution_count": 112,
   "source": [
    "\n",
    "def get_all_similar(name, phonetic_list):\n",
    "    name_list = name.split(\" \")\n",
    "    no_of_words = len(name_list)\n",
    "    output_list = []\n",
    "    total_word_list = []\n",
    "    for i in range(len(name_list)):\n",
    "        word_found = False\n",
    "        for similar_names_list in phonetic_list:\n",
    "            if name_list[i] in similar_names_list:\n",
    "                word_found = True\n",
    "                total_word_list.append(similar_names_list)\n",
    "        if not word_found:\n",
    "            total_word_list.append([name_list[i]])                     \n",
    "    for element in itertools.product(*total_word_list):\n",
    "        output = ''\n",
    "        for x in range(len(element)):\n",
    "            if x==0:\n",
    "                output += element[x]\n",
    "            else:\n",
    "                output += ' ' + element[x] \n",
    "        output_list.append(output)           \n",
    "    return output_list\n",
    "                "
   ],
   "outputs": [],
   "metadata": {}
  },
  {
   "cell_type": "code",
   "execution_count": 113,
   "source": [
    "get_all_similar(\"Sean Lee Jun Jie\", phonetic_list)"
   ],
   "outputs": [
    {
     "output_type": "execute_result",
     "data": {
      "text/plain": [
       "['Shaun Lee Jun Jie',\n",
       " 'Shaun Li Jun Jie',\n",
       " 'Shawn Lee Jun Jie',\n",
       " 'Shawn Li Jun Jie',\n",
       " 'Sean Lee Jun Jie',\n",
       " 'Sean Li Jun Jie']"
      ]
     },
     "metadata": {},
     "execution_count": 113
    }
   ],
   "metadata": {}
  },
  {
   "cell_type": "code",
   "execution_count": 115,
   "source": [
    "get_all_similar(\"Sean Tan Li Li\", phonetic_list)"
   ],
   "outputs": [
    {
     "output_type": "execute_result",
     "data": {
      "text/plain": [
       "['Shaun Tan Lee Lee',\n",
       " 'Shaun Tan Lee Li',\n",
       " 'Shaun Tan Li Lee',\n",
       " 'Shaun Tan Li Li',\n",
       " 'Shawn Tan Lee Lee',\n",
       " 'Shawn Tan Lee Li',\n",
       " 'Shawn Tan Li Lee',\n",
       " 'Shawn Tan Li Li',\n",
       " 'Sean Tan Lee Lee',\n",
       " 'Sean Tan Lee Li',\n",
       " 'Sean Tan Li Lee',\n",
       " 'Sean Tan Li Li']"
      ]
     },
     "metadata": {},
     "execution_count": 115
    }
   ],
   "metadata": {}
  },
  {
   "cell_type": "markdown",
   "source": [
    "# Name Matching"
   ],
   "metadata": {}
  },
  {
   "cell_type": "code",
   "execution_count": 9,
   "source": [
    "import jellyfish\n",
    "from fuzzywuzzy import fuzz\n",
    "import pandas as pd\n",
    "df = pd.read_excel(\"NUS sample names_V2.xlsx\", engine=\"openpyxl\")"
   ],
   "outputs": [
    {
     "output_type": "stream",
     "name": "stderr",
     "text": [
      "/usr/local/lib/python3.8/site-packages/fuzzywuzzy/fuzz.py:11: UserWarning: Using slow pure-python SequenceMatcher. Install python-Levenshtein to remove this warning\n",
      "  warnings.warn('Using slow pure-python SequenceMatcher. Install python-Levenshtein to remove this warning')\n"
     ]
    }
   ],
   "metadata": {}
  },
  {
   "cell_type": "markdown",
   "source": [
    "## Integer based calculations may be too strict and cannot handle wrong orders"
   ],
   "metadata": {}
  },
  {
   "cell_type": "code",
   "execution_count": 8,
   "source": [
    "print(jellyfish.levenshtein_distance(\"Sean\", \"Shawn\"))\n",
    "print(jellyfish.levenshtein_distance(\"Li\", \"Lee\"))\n",
    "print(jellyfish.levenshtein_distance(\"Tim\", \"Jim\"))\n",
    "print(jellyfish.levenshtein_distance(\"Teo Cheng Kiat\", \"Cheng Kiat Teo\"))\n",
    "print(jellyfish.levenshtein_distance(\"Teo Cheng Kiat\", \"Cheng Kiat Teo\"))\n",
    "print(jellyfish.levenshtein_distance(\"Teo Cheng Kiat\", \"Cheng Kiat Teo\"))"
   ],
   "outputs": [
    {
     "output_type": "stream",
     "name": "stdout",
     "text": [
      "2\n",
      "2\n",
      "1\n",
      "8\n",
      "8\n",
      "8\n"
     ]
    }
   ],
   "metadata": {}
  },
  {
   "cell_type": "markdown",
   "source": [
    "## Token Sort Ratio for name matching: wrong orders and phonetics/typos"
   ],
   "metadata": {}
  },
  {
   "cell_type": "code",
   "execution_count": 6,
   "source": [
    "print(fuzz.ratio(\"Teo Cheng Kiat\", \"Cheng Kiat Teo\"))\n",
    "print(fuzz.partial_ratio(\"Teo Cheng Kiat\", \"Cheng Kiat Teo\"))\n",
    "print(fuzz.token_sort_ratio(\"Teo Cheng Kiat\", \"Cheng Kiat Teo\"))"
   ],
   "outputs": [
    {
     "output_type": "stream",
     "name": "stdout",
     "text": [
      "71\n",
      "71\n",
      "100\n"
     ]
    }
   ],
   "metadata": {}
  },
  {
   "cell_type": "code",
   "execution_count": 10,
   "source": [
    "print(fuzz.ratio(\"Teo Cheng Kiat\", \"Teo Cheng Keat\"))\n",
    "print(fuzz.partial_ratio(\"Teo Cheng Kiat\", \"Teo Cheng Keat\"))\n",
    "print(fuzz.token_sort_ratio(\"Teo Cheng Kiat\", \"Teo Cheng Keat\"))"
   ],
   "outputs": [
    {
     "output_type": "stream",
     "name": "stdout",
     "text": [
      "93\n",
      "93\n",
      "93\n"
     ]
    }
   ],
   "metadata": {}
  },
  {
   "cell_type": "code",
   "execution_count": 104,
   "source": [
    "\n",
    "def test_name_matching(name1, name2):\n",
    "    print(\"\\n\\n---\",name1,\" AND \",name2, \"---\")\n",
    "    print(\"(Token Sort Ratio) Score: \", fuzz.token_sort_ratio(name1, name2))\n",
    "    print(\"(Partial Token Sort Ratio) Score: \", fuzz.partial_token_sort_ratio(name1, name2))\n",
    "    print(\"(Soundex) Actual: \", jellyfish.soundex(name1))\n",
    "    print(\"(Soundex) Error: \", jellyfish.soundex(name2))\n",
    "    print(\"(Metaphone) Actual: \", jellyfish.metaphone(name1))\n",
    "    print(\"(Metaphone) Error: \", jellyfish.metaphone(name2))      \n",
    "    print(\"(NYSIIS) Actual: \", jellyfish.nysiis(name1))\n",
    "    print(\"(NYSIIS) Error: \", jellyfish.nysiis(name2))    \n",
    "    print(\"(Codex) Actual: \", jellyfish.match_rating_codex(name1))\n",
    "    print(\"(Codex) Error: \", jellyfish.match_rating_codex(name2)) "
   ],
   "outputs": [],
   "metadata": {}
  },
  {
   "cell_type": "code",
   "execution_count": 28,
   "source": [
    "phonetics_df = df.loc[df['Type of variation (if any)']=='Spelling/Phonetic']\n",
    "phonetics_df.head(5)"
   ],
   "outputs": [
    {
     "output_type": "execute_result",
     "data": {
      "text/plain": [
       "     Name to be screened Alias name        Date of birth  Gender Nationality  \\\n",
       "2          Chia Tek Leng        NaN                 1960    Male   Singapore   \n",
       "5         Teo Cheng Keat        NaN                  NaN    Male   Singapore   \n",
       "9         Chong Hock Yan        NaN                 1960    Male   Singapore   \n",
       "17           Lage Vivien        NaN                 1997  Female   Singapore   \n",
       "24  Noordin Muhammad Top        NaN  1968-08-11 00:00:00    Male    Malaysia   \n",
       "\n",
       "   Type of variation (if any)           Actual name  \n",
       "2           Spelling/Phonetic        Chia Teck Leng  \n",
       "5           Spelling/Phonetic        Teo Cheng Kiat  \n",
       "9           Spelling/Phonetic        Chong Hock Yen  \n",
       "17          Spelling/Phonetic          Lange Vivian  \n",
       "24          Spelling/Phonetic  Noordin Mohammad Top  "
      ],
      "text/html": [
       "<div>\n",
       "<style scoped>\n",
       "    .dataframe tbody tr th:only-of-type {\n",
       "        vertical-align: middle;\n",
       "    }\n",
       "\n",
       "    .dataframe tbody tr th {\n",
       "        vertical-align: top;\n",
       "    }\n",
       "\n",
       "    .dataframe thead th {\n",
       "        text-align: right;\n",
       "    }\n",
       "</style>\n",
       "<table border=\"1\" class=\"dataframe\">\n",
       "  <thead>\n",
       "    <tr style=\"text-align: right;\">\n",
       "      <th></th>\n",
       "      <th>Name to be screened</th>\n",
       "      <th>Alias name</th>\n",
       "      <th>Date of birth</th>\n",
       "      <th>Gender</th>\n",
       "      <th>Nationality</th>\n",
       "      <th>Type of variation (if any)</th>\n",
       "      <th>Actual name</th>\n",
       "    </tr>\n",
       "  </thead>\n",
       "  <tbody>\n",
       "    <tr>\n",
       "      <th>2</th>\n",
       "      <td>Chia Tek Leng</td>\n",
       "      <td>NaN</td>\n",
       "      <td>1960</td>\n",
       "      <td>Male</td>\n",
       "      <td>Singapore</td>\n",
       "      <td>Spelling/Phonetic</td>\n",
       "      <td>Chia Teck Leng</td>\n",
       "    </tr>\n",
       "    <tr>\n",
       "      <th>5</th>\n",
       "      <td>Teo Cheng Keat</td>\n",
       "      <td>NaN</td>\n",
       "      <td>NaN</td>\n",
       "      <td>Male</td>\n",
       "      <td>Singapore</td>\n",
       "      <td>Spelling/Phonetic</td>\n",
       "      <td>Teo Cheng Kiat</td>\n",
       "    </tr>\n",
       "    <tr>\n",
       "      <th>9</th>\n",
       "      <td>Chong Hock Yan</td>\n",
       "      <td>NaN</td>\n",
       "      <td>1960</td>\n",
       "      <td>Male</td>\n",
       "      <td>Singapore</td>\n",
       "      <td>Spelling/Phonetic</td>\n",
       "      <td>Chong Hock Yen</td>\n",
       "    </tr>\n",
       "    <tr>\n",
       "      <th>17</th>\n",
       "      <td>Lage Vivien</td>\n",
       "      <td>NaN</td>\n",
       "      <td>1997</td>\n",
       "      <td>Female</td>\n",
       "      <td>Singapore</td>\n",
       "      <td>Spelling/Phonetic</td>\n",
       "      <td>Lange Vivian</td>\n",
       "    </tr>\n",
       "    <tr>\n",
       "      <th>24</th>\n",
       "      <td>Noordin Muhammad Top</td>\n",
       "      <td>NaN</td>\n",
       "      <td>1968-08-11 00:00:00</td>\n",
       "      <td>Male</td>\n",
       "      <td>Malaysia</td>\n",
       "      <td>Spelling/Phonetic</td>\n",
       "      <td>Noordin Mohammad Top</td>\n",
       "    </tr>\n",
       "  </tbody>\n",
       "</table>\n",
       "</div>"
      ]
     },
     "metadata": {},
     "execution_count": 28
    }
   ],
   "metadata": {}
  },
  {
   "cell_type": "code",
   "execution_count": 53,
   "source": [
    "phonetics_master_list = []\n",
    "for index, row in phonetics_df.iterrows():\n",
    "    current_entry = []\n",
    "    current_entry.append(row[0])\n",
    "    current_entry.append(row[6])\n",
    "    phonetics_master_list.append(current_entry)"
   ],
   "outputs": [],
   "metadata": {}
  },
  {
   "cell_type": "code",
   "execution_count": 54,
   "source": [
    "phonetics_master_list"
   ],
   "outputs": [
    {
     "output_type": "execute_result",
     "data": {
      "text/plain": [
       "[['Chia Tek Leng', 'Chia Teck Leng'],\n",
       " ['Teo Cheng Keat', 'Teo Cheng Kiat'],\n",
       " ['Chong Hock Yan', 'Chong Hock Yen'],\n",
       " ['Lage Vivien', 'Lange Vivian'],\n",
       " ['Noordin Muhammad Top', 'Noordin Mohammad Top'],\n",
       " ['Jan Sturzenegger', 'Jen Sturzenegger'],\n",
       " ['Rodrygo Duterte Roa', 'Rodrigo Roa Duterte'],\n",
       " ['Ameen Imam Boratong', 'Amin Imam Boratong'],\n",
       " ['Hose Calida', 'Jose Calida'],\n",
       " ['Erwin Tulpho', 'Erwin Tulfo'],\n",
       " ['Alan Burisima', 'Alan Purisima'],\n",
       " ['Park Chun il', 'Pak Chun il']]"
      ]
     },
     "metadata": {},
     "execution_count": 54
    }
   ],
   "metadata": {}
  },
  {
   "cell_type": "code",
   "execution_count": 55,
   "source": [
    "for both_names in phonetics_master_list:\n",
    "    test_name_matching(both_names[0], both_names[1])\n"
   ],
   "outputs": [
    {
     "output_type": "stream",
     "name": "stdout",
     "text": [
      "\n",
      "\n",
      "--- Chia Tek Leng  AND  Chia Teck Leng ---\n",
      "(Token Sort Ratio) Score:  96\n",
      "(Soundex) Actual:  C324\n",
      "(Soundex) Error:  C324\n",
      "(Metaphone) Actual:  X TK LNK\n",
      "(Metaphone) Error:  X TK LNK\n",
      "(NYSIIS) Actual:  C\n",
      "(NYSIIS) Error:  C\n",
      "(Codex) Actual:  CHTLNG\n",
      "(Codex) Error:  CHTLNG\n",
      "\n",
      "\n",
      "--- Teo Cheng Keat  AND  Teo Cheng Kiat ---\n",
      "(Token Sort Ratio) Score:  93\n",
      "(Soundex) Actual:  T252\n",
      "(Soundex) Error:  T252\n",
      "(Metaphone) Actual:  T XNK KT\n",
      "(Metaphone) Error:  T XNK KT\n",
      "(NYSIIS) Actual:  T\n",
      "(NYSIIS) Error:  T\n",
      "(Codex) Actual:  TCHGKT\n",
      "(Codex) Error:  TCHGKT\n",
      "\n",
      "\n",
      "--- Chong Hock Yan  AND  Chong Hock Yen ---\n",
      "(Token Sort Ratio) Score:  93\n",
      "(Soundex) Actual:  C522\n",
      "(Soundex) Error:  C522\n",
      "(Metaphone) Actual:  XNK HK YN\n",
      "(Metaphone) Error:  XNK HK YN\n",
      "(NYSIIS) Actual:  CANG\n",
      "(NYSIIS) Error:  CANG\n",
      "(Codex) Actual:  CHNKYN\n",
      "(Codex) Error:  CHNKYN\n",
      "\n",
      "\n",
      "--- Lage Vivien  AND  Lange Vivian ---\n",
      "(Token Sort Ratio) Score:  87\n",
      "(Soundex) Actual:  L211\n",
      "(Soundex) Error:  L521\n",
      "(Metaphone) Actual:  LJ FFN\n",
      "(Metaphone) Error:  LNJ FFN\n",
      "(NYSIIS) Actual:  LAG\n",
      "(NYSIIS) Error:  LANG\n",
      "(Codex) Actual:  LGVN\n",
      "(Codex) Error:  LNGVN\n",
      "\n",
      "\n",
      "--- Noordin Muhammad Top  AND  Noordin Mohammad Top ---\n",
      "(Token Sort Ratio) Score:  95\n",
      "(Soundex) Actual:  N635\n",
      "(Soundex) Error:  N635\n",
      "(Metaphone) Actual:  NRTN MHMT TP\n",
      "(Metaphone) Error:  NRTN MHMT TP\n",
      "(NYSIIS) Actual:  NARDAN\n",
      "(NYSIIS) Error:  NARDAN\n",
      "(Codex) Actual:  NRDDTP\n",
      "(Codex) Error:  NRDDTP\n",
      "\n",
      "\n",
      "--- Jan Sturzenegger  AND  Jen Sturzenegger ---\n",
      "(Token Sort Ratio) Score:  94\n",
      "(Soundex) Actual:  J523\n",
      "(Soundex) Error:  J523\n",
      "(Metaphone) Actual:  JN STRSNJR\n",
      "(Metaphone) Error:  JN STRSNJR\n",
      "(NYSIIS) Actual:  JAN\n",
      "(NYSIIS) Error:  JAN\n",
      "(Codex) Actual:  JNSNGR\n",
      "(Codex) Error:  JNSNGR\n",
      "\n",
      "\n",
      "--- Rodrygo Duterte Roa  AND  Rodrigo Roa Duterte ---\n",
      "(Token Sort Ratio) Score:  95\n",
      "(Soundex) Actual:  R362\n",
      "(Soundex) Error:  R362\n",
      "(Metaphone) Actual:  RTRK TTRT R\n",
      "(Metaphone) Error:  RTRK R TTRT\n",
      "(NYSIIS) Actual:  RADRYG\n",
      "(NYSIIS) Error:  RADRAG\n",
      "(Codex) Actual:  RDRRTR\n",
      "(Codex) Error:  RDRTRT\n",
      "\n",
      "\n",
      "--- Ameen Imam Boratong  AND  Amin Imam Boratong ---\n",
      "(Token Sort Ratio) Score:  92\n",
      "(Soundex) Actual:  A555\n",
      "(Soundex) Error:  A555\n",
      "(Metaphone) Actual:  AMN IMM BRTNK\n",
      "(Metaphone) Error:  AMN IMM BRTNK\n",
      "(NYSIIS) Actual:  ANAN\n",
      "(NYSIIS) Error:  ANAN\n",
      "(Codex) Actual:  AMNTNG\n",
      "(Codex) Error:  AMNTNG\n",
      "\n",
      "\n",
      "--- Hose Calida  AND  Jose Calida ---\n",
      "(Token Sort Ratio) Score:  91\n",
      "(Soundex) Actual:  H224\n",
      "(Soundex) Error:  J224\n",
      "(Metaphone) Actual:  HS KLT\n",
      "(Metaphone) Error:  JS KLT\n",
      "(NYSIIS) Actual:  HAS\n",
      "(NYSIIS) Error:  JAS\n",
      "(Codex) Actual:  HSCLD\n",
      "(Codex) Error:  JSCLD\n",
      "\n",
      "\n",
      "--- Erwin Tulpho  AND  Erwin Tulfo ---\n",
      "(Token Sort Ratio) Score:  87\n",
      "(Soundex) Actual:  E653\n",
      "(Soundex) Error:  E653\n",
      "(Metaphone) Actual:  ERWN TLF\n",
      "(Metaphone) Error:  ERWN TLF\n",
      "(NYSIIS) Actual:  ERWAN\n",
      "(NYSIIS) Error:  ERWAN\n",
      "(Codex) Actual:  ERWLPH\n",
      "(Codex) Error:  ERWTLF\n",
      "\n",
      "\n",
      "--- Alan Burisima  AND  Alan Purisima ---\n",
      "(Token Sort Ratio) Score:  92\n",
      "(Soundex) Actual:  A451\n",
      "(Soundex) Error:  A451\n",
      "(Metaphone) Actual:  ALN BRSM\n",
      "(Metaphone) Error:  ALN PRSM\n",
      "(NYSIIS) Actual:  ALAN\n",
      "(NYSIIS) Error:  ALAN\n",
      "(Codex) Actual:  ALNRSM\n",
      "(Codex) Error:  ALNRSM\n",
      "\n",
      "\n",
      "--- Park Chun il  AND  Pak Chun il ---\n",
      "(Token Sort Ratio) Score:  96\n",
      "(Soundex) Actual:  P622\n",
      "(Soundex) Error:  P225\n",
      "(Metaphone) Actual:  PRK XN IL\n",
      "(Metaphone) Error:  PK XN IL\n",
      "(NYSIIS) Actual:  PARC\n",
      "(NYSIIS) Error:  PAC\n",
      "(Codex) Actual:  PRKHNL\n",
      "(Codex) Error:  PKCHNL\n"
     ]
    }
   ],
   "metadata": {}
  },
  {
   "cell_type": "code",
   "execution_count": 92,
   "source": [
    "test_name_matching('Benedict Loh', 'Benedict Low')\n",
    "test_name_matching('Benedict Lim', 'Benedict Low')\n"
   ],
   "outputs": [
    {
     "output_type": "stream",
     "name": "stdout",
     "text": [
      "\n",
      "\n",
      "--- Benedict Loh  AND  Benedict Low ---\n",
      "(Token Sort Ratio) Score:  92\n",
      "(Partial Token Sort Ratio) Score:  92\n",
      "(Soundex) Actual:  B532\n",
      "(Soundex) Error:  B532\n",
      "(Metaphone) Actual:  BNTKT L\n",
      "(Metaphone) Error:  BNTKT L\n",
      "(NYSIIS) Actual:  BANADACT\n",
      "(NYSIIS) Error:  BANADACT\n",
      "(Codex) Actual:  BNDTLH\n",
      "(Codex) Error:  BNDTLW\n",
      "\n",
      "\n",
      "--- Benedict Lim  AND  Benedict Low ---\n",
      "(Token Sort Ratio) Score:  83\n",
      "(Partial Token Sort Ratio) Score:  83\n",
      "(Soundex) Actual:  B532\n",
      "(Soundex) Error:  B532\n",
      "(Metaphone) Actual:  BNTKT LM\n",
      "(Metaphone) Error:  BNTKT L\n",
      "(NYSIIS) Actual:  BANADACT\n",
      "(NYSIIS) Error:  BANADACT\n",
      "(Codex) Actual:  BNDTLM\n",
      "(Codex) Error:  BNDTLW\n"
     ]
    }
   ],
   "metadata": {}
  },
  {
   "cell_type": "code",
   "execution_count": 94,
   "source": [
    "test_name_matching('Shawn Li', 'Shawn Lee')\n",
    "test_name_matching('Sean Lee', 'Shaun Lee')"
   ],
   "outputs": [
    {
     "output_type": "stream",
     "name": "stdout",
     "text": [
      "\n",
      "\n",
      "--- Shawn Li  AND  Shawn Lee ---\n",
      "(Token Sort Ratio) Score:  82\n",
      "(Partial Token Sort Ratio) Score:  75\n",
      "(Soundex) Actual:  S540\n",
      "(Soundex) Error:  S540\n",
      "(Metaphone) Actual:  XN L\n",
      "(Metaphone) Error:  XN L\n",
      "(NYSIIS) Actual:  SAN\n",
      "(NYSIIS) Error:  SAN\n",
      "(Codex) Actual:  SHWNL\n",
      "(Codex) Error:  SHWNL\n",
      "\n",
      "\n",
      "--- Sean Lee  AND  Shaun Lee ---\n",
      "(Token Sort Ratio) Score:  82\n",
      "(Partial Token Sort Ratio) Score:  75\n",
      "(Soundex) Actual:  S540\n",
      "(Soundex) Error:  S540\n",
      "(Metaphone) Actual:  SN L\n",
      "(Metaphone) Error:  XN L\n",
      "(NYSIIS) Actual:  SAN\n",
      "(NYSIIS) Error:  SAN\n",
      "(Codex) Actual:  SNL\n",
      "(Codex) Error:  SHNL\n"
     ]
    }
   ],
   "metadata": {}
  },
  {
   "cell_type": "code",
   "execution_count": 74,
   "source": [
    "df_50 = df.head(50)"
   ],
   "outputs": [],
   "metadata": {}
  },
  {
   "cell_type": "code",
   "execution_count": 102,
   "source": [
    "# def name_matching(name1, name2):\n",
    "#     threshold = 90\n",
    "#     score1 = fuzz.token_sort_ratio(name1, name2)\n",
    "#     if score1 >= threshold:\n",
    "#         pass\n",
    "#         # let through\n",
    "#         # print(\"SUCCESS: \" + name1 + ' and ' + name2 + \" has a score of \" + str(score))\n",
    "#     else:\n",
    "#         # print(\"FAIL: \" + name1 + ' and ' + name2 + \" has a score of \" + str(score))\n",
    "#         score2 = fuzz.ratio(name1, name2)\n",
    "#         print(\"FAILS: \" + name1 + ' and ' + name2)\n",
    "#         print(\"(Fuzz Ratio) Score: \", fuzz.ratio(name1, name2))\n",
    "#         print(\"(Partial Ratio) Score: \", fuzz.partial_ratio(name1, name2))\n",
    "#         print(\"(Partial Token Sort Ratio) Score: \", fuzz.partial_token_sort_ratio(name1, name2))\n",
    "#         print(\"(Soundex) Actual: \", jellyfish.soundex(name1))\n",
    "#         print(\"(Soundex) Error: \", jellyfish.soundex(name2))\n",
    "#         print(\"(Metaphone) Actual: \", jellyfish.metaphone(name1))\n",
    "#         print(\"(Metaphone) Error: \", jellyfish.metaphone(name2))      \n",
    "#         print(\"(NYSIIS) Actual: \", jellyfish.nysiis(name1))\n",
    "#         print(\"(NYSIIS) Error: \", jellyfish.nysiis(name2))    \n",
    "#         print(\"(Codex) Actual: \", jellyfish.match_rating_codex(name1))\n",
    "#         print(\"(Codex) Error: \", jellyfish.match_rating_codex(name2)) \n",
    "#         print(\"\\n\")\n",
    "\n",
    "        \n",
    "        \n",
    "    # print(\"\\n\\n---\",name1,\" AND \",name2, \"---\")\n",
    "    # print(\"(Token Sort Ratio) Score: \", fuzz.token_sort_ratio(name1, name2))\n",
    "    # print(\"(Soundex) Actual: \", jellyfish.soundex(name1))\n",
    "    # print(\"(Soundex) Error: \", jellyfish.soundex(name2))\n",
    "    # print(\"(Metaphone) Actual: \", jellyfish.metaphone(name1))\n",
    "    # print(\"(Metaphone) Error: \", jellyfish.metaphone(name2))      \n",
    "    # print(\"(NYSIIS) Actual: \", jellyfish.nysiis(name1))\n",
    "    # print(\"(NYSIIS) Error: \", jellyfish.nysiis(name2))    \n",
    "    # print(\"(Codex) Actual: \", jellyfish.match_rating_codex(name1))\n",
    "    # print(\"(Codex) Error: \", jellyfish.match_rating_codex(name2)) "
   ],
   "outputs": [],
   "metadata": {}
  },
  {
   "cell_type": "code",
   "execution_count": 103,
   "source": [
    "test_list = []\n",
    "for index, row in df_50.iterrows():\n",
    "    current_entry = []\n",
    "    current_entry.append(row[0])\n",
    "    current_entry.append(row[6])\n",
    "    test_list.append(current_entry)\n",
    "for both_names in test_list:\n",
    "    name_matching(both_names[0], both_names[1])"
   ],
   "outputs": [
    {
     "output_type": "stream",
     "name": "stdout",
     "text": [
      "FAILS: Lim Oon Quin and Lim Oon Kuin\n",
      "(Fuzz Ratio) Score:  92\n",
      "(Partial Ratio) Score:  92\n",
      "(Partial Token Sort Ratio) Score:  74\n",
      "(Soundex) Actual:  L552\n",
      "(Soundex) Error:  L552\n",
      "(Metaphone) Actual:  LM N KN\n",
      "(Metaphone) Error:  LM N KN\n",
      "(NYSIIS) Actual:  LAN\n",
      "(NYSIIS) Error:  LAN\n",
      "(Codex) Actual:  LMNQN\n",
      "(Codex) Error:  LMNKN\n",
      "\n",
      "\n",
      "FAILS: Lage Vivien and Lange Vivian\n",
      "(Fuzz Ratio) Score:  87\n",
      "(Partial Ratio) Score:  82\n",
      "(Partial Token Sort Ratio) Score:  82\n",
      "(Soundex) Actual:  L211\n",
      "(Soundex) Error:  L521\n",
      "(Metaphone) Actual:  LJ FFN\n",
      "(Metaphone) Error:  LNJ FFN\n",
      "(NYSIIS) Actual:  LAG\n",
      "(NYSIIS) Error:  LANG\n",
      "(Codex) Actual:  LGVN\n",
      "(Codex) Error:  LNGVN\n",
      "\n",
      "\n",
      "FAILS: Laeg Vivian and Lange Vivian\n",
      "(Fuzz Ratio) Score:  87\n",
      "(Partial Ratio) Score:  82\n",
      "(Partial Token Sort Ratio) Score:  82\n",
      "(Soundex) Actual:  L211\n",
      "(Soundex) Error:  L521\n",
      "(Metaphone) Actual:  LK FFN\n",
      "(Metaphone) Error:  LNJ FFN\n",
      "(NYSIIS) Actual:  LAG\n",
      "(NYSIIS) Error:  LANG\n",
      "(Codex) Actual:  LGVN\n",
      "(Codex) Error:  LNGVN\n",
      "\n",
      "\n",
      "FAILS: Mas Salamat Kestari and Mas Selamat Kastari\n",
      "(Fuzz Ratio) Score:  89\n",
      "(Partial Ratio) Score:  89\n",
      "(Partial Token Sort Ratio) Score:  89\n",
      "(Soundex) Actual:  M224\n",
      "(Soundex) Error:  M224\n",
      "(Metaphone) Actual:  MS SLMT KSTR\n",
      "(Metaphone) Error:  MS SLMT KSTR\n",
      "(NYSIIS) Actual:  M\n",
      "(NYSIIS) Error:  M\n",
      "(Codex) Actual:  MSLSTR\n",
      "(Codex) Error:  MSLSTR\n",
      "\n",
      "\n",
      "FAILS: Msa Salemat Kastari and Mas Selamat Kastari\n",
      "(Fuzz Ratio) Score:  84\n",
      "(Partial Ratio) Score:  84\n",
      "(Partial Token Sort Ratio) Score:  84\n",
      "(Soundex) Actual:  M224\n",
      "(Soundex) Error:  M224\n",
      "(Metaphone) Actual:  MS SLMT KSTR\n",
      "(Metaphone) Error:  MS SLMT KSTR\n",
      "(NYSIIS) Actual:  MS\n",
      "(NYSIIS) Error:  M\n",
      "(Codex) Actual:  MSLSTR\n",
      "(Codex) Error:  MSLSTR\n",
      "\n",
      "\n",
      "FAILS: Norodni Mohamamd Tpo and Noordin Mohammad Top\n",
      "(Fuzz Ratio) Score:  80\n",
      "(Partial Ratio) Score:  80\n",
      "(Partial Token Sort Ratio) Score:  80\n",
      "(Soundex) Actual:  N635\n",
      "(Soundex) Error:  N635\n",
      "(Metaphone) Actual:  NRTN MHMMT TP\n",
      "(Metaphone) Error:  NRTN MHMT TP\n",
      "(NYSIIS) Actual:  NARADN\n",
      "(NYSIIS) Error:  NARDAN\n",
      "(Codex) Actual:  NRDDTP\n",
      "(Codex) Error:  NRDDTP\n",
      "\n",
      "\n",
      "FAILS: Bdizian Ianvishvlii and Bidzina Ivanishvili\n",
      "(Fuzz Ratio) Score:  63\n",
      "(Partial Ratio) Score:  63\n",
      "(Partial Token Sort Ratio) Score:  63\n",
      "(Soundex) Actual:  B325\n",
      "(Soundex) Error:  B325\n",
      "(Metaphone) Actual:  BTSN INFXFL\n",
      "(Metaphone) Error:  BTSN IFNXFL\n",
      "(NYSIIS) Actual:  BDASAN\n",
      "(NYSIIS) Error:  BADSAN\n",
      "(Codex) Actual:  BDZHVL\n",
      "(Codex) Error:  BDZHVL\n",
      "\n",
      "\n",
      "FAILS: Bedzina Ivenishvili and Bidzina Ivanishvili\n",
      "(Fuzz Ratio) Score:  89\n",
      "(Partial Ratio) Score:  89\n",
      "(Partial Token Sort Ratio) Score:  89\n",
      "(Soundex) Actual:  B325\n",
      "(Soundex) Error:  B325\n",
      "(Metaphone) Actual:  BTSN IFNXFL\n",
      "(Metaphone) Error:  BTSN IFNXFL\n",
      "(NYSIIS) Actual:  BADSAN\n",
      "(NYSIIS) Error:  BADSAN\n",
      "(Codex) Actual:  BDZHVL\n",
      "(Codex) Error:  BDZHVL\n",
      "\n",
      "\n",
      "FAILS: Gan Cheok Yin and Bernard Kan Cheok Yin\n",
      "(Fuzz Ratio) Score:  71\n",
      "(Partial Ratio) Score:  92\n",
      "(Partial Token Sort Ratio) Score:  92\n",
      "(Soundex) Actual:  G522\n",
      "(Soundex) Error:  B656\n",
      "(Metaphone) Actual:  KN XK YN\n",
      "(Metaphone) Error:  BRNRT KN XK YN\n",
      "(NYSIIS) Actual:  GAN\n",
      "(NYSIIS) Error:  BARNARD\n",
      "(Codex) Actual:  GNCKYN\n",
      "(Codex) Error:  BRNKYN\n",
      "\n",
      "\n",
      "FAILS: Ng Yu Zhe and Ng Yu Zhi\n",
      "(Fuzz Ratio) Score:  89\n",
      "(Partial Ratio) Score:  89\n",
      "(Partial Token Sort Ratio) Score:  89\n",
      "(Soundex) Actual:  N220\n",
      "(Soundex) Error:  N220\n",
      "(Metaphone) Actual:  NK Y SH\n",
      "(Metaphone) Error:  NK Y SH\n",
      "(NYSIIS) Actual:  NG\n",
      "(NYSIIS) Error:  NG\n",
      "(Codex) Actual:  NGYZH\n",
      "(Codex) Error:  NGYZH\n",
      "\n",
      "\n",
      "FAILS: Ng Yu Zih and Ng Yu Zhi\n",
      "(Fuzz Ratio) Score:  89\n",
      "(Partial Ratio) Score:  89\n",
      "(Partial Token Sort Ratio) Score:  89\n",
      "(Soundex) Actual:  N220\n",
      "(Soundex) Error:  N220\n",
      "(Metaphone) Actual:  NK Y S\n",
      "(Metaphone) Error:  NK Y SH\n",
      "(NYSIIS) Actual:  NG\n",
      "(NYSIIS) Error:  NG\n",
      "(Codex) Actual:  NGYZH\n",
      "(Codex) Error:  NGYZH\n",
      "\n",
      "\n",
      "FAILS: LAI, Yong Qian and LAI, Yong Chian\n",
      "(Fuzz Ratio) Score:  90\n",
      "(Partial Ratio) Score:  86\n",
      "(Partial Token Sort Ratio) Score:  76\n",
      "(Soundex) Actual:  L522\n",
      "(Soundex) Error:  L522\n",
      "(Metaphone) Actual:  L YNK KN\n",
      "(Metaphone) Error:  L YNK XN\n",
      "(NYSIIS) Actual:  LA,\n",
      "(NYSIIS) Error:  LA,\n",
      "(Codex) Actual:  L,YGQN\n",
      "(Codex) Error:  L,YCHN\n",
      "\n",
      "\n",
      "FAILS: Ahmed Faisar and Ahmed Faysal\n",
      "(Fuzz Ratio) Score:  83\n",
      "(Partial Ratio) Score:  83\n",
      "(Partial Token Sort Ratio) Score:  83\n",
      "(Soundex) Actual:  A531\n",
      "(Soundex) Error:  A531\n",
      "(Metaphone) Actual:  AMT FSR\n",
      "(Metaphone) Error:  AMT FSL\n",
      "(NYSIIS) Actual:  ANAD\n",
      "(NYSIIS) Error:  ANAD\n",
      "(Codex) Actual:  AHMFSR\n",
      "(Codex) Error:  AHMYSL\n",
      "\n",
      "\n"
     ]
    }
   ],
   "metadata": {}
  },
  {
   "cell_type": "code",
   "execution_count": 112,
   "source": [
    "\n",
    "\n",
    "\n",
    "test_name_matching(\"Shawn Lee\" , \"Sean Lee\" )"
   ],
   "outputs": [
    {
     "output_type": "stream",
     "name": "stdout",
     "text": [
      "\n",
      "\n",
      "--- Shawn Lee  AND  Sean Lee ---\n",
      "(Token Sort Ratio) Score:  82\n",
      "(Partial Token Sort Ratio) Score:  75\n",
      "(Soundex) Actual:  S540\n",
      "(Soundex) Error:  S540\n",
      "(Metaphone) Actual:  XN L\n",
      "(Metaphone) Error:  SN L\n",
      "(NYSIIS) Actual:  SAN\n",
      "(NYSIIS) Error:  SAN\n",
      "(Codex) Actual:  SHWNL\n",
      "(Codex) Error:  SNL\n"
     ]
    }
   ],
   "metadata": {}
  },
  {
   "cell_type": "code",
   "execution_count": 14,
   "source": [
    "\n",
    "def split_name_list(name):\n",
    "    name = name.lower()\n",
    "    output = name.split(\" \")\n",
    "    return output\n",
    "\n",
    "split1 = split_name_list(\"Shawn Lee\")\n",
    "split2 = split_name_list(\"Lee Sean\")\n",
    "# split1 = split_name_list(\"Lage Vivien\")\n",
    "# split2 = split_name_list(\"Lange Vivian\")"
   ],
   "outputs": [],
   "metadata": {}
  },
  {
   "cell_type": "code",
   "execution_count": 23,
   "source": [
    "\n",
    "def phonetic_comparison(list1, list2):\n",
    "    meta_list1 = []\n",
    "    meta_list2 = []\n",
    "    nysiis_list1 = []\n",
    "    nysiis_list2 = []\n",
    "    for name_1 in list1:\n",
    "        meta_list1.append(jellyfish.metaphone(name_1))\n",
    "        nysiis_list1.append(jellyfish.nysiis(name_1))\n",
    "    for name_2 in list2:\n",
    "        meta_list2.append(jellyfish.metaphone(name_2))\n",
    "        nysiis_list2.append(jellyfish.nysiis(name_2))\n",
    "    # print(meta_list1, meta_list2)\n",
    "    # print(nysiis_list1, nysiis_list2)\n",
    "    if (set(meta_list1) == set(meta_list2)) or (set(nysiis_list1) == set(nysiis_list2)):\n",
    "        return True\n",
    "    else:\n",
    "        return False\n",
    "    # print(set(meta_list1) == set(meta_list2))\n",
    "    \n",
    "phonetic_comparison(split1, split2)"
   ],
   "outputs": [
    {
     "output_type": "execute_result",
     "data": {
      "text/plain": [
       "True"
      ]
     },
     "metadata": {},
     "execution_count": 23
    }
   ],
   "metadata": {}
  },
  {
   "cell_type": "code",
   "execution_count": 18,
   "source": [
    "\n",
    "names_dict = {\n",
    "    'gan' : ['kan','ban'],\n",
    "    'shawn' : ['sean', 'shon', 'shaun'],\n",
    "    'huang' : ['wang'],\n",
    "    'michael' : ['mikael'],\n",
    "    'joko' : ['djoko'],\n",
    "    # 'budy' : ['budi'],\n",
    "    'jang' : ['chang'],\n",
    "    'song' : ['sung', 'seong'],\n",
    "    'jo' : ['cho'],\n",
    "    'jun' : ['chun'],\n",
    "    'yong' : ['ryong'],\n",
    "    'jong' : ['jung'],\n",
    "    'hyeok' : ['hyok'],\n",
    "    'mun' : ['moon'],\n",
    "    'zhi' : ['zih'],\n",
    "    'qian' : ['chian'],\n",
    "    'kuin' : ['quin'],\n",
    "    \n",
    "}"
   ],
   "outputs": [],
   "metadata": {}
  },
  {
   "cell_type": "code",
   "execution_count": 19,
   "source": [
    "def preprocess_name(names_dict, word):\n",
    "    for key, value in names_dict.items():\n",
    "        if word in value:\n",
    "            return key\n",
    "    else:\n",
    "        return word\n",
    "    \n",
    "def stitch_name(list1):\n",
    "    output = ''\n",
    "    for x in range(len(list1)):\n",
    "        if x==0:\n",
    "            output += list1[x]\n",
    "        else:\n",
    "            output += ' ' + list1[x]\n",
    "    return output"
   ],
   "outputs": [],
   "metadata": {}
  },
  {
   "cell_type": "code",
   "execution_count": 20,
   "source": [
    "stitch_name(['lionel', 'lew'])"
   ],
   "outputs": [
    {
     "output_type": "execute_result",
     "data": {
      "text/plain": [
       "'lionel lew'"
      ]
     },
     "metadata": {},
     "execution_count": 20
    }
   ],
   "metadata": {}
  },
  {
   "cell_type": "code",
   "execution_count": 37,
   "source": [
    "\n",
    "\n",
    "\n",
    "# Algo flow\n",
    "# 1) Input 2 names - DONE\n",
    "\n",
    "def test_compiled_algo(name1, name2, names_dict):\n",
    "    threshold = 89\n",
    "# 2) Split names - DONE\n",
    "    split_list_1 = split_name_list(name1)\n",
    "    split_list_2 = split_name_list(name2)    \n",
    "\n",
    "# 3) Check each name with dictionary and map it to standardised name - CURRENT\n",
    "    for i in range(len(split_list_1)):\n",
    "        split_list_1[i] = preprocess_name(names_dict, split_list_1[i])\n",
    "    for i in range(len(split_list_2)):\n",
    "        split_list_2[i] = preprocess_name(names_dict, split_list_2[i])\n",
    "    \n",
    "    stitched_name1 = stitch_name(split_list_1)\n",
    "    stitched_name2 = stitch_name(split_list_2)\n",
    "    \n",
    "# 3) 1st layer of testing: Token Sort Ratio with threshold - DONE\n",
    "    score1 = fuzz.token_sort_ratio(stitched_name1, stitched_name2)\n",
    "    if score1 >= threshold:\n",
    "        print(\"Pass first layer Token Sort Ratio score of: \" + str(score1) + \" for names: \" + name1 + ' with ' + name2)\n",
    "        # do something\n",
    "# 4) 2nd layer of testing - Metaphone and NYSIIS phonetic encoding - DONE\n",
    "    else: \n",
    "        matched_phonetic = phonetic_comparison(split_list_1, split_list_2)\n",
    "        if matched_phonetic:\n",
    "            print(\"Pass second layer Phonetic Matching for names: \" + name1 + ' with ' + name2)\n",
    "            # Not sure whether to do fuzzy again for score but should be 100 score since pronounce exactly the same?\n",
    "        else: \n",
    "            print(\"Failed to match, score of \" + str(score1) + \": \" + name1 + ' with ' + name2)\n",
    "                \n",
    "        \n",
    "        \n",
    "        \n",
    "# Problems: \n",
    "# 1) Dont think it can handle big typos\n",
    "# 2) Is it assumed all Bern is Bernard, all Jess is Jessica etc?"
   ],
   "outputs": [],
   "metadata": {}
  },
  {
   "cell_type": "code",
   "execution_count": 38,
   "source": [
    "df_20 = df.sample(20)\n",
    "test_list = []\n",
    "for index, row in df_20.iterrows():\n",
    "    current_entry = []\n",
    "    current_entry.append(row[0])\n",
    "    current_entry.append(row[6])\n",
    "    test_list.append(current_entry)\n",
    "for both_names in test_list:\n",
    "    test_compiled_algo(both_names[0], both_names[1], names_dict)"
   ],
   "outputs": [
    {
     "output_type": "stream",
     "name": "stdout",
     "text": [
      "Pass first layer Token Sort Ratio score of: 100 for names: Jang Jang Ha with Chang Chang Ha\n",
      "Pass first layer Token Sort Ratio score of: 100 for names: TORIQUDDIN with TORIQUDDIN\n",
      "Pass first layer Token Sort Ratio score of: 96 for names: SHABRINA, Abu with SABRINA ABU\n",
      "Pass second layer Phonetic Matching for names: Lucioooo Tam with Lucio Tan\n",
      "Pass first layer Token Sort Ratio score of: 100 for names: Budi Santoso with Budi Santoso\n",
      "Pass first layer Token Sort Ratio score of: 89 for names: Hnug Kni Sing Jimmy with Hung Kin Sing Jimmy\n",
      "Pass first layer Token Sort Ratio score of: 100 for names: Chang Chang Ha with Chang Chang Ha\n",
      "Pass first layer Token Sort Ratio score of: 100 for names: Hock Yen Chong with Chong Hock Yen\n",
      "Pass first layer Token Sort Ratio score of: 100 for names: Son Jung Hyok with Son Jong Hyok\n",
      "Pass first layer Token Sort Ratio score of: 100 for names: Purisima Alan with Alan Purisima\n",
      "Pass first layer Token Sort Ratio score of: 100 for names: SYAH, Heris with SYAH, Heris\n",
      "Pass first layer Token Sort Ratio score of: 100 for names: UMANGIS MIKE with UMANGIS MIKE\n",
      "Failed to match, score of 87: Laeg Vivian with Lange Vivian\n",
      "Pass first layer Token Sort Ratio score of: 89 for names: Bedzina Ivenishvili with Bidzina Ivanishvili\n",
      "Pass first layer Token Sort Ratio score of: 100 for names: Kheng Ng Wah with Ng Kheng Wah\n",
      "Pass first layer Token Sort Ratio score of: 100 for names: Teo Cheng Kiat with Teo Cheng Kiat\n",
      "Pass first layer Token Sort Ratio score of: 95 for names: Park Chun il with Pak Chun il\n",
      "Failed to match, score of 70: Pak chun li with Pak Chun il\n",
      "Pass first layer Token Sort Ratio score of: 100 for names: PETER SONDAKH with PETER SONDAKH\n",
      "Pass first layer Token Sort Ratio score of: 93 for names: Kimm Chol Songg with Kim Song Chol\n"
     ]
    }
   ],
   "metadata": {}
  },
  {
   "cell_type": "code",
   "execution_count": 39,
   "source": [
    "# transcription_df = df.loc[df['Type of variation (if any)']=='Transcription']\n",
    "# transcription_df"
   ],
   "outputs": [],
   "metadata": {}
  },
  {
   "cell_type": "code",
   "execution_count": null,
   "source": [],
   "outputs": [],
   "metadata": {}
  }
 ],
 "metadata": {
  "orig_nbformat": 4,
  "language_info": {
   "name": "python",
   "version": "3.8.5",
   "mimetype": "text/x-python",
   "codemirror_mode": {
    "name": "ipython",
    "version": 3
   },
   "pygments_lexer": "ipython3",
   "nbconvert_exporter": "python",
   "file_extension": ".py"
  },
  "kernelspec": {
   "name": "python3",
   "display_name": "Python 3.8.5 64-bit"
  },
  "interpreter": {
   "hash": "aee8b7b246df8f9039afb4144a1f6fd8d2ca17a180786b69acc140d282b71a49"
  }
 },
 "nbformat": 4,
 "nbformat_minor": 2
}